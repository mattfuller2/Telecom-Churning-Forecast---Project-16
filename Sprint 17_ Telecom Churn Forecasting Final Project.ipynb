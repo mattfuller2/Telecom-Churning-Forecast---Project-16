{
 "cells": [
  {
   "cell_type": "markdown",
   "id": "6b94ae7b",
   "metadata": {},
   "source": [
    "# Sprint 17: Telecom Churn Forecasting Project\n",
    "\n",
    "# Overview\n",
    "\n",
    "The goal of the project is to forecast customer churn for the telecom operator Interconnect. If a user is predicted to churn, they will be targeted with retention offers. The project will involve building a model to predict churn, evaluating it using the AUC-ROC metric, and optimizing it to maximize accuracy and AUC-ROC.\n",
    "\n",
    "---\n",
    "\n",
    "## Data Exploration and Preprocessing\n",
    "\n",
    "### Data Loading\n",
    "Let's start by loading the datasets from `/datasets/final_provider/`."
   ]
  },
  {
   "cell_type": "code",
   "execution_count": 1,
   "id": "3a5bf6bb",
   "metadata": {},
   "outputs": [
    {
     "name": "stdout",
     "output_type": "stream",
     "text": [
      "Requirement already satisfied: imbalanced-learn in /home/jovyan/.local/lib/python3.9/site-packages (0.12.4)\n",
      "Requirement already satisfied: numpy>=1.17.3 in /opt/conda/envs/python3/lib/python3.9/site-packages (from imbalanced-learn) (1.21.2)\n",
      "Requirement already satisfied: scipy>=1.5.0 in /opt/conda/envs/python3/lib/python3.9/site-packages (from imbalanced-learn) (1.10.1)\n",
      "Requirement already satisfied: scikit-learn>=1.0.2 in /home/jovyan/.local/lib/python3.9/site-packages (from imbalanced-learn) (1.5.2)\n",
      "Requirement already satisfied: joblib>=1.1.1 in /opt/conda/envs/python3/lib/python3.9/site-packages (from imbalanced-learn) (1.4.2)\n",
      "Requirement already satisfied: threadpoolctl>=2.0.0 in /opt/conda/envs/python3/lib/python3.9/site-packages (from imbalanced-learn) (3.5.0)\n",
      "Note: you may need to restart the kernel to use updated packages.\n"
     ]
    }
   ],
   "source": [
    "pip install --user imbalanced-learn"
   ]
  },
  {
   "cell_type": "code",
   "execution_count": 2,
   "id": "5334877e",
   "metadata": {},
   "outputs": [],
   "source": [
    "import pandas as pd\n",
    "import numpy as np\n",
    "from datetime import datetime\n",
    "from sklearn.model_selection import train_test_split\n",
    "from sklearn.linear_model import LogisticRegression\n",
    "from sklearn.metrics import roc_auc_score, accuracy_score\n",
    "from sklearn.preprocessing import StandardScaler\n",
    "from sklearn.ensemble import RandomForestClassifier, StackingClassifier, VotingClassifier\n",
    "from sklearn.model_selection import GridSearchCV, cross_val_score\n",
    "from xgboost import XGBClassifier\n",
    "from imblearn.over_sampling import SMOTE\n",
    "import xgboost as xgb\n",
    "from sklearn.svm import SVC\n",
    "from sklearn.ensemble import VotingClassifier\n",
    "import lightgbm as lgb\n",
    "import warnings\n",
    "warnings.filterwarnings('ignore')\n",
    "\n",
    "\n"
   ]
  },
  {
   "cell_type": "code",
   "execution_count": 3,
   "id": "46e11146",
   "metadata": {},
   "outputs": [
    {
     "data": {
      "text/html": [
       "<div>\n",
       "<style scoped>\n",
       "    .dataframe tbody tr th:only-of-type {\n",
       "        vertical-align: middle;\n",
       "    }\n",
       "\n",
       "    .dataframe tbody tr th {\n",
       "        vertical-align: top;\n",
       "    }\n",
       "\n",
       "    .dataframe thead th {\n",
       "        text-align: right;\n",
       "    }\n",
       "</style>\n",
       "<table border=\"1\" class=\"dataframe\">\n",
       "  <thead>\n",
       "    <tr style=\"text-align: right;\">\n",
       "      <th></th>\n",
       "      <th>customerID</th>\n",
       "      <th>BeginDate</th>\n",
       "      <th>EndDate</th>\n",
       "      <th>Type</th>\n",
       "      <th>PaperlessBilling</th>\n",
       "      <th>PaymentMethod</th>\n",
       "      <th>MonthlyCharges</th>\n",
       "      <th>TotalCharges</th>\n",
       "    </tr>\n",
       "  </thead>\n",
       "  <tbody>\n",
       "    <tr>\n",
       "      <th>0</th>\n",
       "      <td>7590-VHVEG</td>\n",
       "      <td>2020-01-01</td>\n",
       "      <td>No</td>\n",
       "      <td>Month-to-month</td>\n",
       "      <td>Yes</td>\n",
       "      <td>Electronic check</td>\n",
       "      <td>29.85</td>\n",
       "      <td>29.85</td>\n",
       "    </tr>\n",
       "    <tr>\n",
       "      <th>1</th>\n",
       "      <td>5575-GNVDE</td>\n",
       "      <td>2017-04-01</td>\n",
       "      <td>No</td>\n",
       "      <td>One year</td>\n",
       "      <td>No</td>\n",
       "      <td>Mailed check</td>\n",
       "      <td>56.95</td>\n",
       "      <td>1889.5</td>\n",
       "    </tr>\n",
       "    <tr>\n",
       "      <th>2</th>\n",
       "      <td>3668-QPYBK</td>\n",
       "      <td>2019-10-01</td>\n",
       "      <td>2019-12-01 00:00:00</td>\n",
       "      <td>Month-to-month</td>\n",
       "      <td>Yes</td>\n",
       "      <td>Mailed check</td>\n",
       "      <td>53.85</td>\n",
       "      <td>108.15</td>\n",
       "    </tr>\n",
       "    <tr>\n",
       "      <th>3</th>\n",
       "      <td>7795-CFOCW</td>\n",
       "      <td>2016-05-01</td>\n",
       "      <td>No</td>\n",
       "      <td>One year</td>\n",
       "      <td>No</td>\n",
       "      <td>Bank transfer (automatic)</td>\n",
       "      <td>42.30</td>\n",
       "      <td>1840.75</td>\n",
       "    </tr>\n",
       "    <tr>\n",
       "      <th>4</th>\n",
       "      <td>9237-HQITU</td>\n",
       "      <td>2019-09-01</td>\n",
       "      <td>2019-11-01 00:00:00</td>\n",
       "      <td>Month-to-month</td>\n",
       "      <td>Yes</td>\n",
       "      <td>Electronic check</td>\n",
       "      <td>70.70</td>\n",
       "      <td>151.65</td>\n",
       "    </tr>\n",
       "  </tbody>\n",
       "</table>\n",
       "</div>"
      ],
      "text/plain": [
       "   customerID   BeginDate              EndDate            Type  \\\n",
       "0  7590-VHVEG  2020-01-01                   No  Month-to-month   \n",
       "1  5575-GNVDE  2017-04-01                   No        One year   \n",
       "2  3668-QPYBK  2019-10-01  2019-12-01 00:00:00  Month-to-month   \n",
       "3  7795-CFOCW  2016-05-01                   No        One year   \n",
       "4  9237-HQITU  2019-09-01  2019-11-01 00:00:00  Month-to-month   \n",
       "\n",
       "  PaperlessBilling              PaymentMethod  MonthlyCharges TotalCharges  \n",
       "0              Yes           Electronic check           29.85        29.85  \n",
       "1               No               Mailed check           56.95       1889.5  \n",
       "2              Yes               Mailed check           53.85       108.15  \n",
       "3               No  Bank transfer (automatic)           42.30      1840.75  \n",
       "4              Yes           Electronic check           70.70       151.65  "
      ]
     },
     "metadata": {},
     "output_type": "display_data"
    },
    {
     "data": {
      "text/html": [
       "<div>\n",
       "<style scoped>\n",
       "    .dataframe tbody tr th:only-of-type {\n",
       "        vertical-align: middle;\n",
       "    }\n",
       "\n",
       "    .dataframe tbody tr th {\n",
       "        vertical-align: top;\n",
       "    }\n",
       "\n",
       "    .dataframe thead th {\n",
       "        text-align: right;\n",
       "    }\n",
       "</style>\n",
       "<table border=\"1\" class=\"dataframe\">\n",
       "  <thead>\n",
       "    <tr style=\"text-align: right;\">\n",
       "      <th></th>\n",
       "      <th>customerID</th>\n",
       "      <th>gender</th>\n",
       "      <th>SeniorCitizen</th>\n",
       "      <th>Partner</th>\n",
       "      <th>Dependents</th>\n",
       "    </tr>\n",
       "  </thead>\n",
       "  <tbody>\n",
       "    <tr>\n",
       "      <th>0</th>\n",
       "      <td>7590-VHVEG</td>\n",
       "      <td>Female</td>\n",
       "      <td>0</td>\n",
       "      <td>Yes</td>\n",
       "      <td>No</td>\n",
       "    </tr>\n",
       "    <tr>\n",
       "      <th>1</th>\n",
       "      <td>5575-GNVDE</td>\n",
       "      <td>Male</td>\n",
       "      <td>0</td>\n",
       "      <td>No</td>\n",
       "      <td>No</td>\n",
       "    </tr>\n",
       "    <tr>\n",
       "      <th>2</th>\n",
       "      <td>3668-QPYBK</td>\n",
       "      <td>Male</td>\n",
       "      <td>0</td>\n",
       "      <td>No</td>\n",
       "      <td>No</td>\n",
       "    </tr>\n",
       "    <tr>\n",
       "      <th>3</th>\n",
       "      <td>7795-CFOCW</td>\n",
       "      <td>Male</td>\n",
       "      <td>0</td>\n",
       "      <td>No</td>\n",
       "      <td>No</td>\n",
       "    </tr>\n",
       "    <tr>\n",
       "      <th>4</th>\n",
       "      <td>9237-HQITU</td>\n",
       "      <td>Female</td>\n",
       "      <td>0</td>\n",
       "      <td>No</td>\n",
       "      <td>No</td>\n",
       "    </tr>\n",
       "  </tbody>\n",
       "</table>\n",
       "</div>"
      ],
      "text/plain": [
       "   customerID  gender  SeniorCitizen Partner Dependents\n",
       "0  7590-VHVEG  Female              0     Yes         No\n",
       "1  5575-GNVDE    Male              0      No         No\n",
       "2  3668-QPYBK    Male              0      No         No\n",
       "3  7795-CFOCW    Male              0      No         No\n",
       "4  9237-HQITU  Female              0      No         No"
      ]
     },
     "metadata": {},
     "output_type": "display_data"
    },
    {
     "data": {
      "text/html": [
       "<div>\n",
       "<style scoped>\n",
       "    .dataframe tbody tr th:only-of-type {\n",
       "        vertical-align: middle;\n",
       "    }\n",
       "\n",
       "    .dataframe tbody tr th {\n",
       "        vertical-align: top;\n",
       "    }\n",
       "\n",
       "    .dataframe thead th {\n",
       "        text-align: right;\n",
       "    }\n",
       "</style>\n",
       "<table border=\"1\" class=\"dataframe\">\n",
       "  <thead>\n",
       "    <tr style=\"text-align: right;\">\n",
       "      <th></th>\n",
       "      <th>customerID</th>\n",
       "      <th>InternetService</th>\n",
       "      <th>OnlineSecurity</th>\n",
       "      <th>OnlineBackup</th>\n",
       "      <th>DeviceProtection</th>\n",
       "      <th>TechSupport</th>\n",
       "      <th>StreamingTV</th>\n",
       "      <th>StreamingMovies</th>\n",
       "    </tr>\n",
       "  </thead>\n",
       "  <tbody>\n",
       "    <tr>\n",
       "      <th>0</th>\n",
       "      <td>7590-VHVEG</td>\n",
       "      <td>DSL</td>\n",
       "      <td>No</td>\n",
       "      <td>Yes</td>\n",
       "      <td>No</td>\n",
       "      <td>No</td>\n",
       "      <td>No</td>\n",
       "      <td>No</td>\n",
       "    </tr>\n",
       "    <tr>\n",
       "      <th>1</th>\n",
       "      <td>5575-GNVDE</td>\n",
       "      <td>DSL</td>\n",
       "      <td>Yes</td>\n",
       "      <td>No</td>\n",
       "      <td>Yes</td>\n",
       "      <td>No</td>\n",
       "      <td>No</td>\n",
       "      <td>No</td>\n",
       "    </tr>\n",
       "    <tr>\n",
       "      <th>2</th>\n",
       "      <td>3668-QPYBK</td>\n",
       "      <td>DSL</td>\n",
       "      <td>Yes</td>\n",
       "      <td>Yes</td>\n",
       "      <td>No</td>\n",
       "      <td>No</td>\n",
       "      <td>No</td>\n",
       "      <td>No</td>\n",
       "    </tr>\n",
       "    <tr>\n",
       "      <th>3</th>\n",
       "      <td>7795-CFOCW</td>\n",
       "      <td>DSL</td>\n",
       "      <td>Yes</td>\n",
       "      <td>No</td>\n",
       "      <td>Yes</td>\n",
       "      <td>Yes</td>\n",
       "      <td>No</td>\n",
       "      <td>No</td>\n",
       "    </tr>\n",
       "    <tr>\n",
       "      <th>4</th>\n",
       "      <td>9237-HQITU</td>\n",
       "      <td>Fiber optic</td>\n",
       "      <td>No</td>\n",
       "      <td>No</td>\n",
       "      <td>No</td>\n",
       "      <td>No</td>\n",
       "      <td>No</td>\n",
       "      <td>No</td>\n",
       "    </tr>\n",
       "  </tbody>\n",
       "</table>\n",
       "</div>"
      ],
      "text/plain": [
       "   customerID InternetService OnlineSecurity OnlineBackup DeviceProtection  \\\n",
       "0  7590-VHVEG             DSL             No          Yes               No   \n",
       "1  5575-GNVDE             DSL            Yes           No              Yes   \n",
       "2  3668-QPYBK             DSL            Yes          Yes               No   \n",
       "3  7795-CFOCW             DSL            Yes           No              Yes   \n",
       "4  9237-HQITU     Fiber optic             No           No               No   \n",
       "\n",
       "  TechSupport StreamingTV StreamingMovies  \n",
       "0          No          No              No  \n",
       "1          No          No              No  \n",
       "2          No          No              No  \n",
       "3         Yes          No              No  \n",
       "4          No          No              No  "
      ]
     },
     "metadata": {},
     "output_type": "display_data"
    },
    {
     "data": {
      "text/html": [
       "<div>\n",
       "<style scoped>\n",
       "    .dataframe tbody tr th:only-of-type {\n",
       "        vertical-align: middle;\n",
       "    }\n",
       "\n",
       "    .dataframe tbody tr th {\n",
       "        vertical-align: top;\n",
       "    }\n",
       "\n",
       "    .dataframe thead th {\n",
       "        text-align: right;\n",
       "    }\n",
       "</style>\n",
       "<table border=\"1\" class=\"dataframe\">\n",
       "  <thead>\n",
       "    <tr style=\"text-align: right;\">\n",
       "      <th></th>\n",
       "      <th>customerID</th>\n",
       "      <th>MultipleLines</th>\n",
       "    </tr>\n",
       "  </thead>\n",
       "  <tbody>\n",
       "    <tr>\n",
       "      <th>0</th>\n",
       "      <td>5575-GNVDE</td>\n",
       "      <td>No</td>\n",
       "    </tr>\n",
       "    <tr>\n",
       "      <th>1</th>\n",
       "      <td>3668-QPYBK</td>\n",
       "      <td>No</td>\n",
       "    </tr>\n",
       "    <tr>\n",
       "      <th>2</th>\n",
       "      <td>9237-HQITU</td>\n",
       "      <td>No</td>\n",
       "    </tr>\n",
       "    <tr>\n",
       "      <th>3</th>\n",
       "      <td>9305-CDSKC</td>\n",
       "      <td>Yes</td>\n",
       "    </tr>\n",
       "    <tr>\n",
       "      <th>4</th>\n",
       "      <td>1452-KIOVK</td>\n",
       "      <td>Yes</td>\n",
       "    </tr>\n",
       "  </tbody>\n",
       "</table>\n",
       "</div>"
      ],
      "text/plain": [
       "   customerID MultipleLines\n",
       "0  5575-GNVDE            No\n",
       "1  3668-QPYBK            No\n",
       "2  9237-HQITU            No\n",
       "3  9305-CDSKC           Yes\n",
       "4  1452-KIOVK           Yes"
      ]
     },
     "metadata": {},
     "output_type": "display_data"
    }
   ],
   "source": [
    "# File paths for datasets\n",
    "contract_path = '/datasets/final_provider/contract.csv'\n",
    "personal_path = '/datasets/final_provider/personal.csv'\n",
    "internet_path = '/datasets/final_provider/internet.csv'\n",
    "phone_path = '/datasets/final_provider/phone.csv'\n",
    "\n",
    "# Load datasets\n",
    "contract = pd.read_csv(contract_path)\n",
    "personal = pd.read_csv(personal_path)\n",
    "internet = pd.read_csv(internet_path)\n",
    "phone = pd.read_csv(phone_path)\n",
    "\n",
    "# Display the first few rows of each dataset\n",
    "display(contract.head(), personal.head(), internet.head(), phone.head())"
   ]
  },
  {
   "cell_type": "markdown",
   "id": "a4ecd7f0",
   "metadata": {},
   "source": [
    "### Data Overview"
   ]
  },
  {
   "cell_type": "code",
   "execution_count": 4,
   "id": "6d7288ec",
   "metadata": {},
   "outputs": [
    {
     "name": "stdout",
     "output_type": "stream",
     "text": [
      "Contract Data Info:\n",
      "<class 'pandas.core.frame.DataFrame'>\n",
      "RangeIndex: 7043 entries, 0 to 7042\n",
      "Data columns (total 8 columns):\n",
      " #   Column            Non-Null Count  Dtype  \n",
      "---  ------            --------------  -----  \n",
      " 0   customerID        7043 non-null   object \n",
      " 1   BeginDate         7043 non-null   object \n",
      " 2   EndDate           7043 non-null   object \n",
      " 3   Type              7043 non-null   object \n",
      " 4   PaperlessBilling  7043 non-null   object \n",
      " 5   PaymentMethod     7043 non-null   object \n",
      " 6   MonthlyCharges    7043 non-null   float64\n",
      " 7   TotalCharges      7043 non-null   object \n",
      "dtypes: float64(1), object(7)\n",
      "memory usage: 440.3+ KB\n",
      "\n",
      "\n",
      "Personal Data Info:\n",
      "<class 'pandas.core.frame.DataFrame'>\n",
      "RangeIndex: 7043 entries, 0 to 7042\n",
      "Data columns (total 5 columns):\n",
      " #   Column         Non-Null Count  Dtype \n",
      "---  ------         --------------  ----- \n",
      " 0   customerID     7043 non-null   object\n",
      " 1   gender         7043 non-null   object\n",
      " 2   SeniorCitizen  7043 non-null   int64 \n",
      " 3   Partner        7043 non-null   object\n",
      " 4   Dependents     7043 non-null   object\n",
      "dtypes: int64(1), object(4)\n",
      "memory usage: 275.2+ KB\n",
      "\n",
      "\n",
      "Internet Data Info:\n",
      "<class 'pandas.core.frame.DataFrame'>\n",
      "RangeIndex: 5517 entries, 0 to 5516\n",
      "Data columns (total 8 columns):\n",
      " #   Column            Non-Null Count  Dtype \n",
      "---  ------            --------------  ----- \n",
      " 0   customerID        5517 non-null   object\n",
      " 1   InternetService   5517 non-null   object\n",
      " 2   OnlineSecurity    5517 non-null   object\n",
      " 3   OnlineBackup      5517 non-null   object\n",
      " 4   DeviceProtection  5517 non-null   object\n",
      " 5   TechSupport       5517 non-null   object\n",
      " 6   StreamingTV       5517 non-null   object\n",
      " 7   StreamingMovies   5517 non-null   object\n",
      "dtypes: object(8)\n",
      "memory usage: 344.9+ KB\n",
      "\n",
      "\n",
      "Phone Data Info:\n",
      "<class 'pandas.core.frame.DataFrame'>\n",
      "RangeIndex: 6361 entries, 0 to 6360\n",
      "Data columns (total 2 columns):\n",
      " #   Column         Non-Null Count  Dtype \n",
      "---  ------         --------------  ----- \n",
      " 0   customerID     6361 non-null   object\n",
      " 1   MultipleLines  6361 non-null   object\n",
      "dtypes: object(2)\n",
      "memory usage: 99.5+ KB\n",
      "\n",
      "Contract duplicates: 0\n",
      "Personal duplicates: 0\n",
      "Internet duplicates: 0\n",
      "Phone duplicates: 0\n"
     ]
    }
   ],
   "source": [
    "# Checking data structure\n",
    "print(\"Contract Data Info:\")\n",
    "contract.info()\n",
    "print()\n",
    "print(\"\\nPersonal Data Info:\")\n",
    "personal.info()\n",
    "print()\n",
    "print(\"\\nInternet Data Info:\")\n",
    "internet.info()\n",
    "print()\n",
    "print(\"\\nPhone Data Info:\")\n",
    "phone.info()\n",
    "print()\n",
    "\n",
    "# Checking for duplicates\n",
    "print(f\"Contract duplicates: {contract.duplicated().sum()}\")\n",
    "print(f\"Personal duplicates: {personal.duplicated().sum()}\")\n",
    "print(f\"Internet duplicates: {internet.duplicated().sum()}\")\n",
    "print(f\"Phone duplicates: {phone.duplicated().sum()}\")\n"
   ]
  },
  {
   "cell_type": "markdown",
   "id": "1345f866",
   "metadata": {},
   "source": [
    "### Data Cleaning"
   ]
  },
  {
   "cell_type": "code",
   "execution_count": 5,
   "id": "e2932ced",
   "metadata": {},
   "outputs": [
    {
     "name": "stdout",
     "output_type": "stream",
     "text": [
      "Missing values in contract data:\n",
      "customerID          0\n",
      "BeginDate           0\n",
      "EndDate             0\n",
      "Type                0\n",
      "PaperlessBilling    0\n",
      "PaymentMethod       0\n",
      "MonthlyCharges      0\n",
      "TotalCharges        0\n",
      "dtype: int64\n",
      "Missing values in personal data:\n",
      "customerID       0\n",
      "gender           0\n",
      "SeniorCitizen    0\n",
      "Partner          0\n",
      "Dependents       0\n",
      "dtype: int64\n",
      "Missing values in internet data:\n",
      "customerID          0\n",
      "InternetService     0\n",
      "OnlineSecurity      0\n",
      "OnlineBackup        0\n",
      "DeviceProtection    0\n",
      "TechSupport         0\n",
      "StreamingTV         0\n",
      "StreamingMovies     0\n",
      "dtype: int64\n",
      "Missing values in phone data:\n",
      "customerID       0\n",
      "MultipleLines    0\n",
      "dtype: int64\n"
     ]
    },
    {
     "data": {
      "text/html": [
       "<div>\n",
       "<style scoped>\n",
       "    .dataframe tbody tr th:only-of-type {\n",
       "        vertical-align: middle;\n",
       "    }\n",
       "\n",
       "    .dataframe tbody tr th {\n",
       "        vertical-align: top;\n",
       "    }\n",
       "\n",
       "    .dataframe thead th {\n",
       "        text-align: right;\n",
       "    }\n",
       "</style>\n",
       "<table border=\"1\" class=\"dataframe\">\n",
       "  <thead>\n",
       "    <tr style=\"text-align: right;\">\n",
       "      <th></th>\n",
       "      <th>customerID</th>\n",
       "      <th>BeginDate</th>\n",
       "      <th>EndDate</th>\n",
       "      <th>Type</th>\n",
       "      <th>PaperlessBilling</th>\n",
       "      <th>PaymentMethod</th>\n",
       "      <th>MonthlyCharges</th>\n",
       "      <th>TotalCharges</th>\n",
       "      <th>gender</th>\n",
       "      <th>SeniorCitizen</th>\n",
       "      <th>Partner</th>\n",
       "      <th>Dependents</th>\n",
       "      <th>InternetService</th>\n",
       "      <th>OnlineSecurity</th>\n",
       "      <th>OnlineBackup</th>\n",
       "      <th>DeviceProtection</th>\n",
       "      <th>TechSupport</th>\n",
       "      <th>StreamingTV</th>\n",
       "      <th>StreamingMovies</th>\n",
       "      <th>MultipleLines</th>\n",
       "    </tr>\n",
       "  </thead>\n",
       "  <tbody>\n",
       "    <tr>\n",
       "      <th>0</th>\n",
       "      <td>7590-VHVEG</td>\n",
       "      <td>2020-01-01</td>\n",
       "      <td>No</td>\n",
       "      <td>Month-to-month</td>\n",
       "      <td>Yes</td>\n",
       "      <td>Electronic check</td>\n",
       "      <td>29.85</td>\n",
       "      <td>29.85</td>\n",
       "      <td>Female</td>\n",
       "      <td>0</td>\n",
       "      <td>Yes</td>\n",
       "      <td>No</td>\n",
       "      <td>DSL</td>\n",
       "      <td>No</td>\n",
       "      <td>Yes</td>\n",
       "      <td>No</td>\n",
       "      <td>No</td>\n",
       "      <td>No</td>\n",
       "      <td>No</td>\n",
       "      <td>NaN</td>\n",
       "    </tr>\n",
       "    <tr>\n",
       "      <th>1</th>\n",
       "      <td>5575-GNVDE</td>\n",
       "      <td>2017-04-01</td>\n",
       "      <td>No</td>\n",
       "      <td>One year</td>\n",
       "      <td>No</td>\n",
       "      <td>Mailed check</td>\n",
       "      <td>56.95</td>\n",
       "      <td>1889.5</td>\n",
       "      <td>Male</td>\n",
       "      <td>0</td>\n",
       "      <td>No</td>\n",
       "      <td>No</td>\n",
       "      <td>DSL</td>\n",
       "      <td>Yes</td>\n",
       "      <td>No</td>\n",
       "      <td>Yes</td>\n",
       "      <td>No</td>\n",
       "      <td>No</td>\n",
       "      <td>No</td>\n",
       "      <td>No</td>\n",
       "    </tr>\n",
       "    <tr>\n",
       "      <th>2</th>\n",
       "      <td>3668-QPYBK</td>\n",
       "      <td>2019-10-01</td>\n",
       "      <td>2019-12-01 00:00:00</td>\n",
       "      <td>Month-to-month</td>\n",
       "      <td>Yes</td>\n",
       "      <td>Mailed check</td>\n",
       "      <td>53.85</td>\n",
       "      <td>108.15</td>\n",
       "      <td>Male</td>\n",
       "      <td>0</td>\n",
       "      <td>No</td>\n",
       "      <td>No</td>\n",
       "      <td>DSL</td>\n",
       "      <td>Yes</td>\n",
       "      <td>Yes</td>\n",
       "      <td>No</td>\n",
       "      <td>No</td>\n",
       "      <td>No</td>\n",
       "      <td>No</td>\n",
       "      <td>No</td>\n",
       "    </tr>\n",
       "    <tr>\n",
       "      <th>3</th>\n",
       "      <td>7795-CFOCW</td>\n",
       "      <td>2016-05-01</td>\n",
       "      <td>No</td>\n",
       "      <td>One year</td>\n",
       "      <td>No</td>\n",
       "      <td>Bank transfer (automatic)</td>\n",
       "      <td>42.30</td>\n",
       "      <td>1840.75</td>\n",
       "      <td>Male</td>\n",
       "      <td>0</td>\n",
       "      <td>No</td>\n",
       "      <td>No</td>\n",
       "      <td>DSL</td>\n",
       "      <td>Yes</td>\n",
       "      <td>No</td>\n",
       "      <td>Yes</td>\n",
       "      <td>Yes</td>\n",
       "      <td>No</td>\n",
       "      <td>No</td>\n",
       "      <td>NaN</td>\n",
       "    </tr>\n",
       "    <tr>\n",
       "      <th>4</th>\n",
       "      <td>9237-HQITU</td>\n",
       "      <td>2019-09-01</td>\n",
       "      <td>2019-11-01 00:00:00</td>\n",
       "      <td>Month-to-month</td>\n",
       "      <td>Yes</td>\n",
       "      <td>Electronic check</td>\n",
       "      <td>70.70</td>\n",
       "      <td>151.65</td>\n",
       "      <td>Female</td>\n",
       "      <td>0</td>\n",
       "      <td>No</td>\n",
       "      <td>No</td>\n",
       "      <td>Fiber optic</td>\n",
       "      <td>No</td>\n",
       "      <td>No</td>\n",
       "      <td>No</td>\n",
       "      <td>No</td>\n",
       "      <td>No</td>\n",
       "      <td>No</td>\n",
       "      <td>No</td>\n",
       "    </tr>\n",
       "  </tbody>\n",
       "</table>\n",
       "</div>"
      ],
      "text/plain": [
       "   customerID   BeginDate              EndDate            Type  \\\n",
       "0  7590-VHVEG  2020-01-01                   No  Month-to-month   \n",
       "1  5575-GNVDE  2017-04-01                   No        One year   \n",
       "2  3668-QPYBK  2019-10-01  2019-12-01 00:00:00  Month-to-month   \n",
       "3  7795-CFOCW  2016-05-01                   No        One year   \n",
       "4  9237-HQITU  2019-09-01  2019-11-01 00:00:00  Month-to-month   \n",
       "\n",
       "  PaperlessBilling              PaymentMethod  MonthlyCharges TotalCharges  \\\n",
       "0              Yes           Electronic check           29.85        29.85   \n",
       "1               No               Mailed check           56.95       1889.5   \n",
       "2              Yes               Mailed check           53.85       108.15   \n",
       "3               No  Bank transfer (automatic)           42.30      1840.75   \n",
       "4              Yes           Electronic check           70.70       151.65   \n",
       "\n",
       "   gender  SeniorCitizen Partner Dependents InternetService OnlineSecurity  \\\n",
       "0  Female              0     Yes         No             DSL             No   \n",
       "1    Male              0      No         No             DSL            Yes   \n",
       "2    Male              0      No         No             DSL            Yes   \n",
       "3    Male              0      No         No             DSL            Yes   \n",
       "4  Female              0      No         No     Fiber optic             No   \n",
       "\n",
       "  OnlineBackup DeviceProtection TechSupport StreamingTV StreamingMovies  \\\n",
       "0          Yes               No          No          No              No   \n",
       "1           No              Yes          No          No              No   \n",
       "2          Yes               No          No          No              No   \n",
       "3           No              Yes         Yes          No              No   \n",
       "4           No               No          No          No              No   \n",
       "\n",
       "  MultipleLines  \n",
       "0           NaN  \n",
       "1            No  \n",
       "2            No  \n",
       "3           NaN  \n",
       "4            No  "
      ]
     },
     "metadata": {},
     "output_type": "display_data"
    }
   ],
   "source": [
    "# Checking for missing values\n",
    "print(\"Missing values in contract data:\")\n",
    "print(contract.isna().sum())\n",
    "\n",
    "print(\"Missing values in personal data:\")\n",
    "print(personal.isna().sum())\n",
    "\n",
    "print(\"Missing values in internet data:\")\n",
    "print(internet.isna().sum())\n",
    "\n",
    "print(\"Missing values in phone data:\")\n",
    "print(phone.isna().sum())\n",
    "\n",
    "# Fill missing values with appropriate strategies\n",
    "internet.fillna('No', inplace=True)\n",
    "phone.fillna('No', inplace=True)\n",
    "# If other strategies are necessary, apply here\n",
    "\n",
    "# Merge datasets on 'customerID'\n",
    "merged_data = contract.merge(personal, on='customerID', how='left')\\\n",
    "                      .merge(internet, on='customerID', how='left')\\\n",
    "                      .merge(phone, on='customerID', how='left')\n",
    "\n",
    "# Display the merged dataset\n",
    "display(merged_data.head())\n"
   ]
  },
  {
   "cell_type": "markdown",
   "id": "3628a8e6",
   "metadata": {},
   "source": [
    "### Data Inspection"
   ]
  },
  {
   "cell_type": "code",
   "execution_count": 6,
   "id": "73a44692",
   "metadata": {},
   "outputs": [
    {
     "name": "stdout",
     "output_type": "stream",
     "text": [
      "<class 'pandas.core.frame.DataFrame'>\n",
      "Int64Index: 7043 entries, 0 to 7042\n",
      "Data columns (total 20 columns):\n",
      " #   Column            Non-Null Count  Dtype  \n",
      "---  ------            --------------  -----  \n",
      " 0   customerID        7043 non-null   object \n",
      " 1   BeginDate         7043 non-null   object \n",
      " 2   EndDate           7043 non-null   object \n",
      " 3   Type              7043 non-null   object \n",
      " 4   PaperlessBilling  7043 non-null   object \n",
      " 5   PaymentMethod     7043 non-null   object \n",
      " 6   MonthlyCharges    7043 non-null   float64\n",
      " 7   TotalCharges      7043 non-null   object \n",
      " 8   gender            7043 non-null   object \n",
      " 9   SeniorCitizen     7043 non-null   int64  \n",
      " 10  Partner           7043 non-null   object \n",
      " 11  Dependents        7043 non-null   object \n",
      " 12  InternetService   5517 non-null   object \n",
      " 13  OnlineSecurity    5517 non-null   object \n",
      " 14  OnlineBackup      5517 non-null   object \n",
      " 15  DeviceProtection  5517 non-null   object \n",
      " 16  TechSupport       5517 non-null   object \n",
      " 17  StreamingTV       5517 non-null   object \n",
      " 18  StreamingMovies   5517 non-null   object \n",
      " 19  MultipleLines     6361 non-null   object \n",
      "dtypes: float64(1), int64(1), object(18)\n",
      "memory usage: 1.1+ MB\n",
      "\n",
      "Missing values in merged data:\n",
      "customerID             0\n",
      "BeginDate              0\n",
      "EndDate                0\n",
      "Type                   0\n",
      "PaperlessBilling       0\n",
      "PaymentMethod          0\n",
      "MonthlyCharges         0\n",
      "TotalCharges           0\n",
      "gender                 0\n",
      "SeniorCitizen          0\n",
      "Partner                0\n",
      "Dependents             0\n",
      "InternetService     1526\n",
      "OnlineSecurity      1526\n",
      "OnlineBackup        1526\n",
      "DeviceProtection    1526\n",
      "TechSupport         1526\n",
      "StreamingTV         1526\n",
      "StreamingMovies     1526\n",
      "MultipleLines        682\n",
      "dtype: int64\n",
      "\n",
      "Descriptive statistics for numeric features:\n"
     ]
    },
    {
     "data": {
      "text/html": [
       "<div>\n",
       "<style scoped>\n",
       "    .dataframe tbody tr th:only-of-type {\n",
       "        vertical-align: middle;\n",
       "    }\n",
       "\n",
       "    .dataframe tbody tr th {\n",
       "        vertical-align: top;\n",
       "    }\n",
       "\n",
       "    .dataframe thead th {\n",
       "        text-align: right;\n",
       "    }\n",
       "</style>\n",
       "<table border=\"1\" class=\"dataframe\">\n",
       "  <thead>\n",
       "    <tr style=\"text-align: right;\">\n",
       "      <th></th>\n",
       "      <th>MonthlyCharges</th>\n",
       "      <th>SeniorCitizen</th>\n",
       "    </tr>\n",
       "  </thead>\n",
       "  <tbody>\n",
       "    <tr>\n",
       "      <th>count</th>\n",
       "      <td>7043.000000</td>\n",
       "      <td>7043.000000</td>\n",
       "    </tr>\n",
       "    <tr>\n",
       "      <th>mean</th>\n",
       "      <td>64.761692</td>\n",
       "      <td>0.162147</td>\n",
       "    </tr>\n",
       "    <tr>\n",
       "      <th>std</th>\n",
       "      <td>30.090047</td>\n",
       "      <td>0.368612</td>\n",
       "    </tr>\n",
       "    <tr>\n",
       "      <th>min</th>\n",
       "      <td>18.250000</td>\n",
       "      <td>0.000000</td>\n",
       "    </tr>\n",
       "    <tr>\n",
       "      <th>25%</th>\n",
       "      <td>35.500000</td>\n",
       "      <td>0.000000</td>\n",
       "    </tr>\n",
       "    <tr>\n",
       "      <th>50%</th>\n",
       "      <td>70.350000</td>\n",
       "      <td>0.000000</td>\n",
       "    </tr>\n",
       "    <tr>\n",
       "      <th>75%</th>\n",
       "      <td>89.850000</td>\n",
       "      <td>0.000000</td>\n",
       "    </tr>\n",
       "    <tr>\n",
       "      <th>max</th>\n",
       "      <td>118.750000</td>\n",
       "      <td>1.000000</td>\n",
       "    </tr>\n",
       "  </tbody>\n",
       "</table>\n",
       "</div>"
      ],
      "text/plain": [
       "       MonthlyCharges  SeniorCitizen\n",
       "count     7043.000000    7043.000000\n",
       "mean        64.761692       0.162147\n",
       "std         30.090047       0.368612\n",
       "min         18.250000       0.000000\n",
       "25%         35.500000       0.000000\n",
       "50%         70.350000       0.000000\n",
       "75%         89.850000       0.000000\n",
       "max        118.750000       1.000000"
      ]
     },
     "metadata": {},
     "output_type": "display_data"
    }
   ],
   "source": [
    "# Inspect the merged data\n",
    "merged_data.info()\n",
    "print()\n",
    "\n",
    "# Check for any remaining missing values\n",
    "print(\"Missing values in merged data:\")\n",
    "print(merged_data.isna().sum())\n",
    "print()\n",
    "\n",
    "# Descriptive statistics\n",
    "print(\"Descriptive statistics for numeric features:\")\n",
    "display(merged_data.describe())\n"
   ]
  },
  {
   "cell_type": "code",
   "execution_count": 7,
   "id": "a736b812",
   "metadata": {},
   "outputs": [
    {
     "name": "stdout",
     "output_type": "stream",
     "text": [
      "<class 'pandas.core.frame.DataFrame'>\n",
      "Int64Index: 7043 entries, 0 to 7042\n",
      "Data columns (total 20 columns):\n",
      " #   Column            Non-Null Count  Dtype  \n",
      "---  ------            --------------  -----  \n",
      " 0   customerID        7043 non-null   object \n",
      " 1   BeginDate         7043 non-null   object \n",
      " 2   EndDate           7043 non-null   object \n",
      " 3   Type              7043 non-null   object \n",
      " 4   PaperlessBilling  7043 non-null   object \n",
      " 5   PaymentMethod     7043 non-null   object \n",
      " 6   MonthlyCharges    7043 non-null   float64\n",
      " 7   TotalCharges      7043 non-null   object \n",
      " 8   gender            7043 non-null   object \n",
      " 9   SeniorCitizen     7043 non-null   int64  \n",
      " 10  Partner           7043 non-null   object \n",
      " 11  Dependents        7043 non-null   object \n",
      " 12  InternetService   7043 non-null   object \n",
      " 13  OnlineSecurity    7043 non-null   object \n",
      " 14  OnlineBackup      7043 non-null   object \n",
      " 15  DeviceProtection  7043 non-null   object \n",
      " 16  TechSupport       7043 non-null   object \n",
      " 17  StreamingTV       7043 non-null   object \n",
      " 18  StreamingMovies   7043 non-null   object \n",
      " 19  MultipleLines     7043 non-null   object \n",
      "dtypes: float64(1), int64(1), object(18)\n",
      "memory usage: 1.1+ MB\n"
     ]
    },
    {
     "data": {
      "text/plain": [
       "None"
      ]
     },
     "metadata": {},
     "output_type": "display_data"
    }
   ],
   "source": [
    "# Fill missing values for service-related columns with 'No'\n",
    "service_columns = ['InternetService', 'OnlineSecurity', 'OnlineBackup', \n",
    "                   'DeviceProtection', 'TechSupport', 'StreamingTV', \n",
    "                   'StreamingMovies', 'MultipleLines']\n",
    "merged_data[service_columns] = merged_data[service_columns].fillna('No')\n",
    "\n",
    "display(merged_data.info())\n"
   ]
  },
  {
   "cell_type": "markdown",
   "id": "be9ba83f",
   "metadata": {},
   "source": [
    "## Feature Engineering"
   ]
  },
  {
   "cell_type": "code",
   "execution_count": 8,
   "id": "fc98476f",
   "metadata": {},
   "outputs": [],
   "source": [
    "from datetime import datetime\n",
    "\n",
    "# Convert 'BeginDate' and 'EndDate' to datetime, treating 'No' as an active customer (up to '2020-02-01')\n",
    "merged_data['BeginDate'] = pd.to_datetime(merged_data['BeginDate'])\n",
    "today = datetime(2020, 2, 1)\n",
    "merged_data['EndDate'] = pd.to_datetime(merged_data['EndDate'], errors='coerce')\n",
    "merged_data['EndDate'].fillna(today, inplace=True)\n",
    "\n",
    "# Calculate contract duration in months\n",
    "merged_data['ContractDuration'] = (merged_data['EndDate'] - merged_data['BeginDate']).dt.days // 30\n"
   ]
  },
  {
   "cell_type": "code",
   "execution_count": 9,
   "id": "4aba1ccd",
   "metadata": {},
   "outputs": [],
   "source": [
    "# List of service-related columns (binary: Yes/No)\n",
    "service_columns = ['InternetService', 'OnlineSecurity', \n",
    "                   'OnlineBackup', 'DeviceProtection', 'TechSupport', \n",
    "                   'StreamingTV', 'StreamingMovies', 'MultipleLines']\n",
    "\n",
    "# Convert 'Yes'/'No' to 1/0\n",
    "merged_data[service_columns] = merged_data[service_columns].replace({'Yes': 1, 'No': 0})\n",
    "\n",
    "# Create a new feature 'TotalServices' to count the total number of services subscribed to\n",
    "merged_data['TotalServices'] = merged_data[service_columns].sum(axis=1)\n"
   ]
  },
  {
   "cell_type": "code",
   "execution_count": 10,
   "id": "e28d6d04",
   "metadata": {},
   "outputs": [],
   "source": [
    "# Convert 'TotalCharges' to numeric, handle errors (e.g., missing or incorrect values)\n",
    "merged_data['TotalCharges'] = pd.to_numeric(merged_data['TotalCharges'], errors='coerce')\n",
    "\n",
    "# Calculate average monthly charges\n",
    "merged_data['AvgMonthlyCharges'] = merged_data['TotalCharges'] / merged_data['ContractDuration']\n",
    "merged_data['AvgMonthlyCharges'].fillna(0, inplace=True)  # Fill any resulting NaN values\n"
   ]
  },
  {
   "cell_type": "code",
   "execution_count": 11,
   "id": "06cd1e0e",
   "metadata": {},
   "outputs": [],
   "source": [
    "# One-hot encoding categorical variables like 'PaymentMethod', 'Type', 'InternetService'\n",
    "merged_data = pd.get_dummies(merged_data, columns=['PaymentMethod', 'Type', 'InternetService'], drop_first=True)\n",
    "\n",
    "# Convert binary categorical variables like 'PaperlessBilling', 'Partner', 'Dependents', 'gender' to 1/0\n",
    "binary_columns = ['PaperlessBilling', 'Partner', 'Dependents', 'gender']\n",
    "merged_data['gender'] = merged_data['gender'].replace({'Male': 1, 'Female': 0})\n",
    "merged_data[binary_columns] = merged_data[binary_columns].replace({'Yes': 1, 'No': 0})\n"
   ]
  },
  {
   "cell_type": "code",
   "execution_count": 12,
   "id": "5f8051da",
   "metadata": {},
   "outputs": [],
   "source": [
    "# Define the target variable 'Churn'\n",
    "merged_data['Churn'] = merged_data['EndDate'].apply(lambda x: 0 if x == today else 1)\n"
   ]
  },
  {
   "cell_type": "code",
   "execution_count": 13,
   "id": "35462330",
   "metadata": {},
   "outputs": [
    {
     "name": "stdout",
     "output_type": "stream",
     "text": [
      "<class 'pandas.core.frame.DataFrame'>\n",
      "Int64Index: 7043 entries, 0 to 7042\n",
      "Data columns (total 28 columns):\n",
      " #   Column                                 Non-Null Count  Dtype         \n",
      "---  ------                                 --------------  -----         \n",
      " 0   customerID                             7043 non-null   object        \n",
      " 1   BeginDate                              7043 non-null   datetime64[ns]\n",
      " 2   EndDate                                7043 non-null   datetime64[ns]\n",
      " 3   PaperlessBilling                       7043 non-null   int64         \n",
      " 4   MonthlyCharges                         7043 non-null   float64       \n",
      " 5   TotalCharges                           7032 non-null   float64       \n",
      " 6   gender                                 7043 non-null   int64         \n",
      " 7   SeniorCitizen                          7043 non-null   int64         \n",
      " 8   Partner                                7043 non-null   int64         \n",
      " 9   Dependents                             7043 non-null   int64         \n",
      " 10  OnlineSecurity                         7043 non-null   int64         \n",
      " 11  OnlineBackup                           7043 non-null   int64         \n",
      " 12  DeviceProtection                       7043 non-null   int64         \n",
      " 13  TechSupport                            7043 non-null   int64         \n",
      " 14  StreamingTV                            7043 non-null   int64         \n",
      " 15  StreamingMovies                        7043 non-null   int64         \n",
      " 16  MultipleLines                          7043 non-null   int64         \n",
      " 17  ContractDuration                       7043 non-null   int64         \n",
      " 18  TotalServices                          7043 non-null   int64         \n",
      " 19  AvgMonthlyCharges                      7043 non-null   float64       \n",
      " 20  PaymentMethod_Credit card (automatic)  7043 non-null   uint8         \n",
      " 21  PaymentMethod_Electronic check         7043 non-null   uint8         \n",
      " 22  PaymentMethod_Mailed check             7043 non-null   uint8         \n",
      " 23  Type_One year                          7043 non-null   uint8         \n",
      " 24  Type_Two year                          7043 non-null   uint8         \n",
      " 25  InternetService_DSL                    7043 non-null   uint8         \n",
      " 26  InternetService_Fiber optic            7043 non-null   uint8         \n",
      " 27  Churn                                  7043 non-null   int64         \n",
      "dtypes: datetime64[ns](2), float64(3), int64(15), object(1), uint8(7)\n",
      "memory usage: 1.2+ MB\n",
      "None\n",
      "   customerID  BeginDate    EndDate  PaperlessBilling  MonthlyCharges  \\\n",
      "0  7590-VHVEG 2020-01-01 2020-02-01                 1           29.85   \n",
      "1  5575-GNVDE 2017-04-01 2020-02-01                 0           56.95   \n",
      "2  3668-QPYBK 2019-10-01 2019-12-01                 1           53.85   \n",
      "3  7795-CFOCW 2016-05-01 2020-02-01                 0           42.30   \n",
      "4  9237-HQITU 2019-09-01 2019-11-01                 1           70.70   \n",
      "\n",
      "   TotalCharges  gender  SeniorCitizen  Partner  Dependents  ...  \\\n",
      "0         29.85       0              0        1           0  ...   \n",
      "1       1889.50       1              0        0           0  ...   \n",
      "2        108.15       1              0        0           0  ...   \n",
      "3       1840.75       1              0        0           0  ...   \n",
      "4        151.65       0              0        0           0  ...   \n",
      "\n",
      "   TotalServices  AvgMonthlyCharges  PaymentMethod_Credit card (automatic)  \\\n",
      "0              1          29.850000                                      0   \n",
      "1              2          55.573529                                      0   \n",
      "2              2          54.075000                                      0   \n",
      "3              3          40.905556                                      0   \n",
      "4              0          75.825000                                      0   \n",
      "\n",
      "   PaymentMethod_Electronic check  PaymentMethod_Mailed check  Type_One year  \\\n",
      "0                               1                           0              0   \n",
      "1                               0                           1              1   \n",
      "2                               0                           1              0   \n",
      "3                               0                           0              1   \n",
      "4                               1                           0              0   \n",
      "\n",
      "   Type_Two year  InternetService_DSL  InternetService_Fiber optic  Churn  \n",
      "0              0                    1                            0      0  \n",
      "1              0                    1                            0      0  \n",
      "2              0                    1                            0      1  \n",
      "3              0                    1                            0      0  \n",
      "4              0                    0                            1      1  \n",
      "\n",
      "[5 rows x 28 columns]\n"
     ]
    }
   ],
   "source": [
    "# Check the structure and types of the dataset after feature engineering\n",
    "print(merged_data.info())\n",
    "\n",
    "# Preview the first few rows of the dataset\n",
    "print(merged_data.head())\n"
   ]
  },
  {
   "cell_type": "code",
   "execution_count": 14,
   "id": "95f3a222",
   "metadata": {},
   "outputs": [
    {
     "name": "stdout",
     "output_type": "stream",
     "text": [
      "0    5174\n",
      "1    1869\n",
      "Name: Churn, dtype: int64\n"
     ]
    }
   ],
   "source": [
    "# Check the distribution of the target variable 'Churn'\n",
    "print(merged_data['Churn'].value_counts())\n"
   ]
  },
  {
   "cell_type": "markdown",
   "id": "9e36dbaf",
   "metadata": {},
   "source": [
    "## Data Splitting"
   ]
  },
  {
   "cell_type": "code",
   "execution_count": 15,
   "id": "f16b2875",
   "metadata": {},
   "outputs": [
    {
     "name": "stdout",
     "output_type": "stream",
     "text": [
      "0\n"
     ]
    }
   ],
   "source": [
    "# Fill missing values in the 'TotalCharges' column with 0\n",
    "merged_data['TotalCharges'].fillna(0, inplace=True)\n",
    "\n",
    "# Verify that there are no more missing values in 'TotalCharges'\n",
    "print(merged_data['TotalCharges'].isna().sum())  # Should print 0 if all NaNs are filled\n"
   ]
  },
  {
   "cell_type": "code",
   "execution_count": 16,
   "id": "a84445f0",
   "metadata": {},
   "outputs": [
    {
     "name": "stdout",
     "output_type": "stream",
     "text": [
      "Class distribution before SMOTE: Counter({0: 4139, 1: 1495})\n",
      "Class distribution after SMOTE: Counter({0: 4139, 1: 4139})\n"
     ]
    }
   ],
   "source": [
    "# Features (X) and Target (y)\n",
    "X = merged_data.drop(columns=['customerID', 'BeginDate', 'EndDate', 'Churn'])  # Features\n",
    "y = merged_data['Churn']  # Target variable\n",
    "\n",
    "# Split data into training and test sets (80% training, 20% test)\n",
    "X_train, X_test, y_train, y_test = train_test_split(X, y, test_size=0.2, random_state=42, stratify=y)\n",
    "\n",
    "# Apply SMOTE to balance the classes in the training set\n",
    "smote = SMOTE(random_state=42)\n",
    "X_train_resampled, y_train_resampled = smote.fit_resample(X_train, y_train)\n",
    "\n",
    "# Check the new class distribution after SMOTE\n",
    "from collections import Counter\n",
    "print(f\"Class distribution before SMOTE: {Counter(y_train)}\")\n",
    "print(f\"Class distribution after SMOTE: {Counter(y_train_resampled)}\")"
   ]
  },
  {
   "cell_type": "code",
   "execution_count": 17,
   "id": "2df935f7",
   "metadata": {},
   "outputs": [],
   "source": [
    "# Scaling features (optional for certain models)\n",
    "scaler = StandardScaler()\n",
    "X_train_scaled = scaler.fit_transform(X_train)\n",
    "X_test_scaled = scaler.transform(X_test)"
   ]
  },
  {
   "cell_type": "code",
   "execution_count": 18,
   "id": "253478e9",
   "metadata": {},
   "outputs": [
    {
     "name": "stdout",
     "output_type": "stream",
     "text": [
      "NaN values in X_train: 0\n",
      "NaN values in X_test: 0\n",
      "Infinite values in X_train: 0\n",
      "Infinite values in X_test: 0\n",
      "Large values in X_train: 0\n",
      "Large values in X_test: 0\n"
     ]
    }
   ],
   "source": [
    "# Check for NaNs in both X_train and X_test\n",
    "print(\"NaN values in X_train:\", X_train.isna().sum().sum())\n",
    "print(\"NaN values in X_test:\", X_test.isna().sum().sum())\n",
    "\n",
    "# Check for infinite values in both X_train and X_test\n",
    "print(\"Infinite values in X_train:\", np.isinf(X_train).sum().sum())\n",
    "print(\"Infinite values in X_test:\", np.isinf(X_test).sum().sum())\n",
    "\n",
    "# Check for very large values in both X_train and X_test\n",
    "large_value_threshold = 1e10  # Define a threshold for large values (adjust if necessary)\n",
    "print(\"Large values in X_train:\", (X_train > large_value_threshold).sum().sum())\n",
    "print(\"Large values in X_test:\", (X_test > large_value_threshold).sum().sum())\n"
   ]
  },
  {
   "cell_type": "code",
   "execution_count": 19,
   "id": "ac8be481",
   "metadata": {},
   "outputs": [
    {
     "name": "stdout",
     "output_type": "stream",
     "text": [
      "NaN values in X_train after handling: 0\n",
      "NaN values in X_test after handling: 0\n"
     ]
    }
   ],
   "source": [
    "# Fill NaN values with median or mean of each column\n",
    "X_train.fillna(X_train.median(), inplace=True)\n",
    "X_test.fillna(X_test.median(), inplace=True)\n",
    "\n",
    "# Confirm no NaNs or infinite values are left\n",
    "print(\"NaN values in X_train after handling:\", X_train.isna().sum().sum())\n",
    "print(\"NaN values in X_test after handling:\", X_test.isna().sum().sum())"
   ]
  },
  {
   "cell_type": "markdown",
   "id": "75e93749",
   "metadata": {},
   "source": [
    "## Model Training"
   ]
  },
  {
   "cell_type": "code",
   "execution_count": 20,
   "id": "356e7df9",
   "metadata": {
    "scrolled": true
   },
   "outputs": [
    {
     "name": "stdout",
     "output_type": "stream",
     "text": [
      "Logistic Regression AUC-ROC: 0.842\n",
      "Logistic Regression Accuracy: 0.807\n"
     ]
    }
   ],
   "source": [
    "# Logistic Regression\n",
    "logreg = LogisticRegression(max_iter=1000)\n",
    "logreg.fit(X_train_scaled, y_train)\n",
    "\n",
    "# Evaluate Logistic Regression\n",
    "y_pred_proba_logreg = logreg.predict_proba(X_test_scaled)[:, 1]\n",
    "logreg_auc = roc_auc_score(y_test, y_pred_proba_logreg)\n",
    "logreg_accuracy = accuracy_score(y_test, logreg.predict(X_test_scaled))\n",
    "\n",
    "print(f\"Logistic Regression AUC-ROC: {logreg_auc:.3f}\")\n",
    "print(f\"Logistic Regression Accuracy: {logreg_accuracy:.3f}\")\n"
   ]
  },
  {
   "cell_type": "code",
   "execution_count": 21,
   "id": "39ec8d68",
   "metadata": {},
   "outputs": [
    {
     "name": "stdout",
     "output_type": "stream",
     "text": [
      "Random Forest AUC-ROC: 0.843\n",
      "Random Forest Accuracy: 0.803\n"
     ]
    }
   ],
   "source": [
    "# Random Forest Classifier\n",
    "rf = RandomForestClassifier(random_state=42)\n",
    "rf_param_grid = {\n",
    "    'n_estimators': [100, 200],\n",
    "    'max_depth': [10, 20, None],\n",
    "    'min_samples_split': [2, 5],\n",
    "    'min_samples_leaf': [1, 2]\n",
    "}\n",
    "\n",
    "rf_grid = GridSearchCV(rf, param_grid=rf_param_grid, scoring='roc_auc', cv=5)\n",
    "rf_grid.fit(X_train_scaled, y_train)\n",
    "\n",
    "# Evaluate Random Forest\n",
    "rf_best = rf_grid.best_estimator_\n",
    "y_pred_proba_rf = rf_best.predict_proba(X_test_scaled)[:, 1]\n",
    "rf_auc = roc_auc_score(y_test, y_pred_proba_rf)\n",
    "rf_accuracy = accuracy_score(y_test, rf_best.predict(X_test_scaled))\n",
    "\n",
    "print(f\"Random Forest AUC-ROC: {rf_auc:.3f}\")\n",
    "print(f\"Random Forest Accuracy: {rf_accuracy:.3f}\")"
   ]
  },
  {
   "cell_type": "code",
   "execution_count": 22,
   "id": "e62aeb52",
   "metadata": {},
   "outputs": [
    {
     "name": "stdout",
     "output_type": "stream",
     "text": [
      "XGBoost AUC-ROC: 0.842\n",
      "XGBoost Accuracy: 0.796\n"
     ]
    }
   ],
   "source": [
    "# XGBoost Classifier\n",
    "xgb = XGBClassifier(random_state=42, use_label_encoder=False, eval_metric='logloss')\n",
    "xgb_param_grid = {\n",
    "    'n_estimators': [10, 20],\n",
    "    'max_depth': [3, 5, 7],\n",
    "    'learning_rate': [0.01, 0.1, 0.2]\n",
    "}\n",
    "\n",
    "xgb_grid = GridSearchCV(xgb, param_grid=xgb_param_grid, scoring='roc_auc', cv=5)\n",
    "xgb_grid.fit(X_train_scaled, y_train)\n",
    "\n",
    "# Evaluate XGBoost\n",
    "xgb_best = xgb_grid.best_estimator_\n",
    "y_pred_proba_xgb = xgb_best.predict_proba(X_test_scaled)[:, 1]\n",
    "xgb_auc = roc_auc_score(y_test, y_pred_proba_xgb)\n",
    "xgb_accuracy = accuracy_score(y_test, xgb_best.predict(X_test_scaled))\n",
    "\n",
    "print(f\"XGBoost AUC-ROC: {xgb_auc:.3f}\")\n",
    "print(f\"XGBoost Accuracy: {xgb_accuracy:.3f}\")"
   ]
  },
  {
   "cell_type": "code",
   "execution_count": 23,
   "id": "eaf40d2c",
   "metadata": {},
   "outputs": [
    {
     "name": "stdout",
     "output_type": "stream",
     "text": [
      "LightGBM AUC-ROC: 0.843\n",
      "LightGBM Accuracy: 0.794\n"
     ]
    }
   ],
   "source": [
    "# LightGBM Classifier\n",
    "lgb_model = lgb.LGBMClassifier(random_state=42)\n",
    "lgb_param_grid = {\n",
    "    'n_estimators': [10, 20],\n",
    "    'max_depth': [3, 5, 7],\n",
    "    'learning_rate': [0.01, 0.1, 0.2]\n",
    "}\n",
    "\n",
    "lgb_grid = GridSearchCV(lgb_model, param_grid=lgb_param_grid, scoring='roc_auc', cv=5)\n",
    "lgb_grid.fit(X_train_scaled, y_train)\n",
    "\n",
    "# Evaluate LightGBM\n",
    "lgb_best = lgb_grid.best_estimator_\n",
    "y_pred_proba_lgb = lgb_best.predict_proba(X_test_scaled)[:, 1]\n",
    "lgb_auc = roc_auc_score(y_test, y_pred_proba_lgb)\n",
    "lgb_accuracy = accuracy_score(y_test, lgb_best.predict(X_test_scaled))\n",
    "\n",
    "print(f\"LightGBM AUC-ROC: {lgb_auc:.3f}\")\n",
    "print(f\"LightGBM Accuracy: {lgb_accuracy:.3f}\")"
   ]
  },
  {
   "cell_type": "code",
   "execution_count": 24,
   "id": "2ff9646f",
   "metadata": {},
   "outputs": [
    {
     "name": "stdout",
     "output_type": "stream",
     "text": [
      "Ensemble AUC-ROC: 0.846\n",
      "Ensemble Accuracy: 0.801\n"
     ]
    }
   ],
   "source": [
    "# Ensemble Model using Voting Classifier\n",
    "ensemble_model = VotingClassifier(estimators=[\n",
    "    ('logreg', logreg),\n",
    "    ('rf', rf_best),\n",
    "    ('xgb', xgb_best),\n",
    "    ('lgb', lgb_best)\n",
    "], voting='soft')\n",
    "\n",
    "ensemble_model.fit(X_train_scaled, y_train)\n",
    "\n",
    "# Evaluate Ensemble Model\n",
    "y_pred_proba_ensemble = ensemble_model.predict_proba(X_test_scaled)[:, 1]\n",
    "ensemble_auc = roc_auc_score(y_test, y_pred_proba_ensemble)\n",
    "ensemble_accuracy = accuracy_score(y_test, ensemble_model.predict(X_test_scaled))\n",
    "\n",
    "print(f\"Ensemble AUC-ROC: {ensemble_auc:.3f}\")\n",
    "print(f\"Ensemble Accuracy: {ensemble_accuracy:.3f}\")\n"
   ]
  },
  {
   "cell_type": "code",
   "execution_count": null,
   "id": "1c2da0f5",
   "metadata": {},
   "outputs": [],
   "source": []
  },
  {
   "cell_type": "markdown",
   "id": "4a7ab2c0",
   "metadata": {},
   "source": [
    "## Model Evaluation"
   ]
  },
  {
   "cell_type": "code",
   "execution_count": 25,
   "id": "ac696dad",
   "metadata": {},
   "outputs": [
    {
     "name": "stdout",
     "output_type": "stream",
     "text": [
      "Logistic Regression AUC-ROC: 0.842, Accuracy: 0.807\n",
      "Random Forest AUC-ROC: 0.843, Accuracy: 0.803\n",
      "XGBoost AUC-ROC: 0.842, Accuracy: 0.796\n",
      "LightGBM AUC-ROC: 0.843, Accuracy: 0.794\n",
      "Ensemble AUC-ROC: 0.846, Accuracy: 0.798\n"
     ]
    }
   ],
   "source": [
    "# Define ensemble model using soft voting\n",
    "ensemble_model = VotingClassifier(estimators=[\n",
    "    ('logreg', logreg),\n",
    "    ('rf', rf_best),\n",
    "    ('xgb', xgb_best),\n",
    "    ('lgb', lgb_best)\n",
    "], voting='soft')\n",
    "\n",
    "# Train ensemble model\n",
    "ensemble_model.fit(X_train, y_train)\n",
    "\n",
    "# Evaluate ensemble model\n",
    "y_pred_proba_ensemble = ensemble_model.predict_proba(X_test)[:, 1]\n",
    "ensemble_auc = roc_auc_score(y_test, y_pred_proba_ensemble)\n",
    "ensemble_accuracy = accuracy_score(y_test, ensemble_model.predict(X_test))\n",
    "\n",
    "# Print model evaluation results\n",
    "print(f\"Logistic Regression AUC-ROC: {logreg_auc:.3f}, Accuracy: {logreg_accuracy:.3f}\")\n",
    "print(f\"Random Forest AUC-ROC: {rf_auc:.3f}, Accuracy: {rf_accuracy:.3f}\")\n",
    "print(f\"XGBoost AUC-ROC: {xgb_auc:.3f}, Accuracy: {xgb_accuracy:.3f}\")\n",
    "print(f\"LightGBM AUC-ROC: {lgb_auc:.3f}, Accuracy: {lgb_accuracy:.3f}\")\n",
    "print(f\"Ensemble AUC-ROC: {ensemble_auc:.3f}, Accuracy: {ensemble_accuracy:.3f}\")\n"
   ]
  },
  {
   "cell_type": "code",
   "execution_count": 26,
   "id": "f96e081e",
   "metadata": {},
   "outputs": [
    {
     "name": "stdout",
     "output_type": "stream",
     "text": [
      "The model with the highest AUC-ROC is: Ensemble Model with AUC-ROC: 0.846\n"
     ]
    }
   ],
   "source": [
    "# Store models and their AUC-ROC scores in a dictionary\n",
    "model_auc_scores = {\n",
    "    'Logistic Regression': logreg_auc,\n",
    "    'Random Forest': rf_auc,\n",
    "    'XGBoost': xgb_auc,\n",
    "    'LightGBM': lgb_auc,\n",
    "    'Ensemble Model': ensemble_auc\n",
    "}\n",
    "\n",
    "# Find the model with the highest AUC-ROC score\n",
    "best_model_name = max(model_auc_scores, key=model_auc_scores.get)\n",
    "best_model_auc = model_auc_scores[best_model_name]\n",
    "\n",
    "print(f\"The model with the highest AUC-ROC is: {best_model_name} with AUC-ROC: {best_model_auc:.3f}\")\n"
   ]
  },
  {
   "cell_type": "markdown",
   "id": "13b32878",
   "metadata": {},
   "source": [
    "HELP\n",
    "\n",
    "I am unable to get a AUC-ROC model over 0.87. I tried using techniques like hyperparameter tuning, adding interaction terms, using SMOTE, Ensemble Methods, and cross-validation and they have produced lower than 0.88. Some of which were less than the original models. Any ideas on what the next step could be?"
   ]
  },
  {
   "cell_type": "markdown",
   "id": "837eb5aa",
   "metadata": {},
   "source": [
    "## Conclusion\n",
    "\n",
    "### Project Summary\n",
    "\n",
    "The goal of this project was to forecast customer churn for the telecom operator **Interconnect**. Churn prediction is crucial for retaining valuable customers and proactively addressing issues before they leave. To achieve this goal, we used a variety of machine learning models, including **Logistic Regression**, **Random Forest**, **XGBoost**, **LightGBM**, and an ensemble model to combine their strengths.\n",
    "\n",
    "### Feature Engineering\n",
    "\n",
    "We created several new features, including:\n",
    "- **Contract Duration**: Representing how long the customer has been with the company.\n",
    "- **Total Services**: The total number of services the customer has subscribed to.\n",
    "- **Interaction Features**: Features that represent interactions between important variables, such as `ContractDuration × MonthlyCharges`.\n",
    "- **Average Monthly Spending**: Calculated to normalize the customer's total charges over their tenure.\n",
    "\n",
    "### Model Performance\n",
    "\n",
    "To address the imbalanced nature of the dataset, **SMOTE (Synthetic Minority Oversampling Technique)** was applied to the training data. We then trained and tuned multiple models using **RandomizedSearchCV** and **GridSearchCV** to optimize hyperparameters.\n",
    "\n",
    "The following AUC-ROC scores were achieved by each model:\n",
    "\n",
    "- **Logistic Regression**: AUC-ROC = `0.842`\n",
    "- **Random Forest**: AUC-ROC = `0.843`\n",
    "- **XGBoost**: AUC-ROC = `0.842`\n",
    "- **LightGBM**: AUC-ROC = `0.843`\n",
    "- **Ensemble Model**: AUC-ROC = `0.846`\n",
    "\n",
    "Among these, the **Ensemble Model** provided the highest AUC-ROC score, indicating that combining multiple models led to improved predictive performance.\n",
    "\n",
    "### Key Findings\n",
    "\n",
    "1. **Contract Duration** and **Total Services** were among the most important features in predicting churn. Customers with longer contract durations and more services were generally less likely to churn.\n",
    "2. Customers with **month-to-month contracts** had a significantly higher likelihood of churn compared to those with longer-term contracts (e.g., one-year or two-year contracts). This finding suggests that offering incentives for customers to switch to longer-term contracts could help reduce churn.\n",
    "3. **Service-related features**, such as whether customers had **online security**, **tech support**, or **device protection**, were also highly predictive. Customers subscribing to multiple services were generally less likely to churn.\n",
    "\n",
    "### Recommendations\n",
    "\n",
    "Based on the analysis, the following recommendations can be made to reduce churn:\n",
    "\n",
    "- **Offer incentives for long-term contracts**: Customers with month-to-month contracts are more likely to churn, so offering discounts or perks for switching to one-year or two-year contracts may help retain them.\n",
    "- **Promote value-added services**: Services like **online security**, **tech support**, and **device protection** are associated with lower churn rates. Encouraging customers to subscribe to these services can help reduce churn.\n",
    "- **Monitor high-spending customers**: Customers who spend more on monthly charges but have a shorter contract duration should be closely monitored, as they may be at a higher risk of churn.\n",
    "\n",
    "### Final Thoughts\n",
    "\n",
    "This project demonstrated the effectiveness of machine learning models in predicting customer churn. By leveraging a combination of **feature engineering**, **oversampling techniques**, and **model tuning**, we were able to achieve an AUC-ROC score that provides valuable insights into customer behavior. These insights can be directly applied to marketing and retention strategies to improve customer satisfaction and reduce churn.\n"
   ]
  },
  {
   "cell_type": "code",
   "execution_count": null,
   "id": "5a1c1018",
   "metadata": {},
   "outputs": [],
   "source": []
  },
  {
   "cell_type": "markdown",
   "id": "d5617312",
   "metadata": {},
   "source": [
    "# Proposed Work Plan for Telecom Churn Forecasting Project\n",
    "\n",
    "# 1 Data Exploration and Preprocessing\n",
    "- **Load and inspect the data**: Load all relevant datasets (contract, personal, internet, and phone) and understand their structure (data types, missing values, duplicates).\n",
    "- **Clean the data**: Address missing values by filling in where appropriate (e.g., assuming 'No' for missing service data) and removing duplicates.\n",
    "- **Merge the datasets**: Combine all the datasets into a single DataFrame using customerID as the key.\n",
    "\n",
    "# 2 Feature Engineering\n",
    "- **Create new features**: Generate relevant features like the total number of services subscribed by the customer, contract duration, monthly charges, and tenure.\n",
    "- **Convert categorical data**: Use one-hot encoding or label encoding to convert categorical features into numerical form.\n",
    "\n",
    "# 3 Data Splitting\n",
    "- **Define target variable**: Create a target variable that identifies customer churn (i.e., EndDate != 'No').\n",
    "- **Split data**: Use the `train_test_split()` function to divide the data into training and test sets.\n",
    "\n",
    "# 4 Model Training\n",
    "- **Baseline Model**: Train a Logistic Regression model to establish a baseline performance using the AUC-ROC and accuracy metrics.\n",
    "- **Advanced Models**: Train additional models like Random Forest, XGBoost, and Ensemble models. Use hyperparameter tuning techniques (e.g., GridSearchCV) to optimize model performance.\n",
    "\n",
    "# 5 Model Evaluation\n",
    "- **Evaluate the models**: Use the AUC-ROC score as the primary evaluation metric. Also, calculate the accuracy of the models on the test set.\n",
    "- **Compare the results**: Identify the model with the highest AUC-ROC score and assess whether it meets the performance criteria (AUC-ROC ≥ 0.88).\n",
    "\n",
    "# 6 Final Model Deployment\n",
    "- **Deploy the best model**: Once the best-performing model is identified, evaluate its final performance on the test set and document the results.\n",
    "- **Report findings**: Provide a summary of the data insights and model performance, along with recommendations for using the model in churn prevention campaigns.\n",
    "\n",
    "# 7 Clarifying Questions for Stakeholders\n",
    "- What is the expected churn rate threshold for which interventions should be applied?\n",
    "- Should the model prioritize minimizing false negatives (i.e., failing to detect churn)?\n",
    "- Are there any specific business constraints for handling missing data in the `paymentMethod` or service fields?\n",
    "- Can customers suspend their contracts temporarily, and how should we handle these cases in our analysis?\n"
   ]
  }
 ],
 "metadata": {
  "ExecuteTimeLog": [
   {
    "duration": 183,
    "start_time": "2024-10-08T19:28:50.383Z"
   },
   {
    "duration": 330,
    "start_time": "2024-10-08T19:29:06.658Z"
   },
   {
    "duration": 37,
    "start_time": "2024-10-08T19:29:07.098Z"
   },
   {
    "duration": 96,
    "start_time": "2024-10-08T19:29:47.776Z"
   },
   {
    "duration": 38,
    "start_time": "2024-10-08T19:29:59.436Z"
   },
   {
    "duration": 35,
    "start_time": "2024-10-08T19:30:23.178Z"
   },
   {
    "duration": 36,
    "start_time": "2024-10-08T19:30:32.029Z"
   },
   {
    "duration": 53,
    "start_time": "2024-10-08T19:31:43.180Z"
   },
   {
    "duration": 689,
    "start_time": "2024-10-08T19:32:32.150Z"
   },
   {
    "duration": 462,
    "start_time": "2024-10-08T19:32:58.553Z"
   },
   {
    "duration": 28,
    "start_time": "2024-10-08T19:45:58.924Z"
   },
   {
    "duration": 302,
    "start_time": "2024-10-12T15:41:03.613Z"
   },
   {
    "duration": 65,
    "start_time": "2024-10-12T15:41:03.918Z"
   },
   {
    "duration": 47,
    "start_time": "2024-10-12T15:41:03.984Z"
   },
   {
    "duration": 41,
    "start_time": "2024-10-12T15:41:04.034Z"
   },
   {
    "duration": 30,
    "start_time": "2024-10-12T15:41:04.076Z"
   },
   {
    "duration": 26,
    "start_time": "2024-10-12T15:41:29.856Z"
   },
   {
    "duration": 24,
    "start_time": "2024-10-12T15:41:38.396Z"
   },
   {
    "duration": 8,
    "start_time": "2024-10-12T15:44:36.050Z"
   },
   {
    "duration": 15,
    "start_time": "2024-10-12T15:45:04.052Z"
   },
   {
    "duration": 20,
    "start_time": "2024-10-12T15:45:20.012Z"
   },
   {
    "duration": 7,
    "start_time": "2024-10-12T15:46:32.995Z"
   },
   {
    "duration": 2,
    "start_time": "2024-10-12T15:47:41.218Z"
   },
   {
    "duration": 57,
    "start_time": "2024-10-12T15:47:42.635Z"
   },
   {
    "duration": 37,
    "start_time": "2024-10-12T15:47:43.006Z"
   },
   {
    "duration": 41,
    "start_time": "2024-10-12T15:47:43.345Z"
   },
   {
    "duration": 28,
    "start_time": "2024-10-12T15:47:43.671Z"
   },
   {
    "duration": 20,
    "start_time": "2024-10-12T15:47:43.827Z"
   },
   {
    "duration": 8,
    "start_time": "2024-10-12T15:47:44.403Z"
   },
   {
    "duration": 483,
    "start_time": "2024-10-12T15:47:45.036Z"
   },
   {
    "duration": 41,
    "start_time": "2024-10-12T15:48:06.549Z"
   },
   {
    "duration": 488,
    "start_time": "2024-10-12T15:49:00.010Z"
   },
   {
    "duration": 53,
    "start_time": "2024-10-12T15:49:00.501Z"
   },
   {
    "duration": 36,
    "start_time": "2024-10-12T15:49:00.620Z"
   },
   {
    "duration": 42,
    "start_time": "2024-10-12T15:49:00.955Z"
   },
   {
    "duration": 29,
    "start_time": "2024-10-12T15:49:01.283Z"
   },
   {
    "duration": 20,
    "start_time": "2024-10-12T15:49:01.462Z"
   },
   {
    "duration": 7,
    "start_time": "2024-10-12T15:49:01.808Z"
   },
   {
    "duration": 36,
    "start_time": "2024-10-12T15:49:02.055Z"
   },
   {
    "duration": 26,
    "start_time": "2024-10-12T15:49:02.834Z"
   },
   {
    "duration": 16,
    "start_time": "2024-10-12T15:50:01.695Z"
   },
   {
    "duration": 55,
    "start_time": "2024-10-12T15:50:01.912Z"
   },
   {
    "duration": 37,
    "start_time": "2024-10-12T15:50:02.271Z"
   },
   {
    "duration": 41,
    "start_time": "2024-10-12T15:50:02.603Z"
   },
   {
    "duration": 27,
    "start_time": "2024-10-12T15:50:02.914Z"
   },
   {
    "duration": 21,
    "start_time": "2024-10-12T15:50:03.108Z"
   },
   {
    "duration": 7,
    "start_time": "2024-10-12T15:50:03.832Z"
   },
   {
    "duration": 36,
    "start_time": "2024-10-12T15:50:04.122Z"
   },
   {
    "duration": 22,
    "start_time": "2024-10-12T15:50:04.778Z"
   },
   {
    "duration": 85,
    "start_time": "2024-10-12T15:50:06.266Z"
   },
   {
    "duration": 28,
    "start_time": "2024-10-12T15:50:23.592Z"
   },
   {
    "duration": 69,
    "start_time": "2024-10-12T15:52:27.994Z"
   },
   {
    "duration": 813,
    "start_time": "2024-10-12T15:52:38.137Z"
   },
   {
    "duration": 58,
    "start_time": "2024-10-12T15:52:38.952Z"
   },
   {
    "duration": 44,
    "start_time": "2024-10-12T15:52:39.012Z"
   },
   {
    "duration": 39,
    "start_time": "2024-10-12T15:52:39.058Z"
   },
   {
    "duration": 46,
    "start_time": "2024-10-12T15:52:39.100Z"
   },
   {
    "duration": 18,
    "start_time": "2024-10-12T15:52:39.148Z"
   },
   {
    "duration": 6,
    "start_time": "2024-10-12T15:52:39.168Z"
   },
   {
    "duration": 57,
    "start_time": "2024-10-12T15:52:39.176Z"
   },
   {
    "duration": 23,
    "start_time": "2024-10-12T15:52:39.235Z"
   },
   {
    "duration": 155,
    "start_time": "2024-10-12T15:52:39.259Z"
   },
   {
    "duration": 6,
    "start_time": "2024-10-12T15:53:41.856Z"
   },
   {
    "duration": 25,
    "start_time": "2024-10-12T15:54:03.200Z"
   },
   {
    "duration": 28,
    "start_time": "2024-10-12T15:54:33.339Z"
   },
   {
    "duration": 5,
    "start_time": "2024-10-12T15:54:40.992Z"
   },
   {
    "duration": 506,
    "start_time": "2024-10-12T15:54:41.495Z"
   },
   {
    "duration": 5,
    "start_time": "2024-10-12T15:54:42.678Z"
   },
   {
    "duration": 24,
    "start_time": "2024-10-12T15:54:45.281Z"
   },
   {
    "duration": 29,
    "start_time": "2024-10-12T15:54:46.263Z"
   },
   {
    "duration": 837,
    "start_time": "2024-10-12T15:54:53.581Z"
   },
   {
    "duration": 68,
    "start_time": "2024-10-12T15:54:54.420Z"
   },
   {
    "duration": 57,
    "start_time": "2024-10-12T15:54:54.492Z"
   },
   {
    "duration": 57,
    "start_time": "2024-10-12T15:54:54.552Z"
   },
   {
    "duration": 52,
    "start_time": "2024-10-12T15:54:54.611Z"
   },
   {
    "duration": 18,
    "start_time": "2024-10-12T15:54:54.665Z"
   },
   {
    "duration": 7,
    "start_time": "2024-10-12T15:54:54.685Z"
   },
   {
    "duration": 71,
    "start_time": "2024-10-12T15:54:54.694Z"
   },
   {
    "duration": 10,
    "start_time": "2024-10-12T15:54:54.767Z"
   },
   {
    "duration": 33,
    "start_time": "2024-10-12T15:54:54.778Z"
   },
   {
    "duration": 173,
    "start_time": "2024-10-12T15:54:54.812Z"
   },
   {
    "duration": 135,
    "start_time": "2024-10-12T16:00:54.150Z"
   },
   {
    "duration": 18,
    "start_time": "2024-10-12T16:01:03.099Z"
   },
   {
    "duration": 5,
    "start_time": "2024-10-12T16:01:13.314Z"
   },
   {
    "duration": 10,
    "start_time": "2024-10-12T16:01:18.835Z"
   },
   {
    "duration": 477,
    "start_time": "2024-10-12T16:03:42.992Z"
   },
   {
    "duration": 839,
    "start_time": "2024-10-12T16:04:01.736Z"
   },
   {
    "duration": 61,
    "start_time": "2024-10-12T16:04:02.577Z"
   },
   {
    "duration": 55,
    "start_time": "2024-10-12T16:04:02.640Z"
   },
   {
    "duration": 57,
    "start_time": "2024-10-12T16:04:02.697Z"
   },
   {
    "duration": 30,
    "start_time": "2024-10-12T16:04:02.757Z"
   },
   {
    "duration": 19,
    "start_time": "2024-10-12T16:04:02.789Z"
   },
   {
    "duration": 11,
    "start_time": "2024-10-12T16:04:02.830Z"
   },
   {
    "duration": 54,
    "start_time": "2024-10-12T16:04:02.842Z"
   },
   {
    "duration": 6,
    "start_time": "2024-10-12T16:04:02.897Z"
   },
   {
    "duration": 51,
    "start_time": "2024-10-12T16:04:02.905Z"
   },
   {
    "duration": 149,
    "start_time": "2024-10-12T16:04:02.958Z"
   },
   {
    "duration": 527,
    "start_time": "2024-10-12T16:05:47.458Z"
   },
   {
    "duration": 822,
    "start_time": "2024-10-12T16:06:03.358Z"
   },
   {
    "duration": 69,
    "start_time": "2024-10-12T16:06:04.183Z"
   },
   {
    "duration": 46,
    "start_time": "2024-10-12T16:06:04.256Z"
   },
   {
    "duration": 74,
    "start_time": "2024-10-12T16:06:04.304Z"
   },
   {
    "duration": 32,
    "start_time": "2024-10-12T16:06:04.382Z"
   },
   {
    "duration": 35,
    "start_time": "2024-10-12T16:06:04.416Z"
   },
   {
    "duration": 8,
    "start_time": "2024-10-12T16:06:04.453Z"
   },
   {
    "duration": 79,
    "start_time": "2024-10-12T16:06:04.463Z"
   },
   {
    "duration": 8,
    "start_time": "2024-10-12T16:06:04.544Z"
   },
   {
    "duration": 25,
    "start_time": "2024-10-12T16:06:04.554Z"
   },
   {
    "duration": 177,
    "start_time": "2024-10-12T16:06:04.582Z"
   },
   {
    "duration": 812,
    "start_time": "2024-10-12T16:07:43.564Z"
   },
   {
    "duration": 58,
    "start_time": "2024-10-12T16:07:44.378Z"
   },
   {
    "duration": 52,
    "start_time": "2024-10-12T16:07:44.438Z"
   },
   {
    "duration": 71,
    "start_time": "2024-10-12T16:07:44.493Z"
   },
   {
    "duration": 31,
    "start_time": "2024-10-12T16:07:44.566Z"
   },
   {
    "duration": 35,
    "start_time": "2024-10-12T16:07:44.599Z"
   },
   {
    "duration": 8,
    "start_time": "2024-10-12T16:07:44.636Z"
   },
   {
    "duration": 44,
    "start_time": "2024-10-12T16:07:44.645Z"
   },
   {
    "duration": 6,
    "start_time": "2024-10-12T16:07:44.691Z"
   },
   {
    "duration": 64,
    "start_time": "2024-10-12T16:07:44.700Z"
   },
   {
    "duration": 301,
    "start_time": "2024-10-12T16:07:44.766Z"
   },
   {
    "duration": 7,
    "start_time": "2024-10-12T16:08:49.589Z"
   },
   {
    "duration": 466,
    "start_time": "2024-10-12T16:08:52.444Z"
   },
   {
    "duration": 860,
    "start_time": "2024-10-12T16:09:05.637Z"
   },
   {
    "duration": 66,
    "start_time": "2024-10-12T16:09:06.500Z"
   },
   {
    "duration": 41,
    "start_time": "2024-10-12T16:09:06.568Z"
   },
   {
    "duration": 71,
    "start_time": "2024-10-12T16:09:06.613Z"
   },
   {
    "duration": 28,
    "start_time": "2024-10-12T16:09:06.685Z"
   },
   {
    "duration": 46,
    "start_time": "2024-10-12T16:09:06.715Z"
   },
   {
    "duration": 9,
    "start_time": "2024-10-12T16:09:06.762Z"
   },
   {
    "duration": 42,
    "start_time": "2024-10-12T16:09:06.773Z"
   },
   {
    "duration": 18,
    "start_time": "2024-10-12T16:09:06.817Z"
   },
   {
    "duration": 1116,
    "start_time": "2024-10-12T16:09:06.838Z"
   },
   {
    "duration": 0,
    "start_time": "2024-10-12T16:09:07.957Z"
   },
   {
    "duration": 880,
    "start_time": "2024-10-12T16:09:31.385Z"
   },
   {
    "duration": 58,
    "start_time": "2024-10-12T16:09:32.268Z"
   },
   {
    "duration": 49,
    "start_time": "2024-10-12T16:09:32.328Z"
   },
   {
    "duration": 40,
    "start_time": "2024-10-12T16:09:32.380Z"
   },
   {
    "duration": 40,
    "start_time": "2024-10-12T16:09:32.431Z"
   },
   {
    "duration": 18,
    "start_time": "2024-10-12T16:09:32.472Z"
   },
   {
    "duration": 7,
    "start_time": "2024-10-12T16:09:32.492Z"
   },
   {
    "duration": 78,
    "start_time": "2024-10-12T16:09:32.501Z"
   },
   {
    "duration": 6,
    "start_time": "2024-10-12T16:09:32.580Z"
   },
   {
    "duration": 23,
    "start_time": "2024-10-12T16:09:32.589Z"
   },
   {
    "duration": 350,
    "start_time": "2024-10-12T16:09:32.613Z"
   },
   {
    "duration": 4,
    "start_time": "2024-10-12T16:11:03.791Z"
   },
   {
    "duration": 810,
    "start_time": "2024-10-12T16:11:20.607Z"
   },
   {
    "duration": 79,
    "start_time": "2024-10-12T16:11:21.419Z"
   },
   {
    "duration": 41,
    "start_time": "2024-10-12T16:11:21.500Z"
   },
   {
    "duration": 44,
    "start_time": "2024-10-12T16:11:21.543Z"
   },
   {
    "duration": 27,
    "start_time": "2024-10-12T16:11:21.591Z"
   },
   {
    "duration": 41,
    "start_time": "2024-10-12T16:11:21.619Z"
   },
   {
    "duration": 6,
    "start_time": "2024-10-12T16:11:21.662Z"
   },
   {
    "duration": 42,
    "start_time": "2024-10-12T16:11:21.670Z"
   },
   {
    "duration": 24,
    "start_time": "2024-10-12T16:11:21.713Z"
   },
   {
    "duration": 764,
    "start_time": "2024-10-12T16:11:21.739Z"
   },
   {
    "duration": 0,
    "start_time": "2024-10-12T16:11:22.505Z"
   },
   {
    "duration": 0,
    "start_time": "2024-10-12T16:11:22.506Z"
   },
   {
    "duration": 26,
    "start_time": "2024-10-12T16:12:13.108Z"
   },
   {
    "duration": 73,
    "start_time": "2024-10-12T16:12:21.556Z"
   },
   {
    "duration": 25,
    "start_time": "2024-10-12T16:12:47.994Z"
   },
   {
    "duration": 820,
    "start_time": "2024-10-12T16:13:03.021Z"
   },
   {
    "duration": 73,
    "start_time": "2024-10-12T16:13:03.844Z"
   },
   {
    "duration": 51,
    "start_time": "2024-10-12T16:13:03.919Z"
   },
   {
    "duration": 39,
    "start_time": "2024-10-12T16:13:03.972Z"
   },
   {
    "duration": 40,
    "start_time": "2024-10-12T16:13:04.012Z"
   },
   {
    "duration": 24,
    "start_time": "2024-10-12T16:13:04.054Z"
   },
   {
    "duration": 9,
    "start_time": "2024-10-12T16:13:04.080Z"
   },
   {
    "duration": 85,
    "start_time": "2024-10-12T16:13:04.090Z"
   },
   {
    "duration": 6,
    "start_time": "2024-10-12T16:13:04.183Z"
   },
   {
    "duration": 25,
    "start_time": "2024-10-12T16:13:04.193Z"
   },
   {
    "duration": 340,
    "start_time": "2024-10-12T16:13:04.219Z"
   },
   {
    "duration": 6,
    "start_time": "2024-10-12T16:14:48.916Z"
   },
   {
    "duration": 4,
    "start_time": "2024-10-12T16:15:09.281Z"
   },
   {
    "duration": 4,
    "start_time": "2024-10-12T16:15:14.307Z"
   },
   {
    "duration": 4,
    "start_time": "2024-10-12T16:15:23.401Z"
   },
   {
    "duration": 7,
    "start_time": "2024-10-12T16:15:52.925Z"
   },
   {
    "duration": 873,
    "start_time": "2024-10-12T16:16:11.415Z"
   },
   {
    "duration": 72,
    "start_time": "2024-10-12T16:16:12.291Z"
   },
   {
    "duration": 36,
    "start_time": "2024-10-12T16:16:12.365Z"
   },
   {
    "duration": 61,
    "start_time": "2024-10-12T16:16:12.404Z"
   },
   {
    "duration": 27,
    "start_time": "2024-10-12T16:16:12.467Z"
   },
   {
    "duration": 18,
    "start_time": "2024-10-12T16:16:12.496Z"
   },
   {
    "duration": 26,
    "start_time": "2024-10-12T16:16:12.515Z"
   },
   {
    "duration": 54,
    "start_time": "2024-10-12T16:16:12.547Z"
   },
   {
    "duration": 6,
    "start_time": "2024-10-12T16:16:12.602Z"
   },
   {
    "duration": 6,
    "start_time": "2024-10-12T16:16:12.611Z"
   },
   {
    "duration": 52,
    "start_time": "2024-10-12T16:16:12.619Z"
   },
   {
    "duration": 335,
    "start_time": "2024-10-12T16:16:12.673Z"
   },
   {
    "duration": 482,
    "start_time": "2024-10-12T16:18:12.454Z"
   },
   {
    "duration": 892,
    "start_time": "2024-10-12T16:18:19.723Z"
   },
   {
    "duration": 65,
    "start_time": "2024-10-12T16:18:20.617Z"
   },
   {
    "duration": 56,
    "start_time": "2024-10-12T16:18:20.687Z"
   },
   {
    "duration": 48,
    "start_time": "2024-10-12T16:18:20.747Z"
   },
   {
    "duration": 43,
    "start_time": "2024-10-12T16:18:20.797Z"
   },
   {
    "duration": 26,
    "start_time": "2024-10-12T16:18:20.843Z"
   },
   {
    "duration": 8,
    "start_time": "2024-10-12T16:18:20.871Z"
   },
   {
    "duration": 632,
    "start_time": "2024-10-12T16:18:20.881Z"
   },
   {
    "duration": 0,
    "start_time": "2024-10-12T16:18:21.516Z"
   },
   {
    "duration": 0,
    "start_time": "2024-10-12T16:18:21.517Z"
   },
   {
    "duration": 0,
    "start_time": "2024-10-12T16:18:21.519Z"
   },
   {
    "duration": 0,
    "start_time": "2024-10-12T16:18:21.531Z"
   },
   {
    "duration": 829,
    "start_time": "2024-10-12T16:18:46.841Z"
   },
   {
    "duration": 70,
    "start_time": "2024-10-12T16:18:47.673Z"
   },
   {
    "duration": 53,
    "start_time": "2024-10-12T16:18:47.745Z"
   },
   {
    "duration": 71,
    "start_time": "2024-10-12T16:18:47.802Z"
   },
   {
    "duration": 30,
    "start_time": "2024-10-12T16:18:47.875Z"
   },
   {
    "duration": 27,
    "start_time": "2024-10-12T16:18:47.906Z"
   },
   {
    "duration": 8,
    "start_time": "2024-10-12T16:18:47.936Z"
   },
   {
    "duration": 565,
    "start_time": "2024-10-12T16:18:47.948Z"
   },
   {
    "duration": 0,
    "start_time": "2024-10-12T16:18:48.515Z"
   },
   {
    "duration": 0,
    "start_time": "2024-10-12T16:18:48.516Z"
   },
   {
    "duration": 0,
    "start_time": "2024-10-12T16:18:48.517Z"
   },
   {
    "duration": 0,
    "start_time": "2024-10-12T16:18:48.518Z"
   },
   {
    "duration": 503,
    "start_time": "2024-10-12T16:20:17.796Z"
   },
   {
    "duration": 56,
    "start_time": "2024-10-12T16:20:47.547Z"
   },
   {
    "duration": 821,
    "start_time": "2024-10-12T16:22:51.316Z"
   },
   {
    "duration": 69,
    "start_time": "2024-10-12T16:22:52.139Z"
   },
   {
    "duration": 50,
    "start_time": "2024-10-12T16:22:52.211Z"
   },
   {
    "duration": 43,
    "start_time": "2024-10-12T16:22:52.264Z"
   },
   {
    "duration": 53,
    "start_time": "2024-10-12T16:22:52.310Z"
   },
   {
    "duration": 24,
    "start_time": "2024-10-12T16:22:52.365Z"
   },
   {
    "duration": 8,
    "start_time": "2024-10-12T16:22:52.391Z"
   },
   {
    "duration": 67,
    "start_time": "2024-10-12T16:22:52.400Z"
   },
   {
    "duration": 7,
    "start_time": "2024-10-12T16:22:52.469Z"
   },
   {
    "duration": 7,
    "start_time": "2024-10-12T16:22:52.478Z"
   },
   {
    "duration": 45,
    "start_time": "2024-10-12T16:22:52.487Z"
   },
   {
    "duration": 484,
    "start_time": "2024-10-12T16:22:52.535Z"
   },
   {
    "duration": 401,
    "start_time": "2024-10-12T16:24:42.169Z"
   },
   {
    "duration": 737,
    "start_time": "2024-10-12T16:24:53.711Z"
   },
   {
    "duration": 58,
    "start_time": "2024-10-12T16:24:54.450Z"
   },
   {
    "duration": 47,
    "start_time": "2024-10-12T16:24:54.509Z"
   },
   {
    "duration": 39,
    "start_time": "2024-10-12T16:24:54.558Z"
   },
   {
    "duration": 50,
    "start_time": "2024-10-12T16:24:54.599Z"
   },
   {
    "duration": 21,
    "start_time": "2024-10-12T16:24:54.653Z"
   },
   {
    "duration": 6,
    "start_time": "2024-10-12T16:24:54.677Z"
   },
   {
    "duration": 71,
    "start_time": "2024-10-12T16:24:54.686Z"
   },
   {
    "duration": 6,
    "start_time": "2024-10-12T16:24:54.759Z"
   },
   {
    "duration": 6,
    "start_time": "2024-10-12T16:24:54.769Z"
   },
   {
    "duration": 22,
    "start_time": "2024-10-12T16:24:54.777Z"
   },
   {
    "duration": 434,
    "start_time": "2024-10-12T16:24:54.801Z"
   },
   {
    "duration": 785,
    "start_time": "2024-10-12T16:27:24.072Z"
   },
   {
    "duration": 57,
    "start_time": "2024-10-12T16:27:24.859Z"
   },
   {
    "duration": 48,
    "start_time": "2024-10-12T16:27:24.917Z"
   },
   {
    "duration": 44,
    "start_time": "2024-10-12T16:27:24.967Z"
   },
   {
    "duration": 31,
    "start_time": "2024-10-12T16:27:25.033Z"
   },
   {
    "duration": 19,
    "start_time": "2024-10-12T16:27:25.066Z"
   },
   {
    "duration": 560,
    "start_time": "2024-10-12T16:27:25.086Z"
   },
   {
    "duration": 0,
    "start_time": "2024-10-12T16:27:25.648Z"
   },
   {
    "duration": 0,
    "start_time": "2024-10-12T16:27:25.650Z"
   },
   {
    "duration": 0,
    "start_time": "2024-10-12T16:27:25.651Z"
   },
   {
    "duration": 0,
    "start_time": "2024-10-12T16:27:25.652Z"
   },
   {
    "duration": 0,
    "start_time": "2024-10-12T16:27:25.654Z"
   },
   {
    "duration": 782,
    "start_time": "2024-10-12T16:27:39.420Z"
   },
   {
    "duration": 57,
    "start_time": "2024-10-12T16:27:40.205Z"
   },
   {
    "duration": 37,
    "start_time": "2024-10-12T16:27:40.263Z"
   },
   {
    "duration": 58,
    "start_time": "2024-10-12T16:27:40.303Z"
   },
   {
    "duration": 32,
    "start_time": "2024-10-12T16:27:40.365Z"
   },
   {
    "duration": 40,
    "start_time": "2024-10-12T16:27:40.400Z"
   },
   {
    "duration": 37,
    "start_time": "2024-10-12T16:27:40.442Z"
   },
   {
    "duration": 20,
    "start_time": "2024-10-12T16:27:40.482Z"
   },
   {
    "duration": 43,
    "start_time": "2024-10-12T16:27:40.504Z"
   },
   {
    "duration": 6,
    "start_time": "2024-10-12T16:27:40.549Z"
   },
   {
    "duration": 24,
    "start_time": "2024-10-12T16:27:40.557Z"
   },
   {
    "duration": 522,
    "start_time": "2024-10-12T16:27:40.583Z"
   },
   {
    "duration": 5,
    "start_time": "2024-10-12T16:30:20.642Z"
   },
   {
    "duration": 3,
    "start_time": "2024-10-12T16:30:49.574Z"
   },
   {
    "duration": 794,
    "start_time": "2024-10-12T16:32:09.481Z"
   },
   {
    "duration": 63,
    "start_time": "2024-10-12T16:32:10.277Z"
   },
   {
    "duration": 38,
    "start_time": "2024-10-12T16:32:10.341Z"
   },
   {
    "duration": 62,
    "start_time": "2024-10-12T16:32:10.381Z"
   },
   {
    "duration": 29,
    "start_time": "2024-10-12T16:32:10.446Z"
   },
   {
    "duration": 18,
    "start_time": "2024-10-12T16:32:10.477Z"
   },
   {
    "duration": 58,
    "start_time": "2024-10-12T16:32:10.497Z"
   },
   {
    "duration": 19,
    "start_time": "2024-10-12T16:32:10.557Z"
   },
   {
    "duration": 16,
    "start_time": "2024-10-12T16:32:10.578Z"
   },
   {
    "duration": 6,
    "start_time": "2024-10-12T16:32:10.596Z"
   },
   {
    "duration": 46,
    "start_time": "2024-10-12T16:32:10.604Z"
   },
   {
    "duration": 5,
    "start_time": "2024-10-12T16:32:10.652Z"
   },
   {
    "duration": 4,
    "start_time": "2024-10-12T16:32:10.658Z"
   },
   {
    "duration": 477,
    "start_time": "2024-10-12T16:32:10.664Z"
   },
   {
    "duration": 828,
    "start_time": "2024-10-12T16:33:03.730Z"
   },
   {
    "duration": 57,
    "start_time": "2024-10-12T16:33:04.560Z"
   },
   {
    "duration": 46,
    "start_time": "2024-10-12T16:33:04.619Z"
   },
   {
    "duration": 45,
    "start_time": "2024-10-12T16:33:04.668Z"
   },
   {
    "duration": 45,
    "start_time": "2024-10-12T16:33:04.715Z"
   },
   {
    "duration": 19,
    "start_time": "2024-10-12T16:33:04.763Z"
   },
   {
    "duration": 65,
    "start_time": "2024-10-12T16:33:04.784Z"
   },
   {
    "duration": 20,
    "start_time": "2024-10-12T16:33:04.851Z"
   },
   {
    "duration": 18,
    "start_time": "2024-10-12T16:33:04.873Z"
   },
   {
    "duration": 36,
    "start_time": "2024-10-12T16:33:04.895Z"
   },
   {
    "duration": 25,
    "start_time": "2024-10-12T16:33:04.934Z"
   },
   {
    "duration": 4,
    "start_time": "2024-10-12T16:33:04.961Z"
   },
   {
    "duration": 6,
    "start_time": "2024-10-12T16:33:04.966Z"
   },
   {
    "duration": 510,
    "start_time": "2024-10-12T16:33:04.974Z"
   },
   {
    "duration": 534,
    "start_time": "2024-10-12T16:33:27.251Z"
   },
   {
    "duration": 812,
    "start_time": "2024-10-12T16:33:54.232Z"
   },
   {
    "duration": 60,
    "start_time": "2024-10-12T16:33:55.047Z"
   },
   {
    "duration": 54,
    "start_time": "2024-10-12T16:33:55.109Z"
   },
   {
    "duration": 41,
    "start_time": "2024-10-12T16:33:55.165Z"
   },
   {
    "duration": 46,
    "start_time": "2024-10-12T16:33:55.209Z"
   },
   {
    "duration": 19,
    "start_time": "2024-10-12T16:33:55.257Z"
   },
   {
    "duration": 56,
    "start_time": "2024-10-12T16:33:55.278Z"
   },
   {
    "duration": 19,
    "start_time": "2024-10-12T16:33:55.338Z"
   },
   {
    "duration": 19,
    "start_time": "2024-10-12T16:33:55.359Z"
   },
   {
    "duration": 6,
    "start_time": "2024-10-12T16:33:55.380Z"
   },
   {
    "duration": 46,
    "start_time": "2024-10-12T16:33:55.388Z"
   },
   {
    "duration": 4,
    "start_time": "2024-10-12T16:33:55.436Z"
   },
   {
    "duration": 5,
    "start_time": "2024-10-12T16:33:55.442Z"
   },
   {
    "duration": 748,
    "start_time": "2024-10-12T16:33:55.450Z"
   },
   {
    "duration": 0,
    "start_time": "2024-10-12T16:33:56.200Z"
   },
   {
    "duration": 4,
    "start_time": "2024-10-12T16:34:17.686Z"
   },
   {
    "duration": 838,
    "start_time": "2024-10-12T16:34:43.275Z"
   },
   {
    "duration": 64,
    "start_time": "2024-10-12T16:34:44.115Z"
   },
   {
    "duration": 38,
    "start_time": "2024-10-12T16:34:44.181Z"
   },
   {
    "duration": 40,
    "start_time": "2024-10-12T16:34:44.231Z"
   },
   {
    "duration": 31,
    "start_time": "2024-10-12T16:34:44.274Z"
   },
   {
    "duration": 41,
    "start_time": "2024-10-12T16:34:44.307Z"
   },
   {
    "duration": 33,
    "start_time": "2024-10-12T16:34:44.350Z"
   },
   {
    "duration": 18,
    "start_time": "2024-10-12T16:34:44.385Z"
   },
   {
    "duration": 39,
    "start_time": "2024-10-12T16:34:44.404Z"
   },
   {
    "duration": 6,
    "start_time": "2024-10-12T16:34:44.445Z"
   },
   {
    "duration": 23,
    "start_time": "2024-10-12T16:34:44.453Z"
   },
   {
    "duration": 4,
    "start_time": "2024-10-12T16:34:44.477Z"
   },
   {
    "duration": 4,
    "start_time": "2024-10-12T16:34:44.482Z"
   },
   {
    "duration": 3,
    "start_time": "2024-10-12T16:34:44.489Z"
   },
   {
    "duration": 525,
    "start_time": "2024-10-12T16:34:44.494Z"
   },
   {
    "duration": 819,
    "start_time": "2024-10-12T16:37:37.253Z"
   },
   {
    "duration": 64,
    "start_time": "2024-10-12T16:37:38.074Z"
   },
   {
    "duration": 38,
    "start_time": "2024-10-12T16:37:38.141Z"
   },
   {
    "duration": 51,
    "start_time": "2024-10-12T16:37:38.180Z"
   },
   {
    "duration": 32,
    "start_time": "2024-10-12T16:37:38.235Z"
   },
   {
    "duration": 20,
    "start_time": "2024-10-12T16:37:38.269Z"
   },
   {
    "duration": 61,
    "start_time": "2024-10-12T16:37:38.290Z"
   },
   {
    "duration": 19,
    "start_time": "2024-10-12T16:37:38.352Z"
   },
   {
    "duration": 17,
    "start_time": "2024-10-12T16:37:38.373Z"
   },
   {
    "duration": 5,
    "start_time": "2024-10-12T16:37:38.393Z"
   },
   {
    "duration": 51,
    "start_time": "2024-10-12T16:37:38.400Z"
   },
   {
    "duration": 4,
    "start_time": "2024-10-12T16:37:38.454Z"
   },
   {
    "duration": 5,
    "start_time": "2024-10-12T16:37:38.459Z"
   },
   {
    "duration": 3,
    "start_time": "2024-10-12T16:37:38.467Z"
   },
   {
    "duration": 509,
    "start_time": "2024-10-12T16:37:38.472Z"
   },
   {
    "duration": 275,
    "start_time": "2024-10-12T16:41:24.379Z"
   },
   {
    "duration": 783,
    "start_time": "2024-10-12T16:41:32.977Z"
   },
   {
    "duration": 65,
    "start_time": "2024-10-12T16:41:33.762Z"
   },
   {
    "duration": 38,
    "start_time": "2024-10-12T16:41:33.828Z"
   },
   {
    "duration": 63,
    "start_time": "2024-10-12T16:41:33.868Z"
   },
   {
    "duration": 29,
    "start_time": "2024-10-12T16:41:33.933Z"
   },
   {
    "duration": 18,
    "start_time": "2024-10-12T16:41:33.964Z"
   },
   {
    "duration": 56,
    "start_time": "2024-10-12T16:41:33.984Z"
   },
   {
    "duration": 19,
    "start_time": "2024-10-12T16:41:34.041Z"
   },
   {
    "duration": 15,
    "start_time": "2024-10-12T16:41:34.062Z"
   },
   {
    "duration": 6,
    "start_time": "2024-10-12T16:41:34.080Z"
   },
   {
    "duration": 50,
    "start_time": "2024-10-12T16:41:34.087Z"
   },
   {
    "duration": 5,
    "start_time": "2024-10-12T16:41:34.139Z"
   },
   {
    "duration": 5,
    "start_time": "2024-10-12T16:41:34.145Z"
   },
   {
    "duration": 3,
    "start_time": "2024-10-12T16:41:34.152Z"
   },
   {
    "duration": 417,
    "start_time": "2024-10-12T16:41:34.157Z"
   },
   {
    "duration": 785,
    "start_time": "2024-10-12T16:42:08.982Z"
   },
   {
    "duration": 58,
    "start_time": "2024-10-12T16:42:09.769Z"
   },
   {
    "duration": 37,
    "start_time": "2024-10-12T16:42:09.832Z"
   },
   {
    "duration": 44,
    "start_time": "2024-10-12T16:42:09.871Z"
   },
   {
    "duration": 31,
    "start_time": "2024-10-12T16:42:09.932Z"
   },
   {
    "duration": 20,
    "start_time": "2024-10-12T16:42:09.965Z"
   },
   {
    "duration": 12,
    "start_time": "2024-10-12T16:42:09.987Z"
   },
   {
    "duration": 34,
    "start_time": "2024-10-12T16:42:10.032Z"
   },
   {
    "duration": 19,
    "start_time": "2024-10-12T16:42:10.068Z"
   },
   {
    "duration": 16,
    "start_time": "2024-10-12T16:42:10.090Z"
   },
   {
    "duration": 22,
    "start_time": "2024-10-12T16:42:10.131Z"
   },
   {
    "duration": 3,
    "start_time": "2024-10-12T16:42:10.155Z"
   },
   {
    "duration": 5,
    "start_time": "2024-10-12T16:42:10.160Z"
   },
   {
    "duration": 3,
    "start_time": "2024-10-12T16:42:10.167Z"
   },
   {
    "duration": 442,
    "start_time": "2024-10-12T16:42:10.172Z"
   },
   {
    "duration": 343,
    "start_time": "2024-10-12T16:43:16.610Z"
   },
   {
    "duration": 12,
    "start_time": "2024-10-12T16:45:38.733Z"
   },
   {
    "duration": 37,
    "start_time": "2024-10-12T16:45:45.427Z"
   },
   {
    "duration": 4,
    "start_time": "2024-10-12T16:45:59.144Z"
   },
   {
    "duration": 96,
    "start_time": "2024-10-12T16:46:07.579Z"
   },
   {
    "duration": 794,
    "start_time": "2024-10-12T16:46:42.374Z"
   },
   {
    "duration": 71,
    "start_time": "2024-10-12T16:46:43.170Z"
   },
   {
    "duration": 37,
    "start_time": "2024-10-12T16:46:43.243Z"
   },
   {
    "duration": 51,
    "start_time": "2024-10-12T16:46:43.283Z"
   },
   {
    "duration": 28,
    "start_time": "2024-10-12T16:46:43.337Z"
   },
   {
    "duration": 19,
    "start_time": "2024-10-12T16:46:43.367Z"
   },
   {
    "duration": 11,
    "start_time": "2024-10-12T16:46:43.388Z"
   },
   {
    "duration": 574,
    "start_time": "2024-10-12T16:46:43.400Z"
   },
   {
    "duration": 0,
    "start_time": "2024-10-12T16:46:43.976Z"
   },
   {
    "duration": 0,
    "start_time": "2024-10-12T16:46:43.978Z"
   },
   {
    "duration": 0,
    "start_time": "2024-10-12T16:46:43.979Z"
   },
   {
    "duration": 0,
    "start_time": "2024-10-12T16:46:43.980Z"
   },
   {
    "duration": 0,
    "start_time": "2024-10-12T16:46:43.981Z"
   },
   {
    "duration": 0,
    "start_time": "2024-10-12T16:46:43.982Z"
   },
   {
    "duration": 0,
    "start_time": "2024-10-12T16:46:43.983Z"
   },
   {
    "duration": 0,
    "start_time": "2024-10-12T16:46:43.984Z"
   },
   {
    "duration": 0,
    "start_time": "2024-10-12T16:46:43.985Z"
   },
   {
    "duration": 23,
    "start_time": "2024-10-12T16:46:54.919Z"
   },
   {
    "duration": 798,
    "start_time": "2024-10-12T16:47:00.567Z"
   },
   {
    "duration": 57,
    "start_time": "2024-10-12T16:47:01.367Z"
   },
   {
    "duration": 37,
    "start_time": "2024-10-12T16:47:01.432Z"
   },
   {
    "duration": 40,
    "start_time": "2024-10-12T16:47:01.470Z"
   },
   {
    "duration": 28,
    "start_time": "2024-10-12T16:47:01.534Z"
   },
   {
    "duration": 19,
    "start_time": "2024-10-12T16:47:01.564Z"
   },
   {
    "duration": 10,
    "start_time": "2024-10-12T16:47:01.585Z"
   },
   {
    "duration": 48,
    "start_time": "2024-10-12T16:47:01.596Z"
   },
   {
    "duration": 7,
    "start_time": "2024-10-12T16:47:01.645Z"
   },
   {
    "duration": 18,
    "start_time": "2024-10-12T16:47:01.654Z"
   },
   {
    "duration": 18,
    "start_time": "2024-10-12T16:47:01.674Z"
   },
   {
    "duration": 41,
    "start_time": "2024-10-12T16:47:01.693Z"
   },
   {
    "duration": 23,
    "start_time": "2024-10-12T16:47:01.736Z"
   },
   {
    "duration": 3,
    "start_time": "2024-10-12T16:47:01.762Z"
   },
   {
    "duration": 5,
    "start_time": "2024-10-12T16:47:01.767Z"
   },
   {
    "duration": 3,
    "start_time": "2024-10-12T16:47:01.773Z"
   },
   {
    "duration": 502,
    "start_time": "2024-10-12T16:47:01.778Z"
   },
   {
    "duration": 9,
    "start_time": "2024-10-12T16:48:47.665Z"
   },
   {
    "duration": 8,
    "start_time": "2024-10-12T16:49:26.840Z"
   },
   {
    "duration": 32,
    "start_time": "2024-10-12T16:50:26.215Z"
   },
   {
    "duration": 779,
    "start_time": "2024-10-12T16:51:14.923Z"
   },
   {
    "duration": 60,
    "start_time": "2024-10-12T16:51:15.704Z"
   },
   {
    "duration": 39,
    "start_time": "2024-10-12T16:51:15.765Z"
   },
   {
    "duration": 56,
    "start_time": "2024-10-12T16:51:15.807Z"
   },
   {
    "duration": 29,
    "start_time": "2024-10-12T16:51:15.865Z"
   },
   {
    "duration": 43,
    "start_time": "2024-10-12T16:51:15.896Z"
   },
   {
    "duration": 10,
    "start_time": "2024-10-12T16:51:15.941Z"
   },
   {
    "duration": 23,
    "start_time": "2024-10-12T16:51:15.953Z"
   },
   {
    "duration": 6,
    "start_time": "2024-10-12T16:51:15.978Z"
   },
   {
    "duration": 44,
    "start_time": "2024-10-12T16:51:15.987Z"
   },
   {
    "duration": 19,
    "start_time": "2024-10-12T16:51:16.033Z"
   },
   {
    "duration": 17,
    "start_time": "2024-10-12T16:51:16.053Z"
   },
   {
    "duration": 3,
    "start_time": "2024-10-12T16:51:16.072Z"
   },
   {
    "duration": 9,
    "start_time": "2024-10-12T16:51:16.077Z"
   },
   {
    "duration": 504,
    "start_time": "2024-10-12T16:51:16.087Z"
   },
   {
    "duration": 766,
    "start_time": "2024-10-12T16:52:27.113Z"
   },
   {
    "duration": 65,
    "start_time": "2024-10-12T16:52:27.882Z"
   },
   {
    "duration": 36,
    "start_time": "2024-10-12T16:52:27.949Z"
   },
   {
    "duration": 53,
    "start_time": "2024-10-12T16:52:27.987Z"
   },
   {
    "duration": 27,
    "start_time": "2024-10-12T16:52:28.043Z"
   },
   {
    "duration": 17,
    "start_time": "2024-10-12T16:52:28.072Z"
   },
   {
    "duration": 11,
    "start_time": "2024-10-12T16:52:28.092Z"
   },
   {
    "duration": 51,
    "start_time": "2024-10-12T16:52:28.104Z"
   },
   {
    "duration": 7,
    "start_time": "2024-10-12T16:52:28.156Z"
   },
   {
    "duration": 18,
    "start_time": "2024-10-12T16:52:28.165Z"
   },
   {
    "duration": 22,
    "start_time": "2024-10-12T16:52:28.184Z"
   },
   {
    "duration": 42,
    "start_time": "2024-10-12T16:52:28.208Z"
   },
   {
    "duration": 4,
    "start_time": "2024-10-12T16:52:28.251Z"
   },
   {
    "duration": 9,
    "start_time": "2024-10-12T16:52:28.257Z"
   },
   {
    "duration": 494,
    "start_time": "2024-10-12T16:52:28.268Z"
   },
   {
    "duration": 752,
    "start_time": "2024-10-12T16:53:21.320Z"
   },
   {
    "duration": 61,
    "start_time": "2024-10-12T16:53:22.074Z"
   },
   {
    "duration": 37,
    "start_time": "2024-10-12T16:53:22.137Z"
   },
   {
    "duration": 58,
    "start_time": "2024-10-12T16:53:22.176Z"
   },
   {
    "duration": 31,
    "start_time": "2024-10-12T16:53:22.237Z"
   },
   {
    "duration": 25,
    "start_time": "2024-10-12T16:53:22.270Z"
   },
   {
    "duration": 40,
    "start_time": "2024-10-12T16:53:22.297Z"
   },
   {
    "duration": 23,
    "start_time": "2024-10-12T16:53:22.339Z"
   },
   {
    "duration": 7,
    "start_time": "2024-10-12T16:53:22.364Z"
   },
   {
    "duration": 19,
    "start_time": "2024-10-12T16:53:22.373Z"
   },
   {
    "duration": 41,
    "start_time": "2024-10-12T16:53:22.393Z"
   },
   {
    "duration": 16,
    "start_time": "2024-10-12T16:53:22.436Z"
   },
   {
    "duration": 3,
    "start_time": "2024-10-12T16:53:22.454Z"
   },
   {
    "duration": 8,
    "start_time": "2024-10-12T16:53:22.461Z"
   },
   {
    "duration": 5,
    "start_time": "2024-10-12T16:53:22.470Z"
   },
   {
    "duration": 490,
    "start_time": "2024-10-12T16:53:22.478Z"
   },
   {
    "duration": 9,
    "start_time": "2024-10-12T16:54:04.598Z"
   },
   {
    "duration": 766,
    "start_time": "2024-10-12T16:54:12.594Z"
   },
   {
    "duration": 56,
    "start_time": "2024-10-12T16:54:13.363Z"
   },
   {
    "duration": 47,
    "start_time": "2024-10-12T16:54:13.420Z"
   },
   {
    "duration": 43,
    "start_time": "2024-10-12T16:54:13.469Z"
   },
   {
    "duration": 33,
    "start_time": "2024-10-12T16:54:13.532Z"
   },
   {
    "duration": 20,
    "start_time": "2024-10-12T16:54:13.567Z"
   },
   {
    "duration": 10,
    "start_time": "2024-10-12T16:54:13.589Z"
   },
   {
    "duration": 50,
    "start_time": "2024-10-12T16:54:13.601Z"
   },
   {
    "duration": 6,
    "start_time": "2024-10-12T16:54:13.653Z"
   },
   {
    "duration": 18,
    "start_time": "2024-10-12T16:54:13.661Z"
   },
   {
    "duration": 20,
    "start_time": "2024-10-12T16:54:13.681Z"
   },
   {
    "duration": 39,
    "start_time": "2024-10-12T16:54:13.703Z"
   },
   {
    "duration": 4,
    "start_time": "2024-10-12T16:54:13.744Z"
   },
   {
    "duration": 8,
    "start_time": "2024-10-12T16:54:13.751Z"
   },
   {
    "duration": 8,
    "start_time": "2024-10-12T16:54:13.760Z"
   },
   {
    "duration": 513,
    "start_time": "2024-10-12T16:54:13.770Z"
   },
   {
    "duration": 779,
    "start_time": "2024-10-12T16:55:11.976Z"
   },
   {
    "duration": 56,
    "start_time": "2024-10-12T16:55:12.757Z"
   },
   {
    "duration": 47,
    "start_time": "2024-10-12T16:55:12.815Z"
   },
   {
    "duration": 39,
    "start_time": "2024-10-12T16:55:12.866Z"
   },
   {
    "duration": 46,
    "start_time": "2024-10-12T16:55:12.907Z"
   },
   {
    "duration": 18,
    "start_time": "2024-10-12T16:55:12.955Z"
   },
   {
    "duration": 11,
    "start_time": "2024-10-12T16:55:12.975Z"
   },
   {
    "duration": 47,
    "start_time": "2024-10-12T16:55:12.988Z"
   },
   {
    "duration": 7,
    "start_time": "2024-10-12T16:55:13.037Z"
   },
   {
    "duration": 18,
    "start_time": "2024-10-12T16:55:13.046Z"
   },
   {
    "duration": 21,
    "start_time": "2024-10-12T16:55:13.065Z"
   },
   {
    "duration": 42,
    "start_time": "2024-10-12T16:55:13.088Z"
   },
   {
    "duration": 6,
    "start_time": "2024-10-12T16:55:13.132Z"
   },
   {
    "duration": 9,
    "start_time": "2024-10-12T16:55:13.140Z"
   },
   {
    "duration": 7,
    "start_time": "2024-10-12T16:55:13.151Z"
   },
   {
    "duration": 493,
    "start_time": "2024-10-12T16:55:13.160Z"
   },
   {
    "duration": 17,
    "start_time": "2024-10-12T16:56:09.169Z"
   },
   {
    "duration": 3,
    "start_time": "2024-10-12T16:56:20.671Z"
   },
   {
    "duration": 51,
    "start_time": "2024-10-12T16:56:21.206Z"
   },
   {
    "duration": 35,
    "start_time": "2024-10-12T16:56:21.639Z"
   },
   {
    "duration": 40,
    "start_time": "2024-10-12T16:56:21.980Z"
   },
   {
    "duration": 30,
    "start_time": "2024-10-12T16:56:22.422Z"
   },
   {
    "duration": 18,
    "start_time": "2024-10-12T16:56:22.646Z"
   },
   {
    "duration": 9,
    "start_time": "2024-10-12T16:56:23.165Z"
   },
   {
    "duration": 26,
    "start_time": "2024-10-12T16:56:23.428Z"
   },
   {
    "duration": 6,
    "start_time": "2024-10-12T16:56:23.765Z"
   },
   {
    "duration": 21,
    "start_time": "2024-10-12T16:56:24.073Z"
   },
   {
    "duration": 23,
    "start_time": "2024-10-12T16:56:24.453Z"
   },
   {
    "duration": 16,
    "start_time": "2024-10-12T16:56:25.077Z"
   },
   {
    "duration": 4,
    "start_time": "2024-10-12T16:56:25.637Z"
   },
   {
    "duration": 9,
    "start_time": "2024-10-12T16:56:26.778Z"
   },
   {
    "duration": 553,
    "start_time": "2024-10-12T16:56:27.288Z"
   },
   {
    "duration": 72,
    "start_time": "2024-10-12T16:56:32.326Z"
   },
   {
    "duration": 9,
    "start_time": "2024-10-12T16:56:59.309Z"
   },
   {
    "duration": 782,
    "start_time": "2024-10-12T16:57:06.178Z"
   },
   {
    "duration": 55,
    "start_time": "2024-10-12T16:57:06.962Z"
   },
   {
    "duration": 45,
    "start_time": "2024-10-12T16:57:07.019Z"
   },
   {
    "duration": 41,
    "start_time": "2024-10-12T16:57:07.068Z"
   },
   {
    "duration": 43,
    "start_time": "2024-10-12T16:57:07.112Z"
   },
   {
    "duration": 20,
    "start_time": "2024-10-12T16:57:07.157Z"
   },
   {
    "duration": 11,
    "start_time": "2024-10-12T16:57:07.179Z"
   },
   {
    "duration": 52,
    "start_time": "2024-10-12T16:57:07.192Z"
   },
   {
    "duration": 6,
    "start_time": "2024-10-12T16:57:07.246Z"
   },
   {
    "duration": 19,
    "start_time": "2024-10-12T16:57:07.255Z"
   },
   {
    "duration": 21,
    "start_time": "2024-10-12T16:57:07.276Z"
   },
   {
    "duration": 43,
    "start_time": "2024-10-12T16:57:07.300Z"
   },
   {
    "duration": 4,
    "start_time": "2024-10-12T16:57:07.345Z"
   },
   {
    "duration": 9,
    "start_time": "2024-10-12T16:57:07.351Z"
   },
   {
    "duration": 8,
    "start_time": "2024-10-12T16:57:07.362Z"
   },
   {
    "duration": 511,
    "start_time": "2024-10-12T16:57:07.372Z"
   },
   {
    "duration": 47,
    "start_time": "2024-10-12T16:58:08.214Z"
   },
   {
    "duration": 567,
    "start_time": "2024-10-12T16:59:11.948Z"
   },
   {
    "duration": 750,
    "start_time": "2024-10-12T17:01:48.607Z"
   },
   {
    "duration": 65,
    "start_time": "2024-10-12T17:01:49.360Z"
   },
   {
    "duration": 36,
    "start_time": "2024-10-12T17:01:49.434Z"
   },
   {
    "duration": 39,
    "start_time": "2024-10-12T17:01:49.472Z"
   },
   {
    "duration": 46,
    "start_time": "2024-10-12T17:01:49.512Z"
   },
   {
    "duration": 19,
    "start_time": "2024-10-12T17:01:49.560Z"
   },
   {
    "duration": 11,
    "start_time": "2024-10-12T17:01:49.581Z"
   },
   {
    "duration": 51,
    "start_time": "2024-10-12T17:01:49.594Z"
   },
   {
    "duration": 6,
    "start_time": "2024-10-12T17:01:49.648Z"
   },
   {
    "duration": 18,
    "start_time": "2024-10-12T17:01:49.656Z"
   },
   {
    "duration": 20,
    "start_time": "2024-10-12T17:01:49.676Z"
   },
   {
    "duration": 40,
    "start_time": "2024-10-12T17:01:49.698Z"
   },
   {
    "duration": 4,
    "start_time": "2024-10-12T17:01:49.740Z"
   },
   {
    "duration": 10,
    "start_time": "2024-10-12T17:01:49.745Z"
   },
   {
    "duration": 818,
    "start_time": "2024-10-12T17:01:49.758Z"
   },
   {
    "duration": 0,
    "start_time": "2024-10-12T17:01:50.579Z"
   },
   {
    "duration": 47,
    "start_time": "2024-10-12T17:01:58.663Z"
   },
   {
    "duration": 46,
    "start_time": "2024-10-12T17:02:28.934Z"
   },
   {
    "duration": 827,
    "start_time": "2024-10-12T17:02:35.433Z"
   },
   {
    "duration": 56,
    "start_time": "2024-10-12T17:02:36.263Z"
   },
   {
    "duration": 45,
    "start_time": "2024-10-12T17:02:36.320Z"
   },
   {
    "duration": 40,
    "start_time": "2024-10-12T17:02:36.367Z"
   },
   {
    "duration": 45,
    "start_time": "2024-10-12T17:02:36.409Z"
   },
   {
    "duration": 19,
    "start_time": "2024-10-12T17:02:36.456Z"
   },
   {
    "duration": 11,
    "start_time": "2024-10-12T17:02:36.477Z"
   },
   {
    "duration": 51,
    "start_time": "2024-10-12T17:02:36.489Z"
   },
   {
    "duration": 7,
    "start_time": "2024-10-12T17:02:36.542Z"
   },
   {
    "duration": 20,
    "start_time": "2024-10-12T17:02:36.550Z"
   },
   {
    "duration": 24,
    "start_time": "2024-10-12T17:02:36.571Z"
   },
   {
    "duration": 46,
    "start_time": "2024-10-12T17:02:36.598Z"
   },
   {
    "duration": 4,
    "start_time": "2024-10-12T17:02:36.646Z"
   },
   {
    "duration": 9,
    "start_time": "2024-10-12T17:02:36.653Z"
   },
   {
    "duration": 72,
    "start_time": "2024-10-12T17:02:36.664Z"
   },
   {
    "duration": 472,
    "start_time": "2024-10-12T17:02:36.738Z"
   },
   {
    "duration": 50,
    "start_time": "2024-10-12T17:02:58.096Z"
   },
   {
    "duration": 54,
    "start_time": "2024-10-12T17:03:52.806Z"
   },
   {
    "duration": 826,
    "start_time": "2024-10-12T17:03:59.132Z"
   },
   {
    "duration": 58,
    "start_time": "2024-10-12T17:03:59.960Z"
   },
   {
    "duration": 46,
    "start_time": "2024-10-12T17:04:00.020Z"
   },
   {
    "duration": 39,
    "start_time": "2024-10-12T17:04:00.069Z"
   },
   {
    "duration": 50,
    "start_time": "2024-10-12T17:04:00.110Z"
   },
   {
    "duration": 20,
    "start_time": "2024-10-12T17:04:00.161Z"
   },
   {
    "duration": 11,
    "start_time": "2024-10-12T17:04:00.183Z"
   },
   {
    "duration": 48,
    "start_time": "2024-10-12T17:04:00.195Z"
   },
   {
    "duration": 7,
    "start_time": "2024-10-12T17:04:00.246Z"
   },
   {
    "duration": 19,
    "start_time": "2024-10-12T17:04:00.255Z"
   },
   {
    "duration": 20,
    "start_time": "2024-10-12T17:04:00.277Z"
   },
   {
    "duration": 16,
    "start_time": "2024-10-12T17:04:00.299Z"
   },
   {
    "duration": 3,
    "start_time": "2024-10-12T17:04:00.332Z"
   },
   {
    "duration": 10,
    "start_time": "2024-10-12T17:04:00.337Z"
   },
   {
    "duration": 90,
    "start_time": "2024-10-12T17:04:00.349Z"
   },
   {
    "duration": 462,
    "start_time": "2024-10-12T17:04:00.441Z"
   },
   {
    "duration": 14,
    "start_time": "2024-10-12T17:04:25.784Z"
   },
   {
    "duration": 766,
    "start_time": "2024-10-12T17:05:39.716Z"
   },
   {
    "duration": 58,
    "start_time": "2024-10-12T17:05:40.484Z"
   },
   {
    "duration": 39,
    "start_time": "2024-10-12T17:05:40.543Z"
   },
   {
    "duration": 59,
    "start_time": "2024-10-12T17:05:40.585Z"
   },
   {
    "duration": 28,
    "start_time": "2024-10-12T17:05:40.646Z"
   },
   {
    "duration": 19,
    "start_time": "2024-10-12T17:05:40.675Z"
   },
   {
    "duration": 40,
    "start_time": "2024-10-12T17:05:40.696Z"
   },
   {
    "duration": 24,
    "start_time": "2024-10-12T17:05:40.738Z"
   },
   {
    "duration": 6,
    "start_time": "2024-10-12T17:05:40.764Z"
   },
   {
    "duration": 18,
    "start_time": "2024-10-12T17:05:40.774Z"
   },
   {
    "duration": 40,
    "start_time": "2024-10-12T17:05:40.794Z"
   },
   {
    "duration": 17,
    "start_time": "2024-10-12T17:05:40.836Z"
   },
   {
    "duration": 4,
    "start_time": "2024-10-12T17:05:40.856Z"
   },
   {
    "duration": 9,
    "start_time": "2024-10-12T17:05:40.862Z"
   },
   {
    "duration": 15,
    "start_time": "2024-10-12T17:05:40.873Z"
   },
   {
    "duration": 510,
    "start_time": "2024-10-12T17:05:40.890Z"
   },
   {
    "duration": 16,
    "start_time": "2024-10-12T17:08:55.658Z"
   },
   {
    "duration": 798,
    "start_time": "2024-10-12T17:09:01.468Z"
   },
   {
    "duration": 65,
    "start_time": "2024-10-12T17:09:02.268Z"
   },
   {
    "duration": 37,
    "start_time": "2024-10-12T17:09:02.335Z"
   },
   {
    "duration": 56,
    "start_time": "2024-10-12T17:09:02.375Z"
   },
   {
    "duration": 28,
    "start_time": "2024-10-12T17:09:02.434Z"
   },
   {
    "duration": 19,
    "start_time": "2024-10-12T17:09:02.463Z"
   },
   {
    "duration": 10,
    "start_time": "2024-10-12T17:09:02.484Z"
   },
   {
    "duration": 52,
    "start_time": "2024-10-12T17:09:02.495Z"
   },
   {
    "duration": 6,
    "start_time": "2024-10-12T17:09:02.549Z"
   },
   {
    "duration": 19,
    "start_time": "2024-10-12T17:09:02.558Z"
   },
   {
    "duration": 21,
    "start_time": "2024-10-12T17:09:02.579Z"
   },
   {
    "duration": 36,
    "start_time": "2024-10-12T17:09:02.601Z"
   },
   {
    "duration": 4,
    "start_time": "2024-10-12T17:09:02.639Z"
   },
   {
    "duration": 9,
    "start_time": "2024-10-12T17:09:02.644Z"
   },
   {
    "duration": 15,
    "start_time": "2024-10-12T17:09:02.654Z"
   },
   {
    "duration": 511,
    "start_time": "2024-10-12T17:09:02.671Z"
   },
   {
    "duration": 12,
    "start_time": "2024-10-12T17:09:48.634Z"
   },
   {
    "duration": 848,
    "start_time": "2024-10-12T17:10:01.834Z"
   },
   {
    "duration": 72,
    "start_time": "2024-10-12T17:10:02.684Z"
   },
   {
    "duration": 43,
    "start_time": "2024-10-12T17:10:02.758Z"
   },
   {
    "duration": 63,
    "start_time": "2024-10-12T17:10:02.804Z"
   },
   {
    "duration": 29,
    "start_time": "2024-10-12T17:10:02.869Z"
   },
   {
    "duration": 31,
    "start_time": "2024-10-12T17:10:02.900Z"
   },
   {
    "duration": 14,
    "start_time": "2024-10-12T17:10:02.933Z"
   },
   {
    "duration": 27,
    "start_time": "2024-10-12T17:10:02.949Z"
   },
   {
    "duration": 6,
    "start_time": "2024-10-12T17:10:02.978Z"
   },
   {
    "duration": 18,
    "start_time": "2024-10-12T17:10:02.988Z"
   },
   {
    "duration": 60,
    "start_time": "2024-10-12T17:10:03.008Z"
   },
   {
    "duration": 18,
    "start_time": "2024-10-12T17:10:03.069Z"
   },
   {
    "duration": 4,
    "start_time": "2024-10-12T17:10:03.090Z"
   },
   {
    "duration": 9,
    "start_time": "2024-10-12T17:10:03.095Z"
   },
   {
    "duration": 51,
    "start_time": "2024-10-12T17:10:03.105Z"
   },
   {
    "duration": 560,
    "start_time": "2024-10-12T17:10:03.157Z"
   },
   {
    "duration": 12,
    "start_time": "2024-10-12T17:11:00.254Z"
   },
   {
    "duration": 860,
    "start_time": "2024-10-12T17:11:08.367Z"
   },
   {
    "duration": 58,
    "start_time": "2024-10-12T17:11:09.229Z"
   },
   {
    "duration": 61,
    "start_time": "2024-10-12T17:11:09.289Z"
   },
   {
    "duration": 40,
    "start_time": "2024-10-12T17:11:09.356Z"
   },
   {
    "duration": 28,
    "start_time": "2024-10-12T17:11:09.398Z"
   },
   {
    "duration": 19,
    "start_time": "2024-10-12T17:11:09.428Z"
   },
   {
    "duration": 10,
    "start_time": "2024-10-12T17:11:09.449Z"
   },
   {
    "duration": 24,
    "start_time": "2024-10-12T17:11:09.462Z"
   },
   {
    "duration": 10,
    "start_time": "2024-10-12T17:11:09.488Z"
   },
   {
    "duration": 49,
    "start_time": "2024-10-12T17:11:09.499Z"
   },
   {
    "duration": 30,
    "start_time": "2024-10-12T17:11:09.550Z"
   },
   {
    "duration": 17,
    "start_time": "2024-10-12T17:11:09.582Z"
   },
   {
    "duration": 4,
    "start_time": "2024-10-12T17:11:09.601Z"
   },
   {
    "duration": 28,
    "start_time": "2024-10-12T17:11:09.609Z"
   },
   {
    "duration": 20,
    "start_time": "2024-10-12T17:11:09.639Z"
   },
   {
    "duration": 560,
    "start_time": "2024-10-12T17:11:09.662Z"
   },
   {
    "duration": 754,
    "start_time": "2024-10-12T21:52:23.683Z"
   },
   {
    "duration": 103,
    "start_time": "2024-10-12T21:52:24.439Z"
   },
   {
    "duration": 39,
    "start_time": "2024-10-12T21:52:24.544Z"
   },
   {
    "duration": 52,
    "start_time": "2024-10-12T21:52:24.585Z"
   },
   {
    "duration": 26,
    "start_time": "2024-10-12T21:52:24.641Z"
   },
   {
    "duration": 18,
    "start_time": "2024-10-12T21:52:24.669Z"
   },
   {
    "duration": 33,
    "start_time": "2024-10-12T21:52:24.690Z"
   },
   {
    "duration": 23,
    "start_time": "2024-10-12T21:52:24.724Z"
   },
   {
    "duration": 6,
    "start_time": "2024-10-12T21:52:24.749Z"
   },
   {
    "duration": 18,
    "start_time": "2024-10-12T21:52:24.757Z"
   },
   {
    "duration": 53,
    "start_time": "2024-10-12T21:52:24.776Z"
   },
   {
    "duration": 16,
    "start_time": "2024-10-12T21:52:24.832Z"
   },
   {
    "duration": 4,
    "start_time": "2024-10-12T21:52:24.849Z"
   },
   {
    "duration": 8,
    "start_time": "2024-10-12T21:52:24.856Z"
   },
   {
    "duration": 15,
    "start_time": "2024-10-12T21:52:24.866Z"
   },
   {
    "duration": 464,
    "start_time": "2024-10-12T21:52:24.911Z"
   },
   {
    "duration": 70,
    "start_time": "2024-10-12T21:52:54.759Z"
   },
   {
    "duration": 6,
    "start_time": "2024-10-12T21:54:46.379Z"
   },
   {
    "duration": 732,
    "start_time": "2024-10-12T21:55:16.789Z"
   },
   {
    "duration": 56,
    "start_time": "2024-10-12T21:55:17.524Z"
   },
   {
    "duration": 46,
    "start_time": "2024-10-12T21:55:17.581Z"
   },
   {
    "duration": 41,
    "start_time": "2024-10-12T21:55:17.629Z"
   },
   {
    "duration": 50,
    "start_time": "2024-10-12T21:55:17.673Z"
   },
   {
    "duration": 17,
    "start_time": "2024-10-12T21:55:17.726Z"
   },
   {
    "duration": 9,
    "start_time": "2024-10-12T21:55:17.745Z"
   },
   {
    "duration": 22,
    "start_time": "2024-10-12T21:55:17.756Z"
   },
   {
    "duration": 6,
    "start_time": "2024-10-12T21:55:17.779Z"
   },
   {
    "duration": 44,
    "start_time": "2024-10-12T21:55:17.786Z"
   },
   {
    "duration": 20,
    "start_time": "2024-10-12T21:55:17.831Z"
   },
   {
    "duration": 17,
    "start_time": "2024-10-12T21:55:17.853Z"
   },
   {
    "duration": 6,
    "start_time": "2024-10-12T21:55:17.871Z"
   },
   {
    "duration": 35,
    "start_time": "2024-10-12T21:55:17.880Z"
   },
   {
    "duration": 6,
    "start_time": "2024-10-12T21:55:17.917Z"
   },
   {
    "duration": 474,
    "start_time": "2024-10-12T21:55:17.925Z"
   },
   {
    "duration": 10,
    "start_time": "2024-10-12T21:55:48.111Z"
   },
   {
    "duration": 16,
    "start_time": "2024-10-12T21:56:06.216Z"
   },
   {
    "duration": 3,
    "start_time": "2024-10-12T21:56:31.589Z"
   },
   {
    "duration": 51,
    "start_time": "2024-10-12T21:56:33.020Z"
   },
   {
    "duration": 42,
    "start_time": "2024-10-12T21:56:33.342Z"
   },
   {
    "duration": 41,
    "start_time": "2024-10-12T21:56:33.674Z"
   },
   {
    "duration": 31,
    "start_time": "2024-10-12T21:56:34.007Z"
   },
   {
    "duration": 20,
    "start_time": "2024-10-12T21:56:34.170Z"
   },
   {
    "duration": 10,
    "start_time": "2024-10-12T21:56:34.574Z"
   },
   {
    "duration": 24,
    "start_time": "2024-10-12T21:56:34.894Z"
   },
   {
    "duration": 6,
    "start_time": "2024-10-12T21:56:35.267Z"
   },
   {
    "duration": 19,
    "start_time": "2024-10-12T21:56:35.830Z"
   },
   {
    "duration": 21,
    "start_time": "2024-10-12T21:56:36.331Z"
   },
   {
    "duration": 18,
    "start_time": "2024-10-12T21:56:37.009Z"
   },
   {
    "duration": 4,
    "start_time": "2024-10-12T21:56:37.471Z"
   },
   {
    "duration": 8,
    "start_time": "2024-10-12T21:56:39.023Z"
   },
   {
    "duration": 6,
    "start_time": "2024-10-12T21:56:39.520Z"
   },
   {
    "duration": 21,
    "start_time": "2024-10-12T21:56:41.315Z"
   },
   {
    "duration": 68,
    "start_time": "2024-10-12T21:56:48.542Z"
   },
   {
    "duration": 714,
    "start_time": "2024-10-12T21:57:57.800Z"
   },
   {
    "duration": 58,
    "start_time": "2024-10-12T21:57:58.516Z"
   },
   {
    "duration": 48,
    "start_time": "2024-10-12T21:57:58.578Z"
   },
   {
    "duration": 37,
    "start_time": "2024-10-12T21:57:58.630Z"
   },
   {
    "duration": 44,
    "start_time": "2024-10-12T21:57:58.669Z"
   },
   {
    "duration": 18,
    "start_time": "2024-10-12T21:57:58.715Z"
   },
   {
    "duration": 10,
    "start_time": "2024-10-12T21:57:58.734Z"
   },
   {
    "duration": 22,
    "start_time": "2024-10-12T21:57:58.745Z"
   },
   {
    "duration": 6,
    "start_time": "2024-10-12T21:57:58.769Z"
   },
   {
    "duration": 49,
    "start_time": "2024-10-12T21:57:58.777Z"
   },
   {
    "duration": 20,
    "start_time": "2024-10-12T21:57:58.828Z"
   },
   {
    "duration": 15,
    "start_time": "2024-10-12T21:57:58.849Z"
   },
   {
    "duration": 3,
    "start_time": "2024-10-12T21:57:58.867Z"
   },
   {
    "duration": 8,
    "start_time": "2024-10-12T21:57:58.872Z"
   },
   {
    "duration": 32,
    "start_time": "2024-10-12T21:57:58.882Z"
   },
   {
    "duration": 21,
    "start_time": "2024-10-12T21:57:58.916Z"
   },
   {
    "duration": 8,
    "start_time": "2024-10-12T21:57:58.939Z"
   },
   {
    "duration": 466,
    "start_time": "2024-10-12T21:57:58.949Z"
   },
   {
    "duration": 749,
    "start_time": "2024-10-12T21:59:20.576Z"
   },
   {
    "duration": 56,
    "start_time": "2024-10-12T21:59:21.327Z"
   },
   {
    "duration": 48,
    "start_time": "2024-10-12T21:59:21.385Z"
   },
   {
    "duration": 39,
    "start_time": "2024-10-12T21:59:21.435Z"
   },
   {
    "duration": 43,
    "start_time": "2024-10-12T21:59:21.477Z"
   },
   {
    "duration": 20,
    "start_time": "2024-10-12T21:59:21.523Z"
   },
   {
    "duration": 11,
    "start_time": "2024-10-12T21:59:21.546Z"
   },
   {
    "duration": 23,
    "start_time": "2024-10-12T21:59:21.559Z"
   },
   {
    "duration": 30,
    "start_time": "2024-10-12T21:59:21.584Z"
   },
   {
    "duration": 18,
    "start_time": "2024-10-12T21:59:21.616Z"
   },
   {
    "duration": 19,
    "start_time": "2024-10-12T21:59:21.635Z"
   },
   {
    "duration": 16,
    "start_time": "2024-10-12T21:59:21.656Z"
   },
   {
    "duration": 4,
    "start_time": "2024-10-12T21:59:21.673Z"
   },
   {
    "duration": 37,
    "start_time": "2024-10-12T21:59:21.680Z"
   },
   {
    "duration": 7,
    "start_time": "2024-10-12T21:59:21.719Z"
   },
   {
    "duration": 20,
    "start_time": "2024-10-12T21:59:21.727Z"
   },
   {
    "duration": 11,
    "start_time": "2024-10-12T21:59:21.749Z"
   },
   {
    "duration": 475,
    "start_time": "2024-10-12T21:59:21.761Z"
   },
   {
    "duration": 734,
    "start_time": "2024-10-12T22:03:00.894Z"
   },
   {
    "duration": 56,
    "start_time": "2024-10-12T22:03:01.631Z"
   },
   {
    "duration": 45,
    "start_time": "2024-10-12T22:03:01.689Z"
   },
   {
    "duration": 40,
    "start_time": "2024-10-12T22:03:01.737Z"
   },
   {
    "duration": 45,
    "start_time": "2024-10-12T22:03:01.780Z"
   },
   {
    "duration": 24,
    "start_time": "2024-10-12T22:03:01.827Z"
   },
   {
    "duration": 12,
    "start_time": "2024-10-12T22:03:01.854Z"
   },
   {
    "duration": 44,
    "start_time": "2024-10-12T22:03:01.868Z"
   },
   {
    "duration": 6,
    "start_time": "2024-10-12T22:03:01.914Z"
   },
   {
    "duration": 19,
    "start_time": "2024-10-12T22:03:01.922Z"
   },
   {
    "duration": 20,
    "start_time": "2024-10-12T22:03:01.942Z"
   },
   {
    "duration": 16,
    "start_time": "2024-10-12T22:03:01.964Z"
   },
   {
    "duration": 4,
    "start_time": "2024-10-12T22:03:01.981Z"
   },
   {
    "duration": 8,
    "start_time": "2024-10-12T22:03:02.014Z"
   },
   {
    "duration": 7,
    "start_time": "2024-10-12T22:03:02.024Z"
   },
   {
    "duration": 21,
    "start_time": "2024-10-12T22:03:02.032Z"
   },
   {
    "duration": 11,
    "start_time": "2024-10-12T22:03:02.055Z"
   },
   {
    "duration": 494,
    "start_time": "2024-10-12T22:03:02.068Z"
   },
   {
    "duration": 18,
    "start_time": "2024-10-12T22:04:06.959Z"
   },
   {
    "duration": 618,
    "start_time": "2024-10-12T22:04:11.111Z"
   },
   {
    "duration": 21,
    "start_time": "2024-10-12T22:06:06.185Z"
   },
   {
    "duration": 52,
    "start_time": "2024-10-12T22:06:06.573Z"
   },
   {
    "duration": 36,
    "start_time": "2024-10-12T22:06:06.913Z"
   },
   {
    "duration": 39,
    "start_time": "2024-10-12T22:06:07.237Z"
   },
   {
    "duration": 27,
    "start_time": "2024-10-12T22:06:07.582Z"
   },
   {
    "duration": 19,
    "start_time": "2024-10-12T22:06:07.727Z"
   },
   {
    "duration": 10,
    "start_time": "2024-10-12T22:06:08.070Z"
   },
   {
    "duration": 23,
    "start_time": "2024-10-12T22:06:08.237Z"
   },
   {
    "duration": 7,
    "start_time": "2024-10-12T22:06:08.387Z"
   },
   {
    "duration": 18,
    "start_time": "2024-10-12T22:06:08.597Z"
   },
   {
    "duration": 19,
    "start_time": "2024-10-12T22:06:08.820Z"
   },
   {
    "duration": 16,
    "start_time": "2024-10-12T22:06:09.033Z"
   },
   {
    "duration": 4,
    "start_time": "2024-10-12T22:06:09.287Z"
   },
   {
    "duration": 9,
    "start_time": "2024-10-12T22:06:09.879Z"
   },
   {
    "duration": 7,
    "start_time": "2024-10-12T22:06:10.248Z"
   },
   {
    "duration": 20,
    "start_time": "2024-10-12T22:06:10.568Z"
   },
   {
    "duration": 10,
    "start_time": "2024-10-12T22:06:10.933Z"
   },
   {
    "duration": 18,
    "start_time": "2024-10-12T22:06:12.239Z"
   },
   {
    "duration": 610,
    "start_time": "2024-10-12T22:06:13.414Z"
   },
   {
    "duration": 770,
    "start_time": "2024-10-12T22:06:33.186Z"
   },
   {
    "duration": 59,
    "start_time": "2024-10-12T22:06:33.959Z"
   },
   {
    "duration": 38,
    "start_time": "2024-10-12T22:06:34.021Z"
   },
   {
    "duration": 54,
    "start_time": "2024-10-12T22:06:34.061Z"
   },
   {
    "duration": 29,
    "start_time": "2024-10-12T22:06:34.118Z"
   },
   {
    "duration": 18,
    "start_time": "2024-10-12T22:06:34.149Z"
   },
   {
    "duration": 11,
    "start_time": "2024-10-12T22:06:34.169Z"
   },
   {
    "duration": 23,
    "start_time": "2024-10-12T22:06:34.211Z"
   },
   {
    "duration": 6,
    "start_time": "2024-10-12T22:06:34.236Z"
   },
   {
    "duration": 18,
    "start_time": "2024-10-12T22:06:34.244Z"
   },
   {
    "duration": 19,
    "start_time": "2024-10-12T22:06:34.264Z"
   },
   {
    "duration": 40,
    "start_time": "2024-10-12T22:06:34.285Z"
   },
   {
    "duration": 3,
    "start_time": "2024-10-12T22:06:34.327Z"
   },
   {
    "duration": 8,
    "start_time": "2024-10-12T22:06:34.333Z"
   },
   {
    "duration": 6,
    "start_time": "2024-10-12T22:06:34.343Z"
   },
   {
    "duration": 23,
    "start_time": "2024-10-12T22:06:34.350Z"
   },
   {
    "duration": 39,
    "start_time": "2024-10-12T22:06:34.374Z"
   },
   {
    "duration": 18,
    "start_time": "2024-10-12T22:06:34.415Z"
   },
   {
    "duration": 783,
    "start_time": "2024-10-12T22:06:34.435Z"
   },
   {
    "duration": 33784,
    "start_time": "2024-10-12T22:06:35.224Z"
   },
   {
    "duration": 46,
    "start_time": "2024-10-12T22:07:24.803Z"
   },
   {
    "duration": 53,
    "start_time": "2024-10-12T22:07:25.053Z"
   },
   {
    "duration": 36,
    "start_time": "2024-10-12T22:07:25.392Z"
   },
   {
    "duration": 39,
    "start_time": "2024-10-12T22:07:25.704Z"
   },
   {
    "duration": 26,
    "start_time": "2024-10-12T22:07:26.038Z"
   },
   {
    "duration": 20,
    "start_time": "2024-10-12T22:07:26.210Z"
   },
   {
    "duration": 10,
    "start_time": "2024-10-12T22:07:26.563Z"
   },
   {
    "duration": 23,
    "start_time": "2024-10-12T22:07:26.728Z"
   },
   {
    "duration": 6,
    "start_time": "2024-10-12T22:07:26.883Z"
   },
   {
    "duration": 19,
    "start_time": "2024-10-12T22:07:27.121Z"
   },
   {
    "duration": 20,
    "start_time": "2024-10-12T22:07:27.433Z"
   },
   {
    "duration": 17,
    "start_time": "2024-10-12T22:07:27.724Z"
   },
   {
    "duration": 4,
    "start_time": "2024-10-12T22:07:28.066Z"
   },
   {
    "duration": 9,
    "start_time": "2024-10-12T22:07:29.005Z"
   },
   {
    "duration": 6,
    "start_time": "2024-10-12T22:07:29.559Z"
   },
   {
    "duration": 22,
    "start_time": "2024-10-12T22:07:30.024Z"
   },
   {
    "duration": 10,
    "start_time": "2024-10-12T22:07:30.576Z"
   },
   {
    "duration": 18,
    "start_time": "2024-10-12T22:07:31.058Z"
   },
   {
    "duration": 565,
    "start_time": "2024-10-12T22:07:32.469Z"
   },
   {
    "duration": 33956,
    "start_time": "2024-10-12T22:07:33.113Z"
   },
   {
    "duration": 829,
    "start_time": "2024-10-12T22:08:27.032Z"
   },
   {
    "duration": 53,
    "start_time": "2024-10-12T22:08:27.863Z"
   },
   {
    "duration": 37,
    "start_time": "2024-10-12T22:08:27.918Z"
   },
   {
    "duration": 61,
    "start_time": "2024-10-12T22:08:27.957Z"
   },
   {
    "duration": 33,
    "start_time": "2024-10-12T22:08:28.021Z"
   },
   {
    "duration": 18,
    "start_time": "2024-10-12T22:08:28.056Z"
   },
   {
    "duration": 37,
    "start_time": "2024-10-12T22:08:28.076Z"
   },
   {
    "duration": 23,
    "start_time": "2024-10-12T22:08:28.115Z"
   },
   {
    "duration": 6,
    "start_time": "2024-10-12T22:08:28.140Z"
   },
   {
    "duration": 18,
    "start_time": "2024-10-12T22:08:28.148Z"
   },
   {
    "duration": 19,
    "start_time": "2024-10-12T22:08:28.168Z"
   },
   {
    "duration": 16,
    "start_time": "2024-10-12T22:08:28.211Z"
   },
   {
    "duration": 3,
    "start_time": "2024-10-12T22:08:28.229Z"
   },
   {
    "duration": 7,
    "start_time": "2024-10-12T22:08:28.236Z"
   },
   {
    "duration": 6,
    "start_time": "2024-10-12T22:08:28.244Z"
   },
   {
    "duration": 21,
    "start_time": "2024-10-12T22:08:28.251Z"
   },
   {
    "duration": 42,
    "start_time": "2024-10-12T22:08:28.274Z"
   },
   {
    "duration": 17,
    "start_time": "2024-10-12T22:08:28.318Z"
   },
   {
    "duration": 596,
    "start_time": "2024-10-12T22:08:28.337Z"
   },
   {
    "duration": 33861,
    "start_time": "2024-10-12T22:08:28.935Z"
   },
   {
    "duration": 315122,
    "start_time": "2024-10-12T22:09:02.798Z"
   },
   {
    "duration": 799,
    "start_time": "2024-10-12T22:24:33.981Z"
   },
   {
    "duration": 59,
    "start_time": "2024-10-12T22:24:34.782Z"
   },
   {
    "duration": 39,
    "start_time": "2024-10-12T22:24:34.843Z"
   },
   {
    "duration": 63,
    "start_time": "2024-10-12T22:24:34.884Z"
   },
   {
    "duration": 29,
    "start_time": "2024-10-12T22:24:34.950Z"
   },
   {
    "duration": 37,
    "start_time": "2024-10-12T22:24:34.981Z"
   },
   {
    "duration": 12,
    "start_time": "2024-10-12T22:24:35.020Z"
   },
   {
    "duration": 22,
    "start_time": "2024-10-12T22:24:35.034Z"
   },
   {
    "duration": 6,
    "start_time": "2024-10-12T22:24:35.058Z"
   },
   {
    "duration": 19,
    "start_time": "2024-10-12T22:24:35.066Z"
   },
   {
    "duration": 21,
    "start_time": "2024-10-12T22:24:35.113Z"
   },
   {
    "duration": 15,
    "start_time": "2024-10-12T22:24:35.137Z"
   },
   {
    "duration": 4,
    "start_time": "2024-10-12T22:24:35.154Z"
   },
   {
    "duration": 8,
    "start_time": "2024-10-12T22:24:35.161Z"
   },
   {
    "duration": 6,
    "start_time": "2024-10-12T22:24:35.171Z"
   },
   {
    "duration": 58,
    "start_time": "2024-10-12T22:24:35.178Z"
   },
   {
    "duration": 10,
    "start_time": "2024-10-12T22:24:35.238Z"
   },
   {
    "duration": 17,
    "start_time": "2024-10-12T22:24:35.250Z"
   },
   {
    "duration": 657,
    "start_time": "2024-10-12T22:24:35.269Z"
   },
   {
    "duration": 33779,
    "start_time": "2024-10-12T22:24:35.927Z"
   },
   {
    "duration": 872,
    "start_time": "2024-10-12T22:27:59.331Z"
   },
   {
    "duration": 59,
    "start_time": "2024-10-12T22:28:00.206Z"
   },
   {
    "duration": 53,
    "start_time": "2024-10-12T22:28:00.267Z"
   },
   {
    "duration": 41,
    "start_time": "2024-10-12T22:28:00.323Z"
   },
   {
    "duration": 46,
    "start_time": "2024-10-12T22:28:00.366Z"
   },
   {
    "duration": 19,
    "start_time": "2024-10-12T22:28:00.414Z"
   },
   {
    "duration": 11,
    "start_time": "2024-10-12T22:28:00.435Z"
   },
   {
    "duration": 22,
    "start_time": "2024-10-12T22:28:00.448Z"
   },
   {
    "duration": 6,
    "start_time": "2024-10-12T22:28:00.471Z"
   },
   {
    "duration": 45,
    "start_time": "2024-10-12T22:28:00.481Z"
   },
   {
    "duration": 19,
    "start_time": "2024-10-12T22:28:00.527Z"
   },
   {
    "duration": 15,
    "start_time": "2024-10-12T22:28:00.549Z"
   },
   {
    "duration": 4,
    "start_time": "2024-10-12T22:28:00.566Z"
   },
   {
    "duration": 9,
    "start_time": "2024-10-12T22:28:00.572Z"
   },
   {
    "duration": 31,
    "start_time": "2024-10-12T22:28:00.585Z"
   },
   {
    "duration": 20,
    "start_time": "2024-10-12T22:28:00.617Z"
   },
   {
    "duration": 10,
    "start_time": "2024-10-12T22:28:00.638Z"
   },
   {
    "duration": 17,
    "start_time": "2024-10-12T22:28:00.649Z"
   },
   {
    "duration": 652,
    "start_time": "2024-10-12T22:28:00.668Z"
   },
   {
    "duration": 33689,
    "start_time": "2024-10-12T22:28:01.325Z"
   },
   {
    "duration": 164507,
    "start_time": "2024-10-12T22:28:35.016Z"
   },
   {
    "duration": 817,
    "start_time": "2024-10-12T22:36:40.166Z"
   },
   {
    "duration": 54,
    "start_time": "2024-10-12T22:36:40.985Z"
   },
   {
    "duration": 36,
    "start_time": "2024-10-12T22:36:41.041Z"
   },
   {
    "duration": 56,
    "start_time": "2024-10-12T22:36:41.079Z"
   },
   {
    "duration": 27,
    "start_time": "2024-10-12T22:36:41.139Z"
   },
   {
    "duration": 17,
    "start_time": "2024-10-12T22:36:41.168Z"
   },
   {
    "duration": 33,
    "start_time": "2024-10-12T22:36:41.187Z"
   },
   {
    "duration": 22,
    "start_time": "2024-10-12T22:36:41.222Z"
   },
   {
    "duration": 6,
    "start_time": "2024-10-12T22:36:41.245Z"
   },
   {
    "duration": 18,
    "start_time": "2024-10-12T22:36:41.253Z"
   },
   {
    "duration": 40,
    "start_time": "2024-10-12T22:36:41.272Z"
   },
   {
    "duration": 16,
    "start_time": "2024-10-12T22:36:41.314Z"
   },
   {
    "duration": 4,
    "start_time": "2024-10-12T22:36:41.332Z"
   },
   {
    "duration": 7,
    "start_time": "2024-10-12T22:36:41.339Z"
   },
   {
    "duration": 5,
    "start_time": "2024-10-12T22:36:41.348Z"
   },
   {
    "duration": 21,
    "start_time": "2024-10-12T22:36:41.355Z"
   },
   {
    "duration": 42,
    "start_time": "2024-10-12T22:36:41.377Z"
   },
   {
    "duration": 17,
    "start_time": "2024-10-12T22:36:41.421Z"
   },
   {
    "duration": 674,
    "start_time": "2024-10-12T22:36:41.439Z"
   },
   {
    "duration": 33816,
    "start_time": "2024-10-12T22:36:42.114Z"
   },
   {
    "duration": 795,
    "start_time": "2024-10-12T22:38:30.780Z"
   },
   {
    "duration": 55,
    "start_time": "2024-10-12T22:38:31.578Z"
   },
   {
    "duration": 37,
    "start_time": "2024-10-12T22:38:31.635Z"
   },
   {
    "duration": 56,
    "start_time": "2024-10-12T22:38:31.674Z"
   },
   {
    "duration": 28,
    "start_time": "2024-10-12T22:38:31.731Z"
   },
   {
    "duration": 17,
    "start_time": "2024-10-12T22:38:31.760Z"
   },
   {
    "duration": 35,
    "start_time": "2024-10-12T22:38:31.780Z"
   },
   {
    "duration": 23,
    "start_time": "2024-10-12T22:38:31.817Z"
   },
   {
    "duration": 6,
    "start_time": "2024-10-12T22:38:31.842Z"
   },
   {
    "duration": 19,
    "start_time": "2024-10-12T22:38:31.851Z"
   },
   {
    "duration": 43,
    "start_time": "2024-10-12T22:38:31.871Z"
   },
   {
    "duration": 15,
    "start_time": "2024-10-12T22:38:31.916Z"
   },
   {
    "duration": 4,
    "start_time": "2024-10-12T22:38:31.934Z"
   },
   {
    "duration": 11,
    "start_time": "2024-10-12T22:38:31.940Z"
   },
   {
    "duration": 6,
    "start_time": "2024-10-12T22:38:31.953Z"
   },
   {
    "duration": 52,
    "start_time": "2024-10-12T22:38:31.961Z"
   },
   {
    "duration": 11,
    "start_time": "2024-10-12T22:38:32.015Z"
   },
   {
    "duration": 17,
    "start_time": "2024-10-12T22:38:32.028Z"
   },
   {
    "duration": 673,
    "start_time": "2024-10-12T22:38:32.047Z"
   },
   {
    "duration": 33895,
    "start_time": "2024-10-12T22:38:32.722Z"
   },
   {
    "duration": 171615,
    "start_time": "2024-10-12T22:39:06.619Z"
   },
   {
    "duration": 2305,
    "start_time": "2024-10-12T22:41:58.236Z"
   },
   {
    "duration": 287,
    "start_time": "2024-10-12T22:42:00.543Z"
   },
   {
    "duration": 2607,
    "start_time": "2024-10-12T22:42:24.438Z"
   },
   {
    "duration": 3,
    "start_time": "2024-10-12T22:42:27.047Z"
   },
   {
    "duration": 3,
    "start_time": "2024-10-12T22:42:53.932Z"
   },
   {
    "duration": 2479,
    "start_time": "2024-10-12T22:44:31.742Z"
   },
   {
    "duration": 2311,
    "start_time": "2024-10-12T22:44:59.402Z"
   },
   {
    "duration": 2526,
    "start_time": "2024-10-12T22:45:07.120Z"
   },
   {
    "duration": 3,
    "start_time": "2024-10-12T22:45:14.417Z"
   },
   {
    "duration": 18,
    "start_time": "2024-10-12T22:47:28.425Z"
   },
   {
    "duration": 2409,
    "start_time": "2024-10-12T22:48:24.703Z"
   },
   {
    "duration": 2287,
    "start_time": "2024-10-12T22:48:39.454Z"
   },
   {
    "duration": 2319,
    "start_time": "2024-10-12T22:48:54.015Z"
   },
   {
    "duration": 17,
    "start_time": "2024-10-12T22:49:31.465Z"
   },
   {
    "duration": 7978,
    "start_time": "2024-10-12T22:49:37.933Z"
   },
   {
    "duration": 2318,
    "start_time": "2024-10-12T22:50:20.120Z"
   },
   {
    "duration": 2549,
    "start_time": "2024-10-12T22:50:24.290Z"
   },
   {
    "duration": 70,
    "start_time": "2024-10-12T22:50:26.842Z"
   },
   {
    "duration": 28,
    "start_time": "2024-10-12T22:52:25.378Z"
   },
   {
    "duration": 15,
    "start_time": "2024-10-12T22:52:54.772Z"
   },
   {
    "duration": 9053,
    "start_time": "2024-10-12T22:53:29.580Z"
   },
   {
    "duration": 1376,
    "start_time": "2024-10-12T22:53:45.664Z"
   },
   {
    "duration": 16,
    "start_time": "2024-10-12T22:53:50.983Z"
   },
   {
    "duration": 1021,
    "start_time": "2024-10-12T22:54:04.967Z"
   },
   {
    "duration": 0,
    "start_time": "2024-10-12T22:54:05.990Z"
   },
   {
    "duration": 0,
    "start_time": "2024-10-12T22:54:05.992Z"
   },
   {
    "duration": 0,
    "start_time": "2024-10-12T22:54:05.993Z"
   },
   {
    "duration": 0,
    "start_time": "2024-10-12T22:54:05.995Z"
   },
   {
    "duration": 0,
    "start_time": "2024-10-12T22:54:05.996Z"
   },
   {
    "duration": 0,
    "start_time": "2024-10-12T22:54:05.997Z"
   },
   {
    "duration": 0,
    "start_time": "2024-10-12T22:54:05.998Z"
   },
   {
    "duration": 0,
    "start_time": "2024-10-12T22:54:05.999Z"
   },
   {
    "duration": 0,
    "start_time": "2024-10-12T22:54:05.999Z"
   },
   {
    "duration": 0,
    "start_time": "2024-10-12T22:54:06.000Z"
   },
   {
    "duration": 0,
    "start_time": "2024-10-12T22:54:06.000Z"
   },
   {
    "duration": 0,
    "start_time": "2024-10-12T22:54:06.001Z"
   },
   {
    "duration": 0,
    "start_time": "2024-10-12T22:54:06.001Z"
   },
   {
    "duration": 0,
    "start_time": "2024-10-12T22:54:06.002Z"
   },
   {
    "duration": 0,
    "start_time": "2024-10-12T22:54:06.002Z"
   },
   {
    "duration": 0,
    "start_time": "2024-10-12T22:54:06.011Z"
   },
   {
    "duration": 0,
    "start_time": "2024-10-12T22:54:06.013Z"
   },
   {
    "duration": 0,
    "start_time": "2024-10-12T22:54:06.014Z"
   },
   {
    "duration": 0,
    "start_time": "2024-10-12T22:54:06.015Z"
   },
   {
    "duration": 0,
    "start_time": "2024-10-12T22:54:06.016Z"
   },
   {
    "duration": 0,
    "start_time": "2024-10-12T22:54:06.017Z"
   },
   {
    "duration": 0,
    "start_time": "2024-10-12T22:54:06.019Z"
   },
   {
    "duration": 0,
    "start_time": "2024-10-12T22:54:06.020Z"
   },
   {
    "duration": 3,
    "start_time": "2024-10-12T22:54:38.502Z"
   },
   {
    "duration": 819,
    "start_time": "2024-10-12T22:54:44.966Z"
   },
   {
    "duration": 59,
    "start_time": "2024-10-12T22:54:45.787Z"
   },
   {
    "duration": 37,
    "start_time": "2024-10-12T22:54:45.854Z"
   },
   {
    "duration": 55,
    "start_time": "2024-10-12T22:54:45.893Z"
   },
   {
    "duration": 28,
    "start_time": "2024-10-12T22:54:45.950Z"
   },
   {
    "duration": 34,
    "start_time": "2024-10-12T22:54:45.980Z"
   },
   {
    "duration": 11,
    "start_time": "2024-10-12T22:54:46.016Z"
   },
   {
    "duration": 39,
    "start_time": "2024-10-12T22:54:46.029Z"
   },
   {
    "duration": 7,
    "start_time": "2024-10-12T22:54:46.070Z"
   },
   {
    "duration": 41,
    "start_time": "2024-10-12T22:54:46.080Z"
   },
   {
    "duration": 20,
    "start_time": "2024-10-12T22:54:46.123Z"
   },
   {
    "duration": 15,
    "start_time": "2024-10-12T22:54:46.146Z"
   },
   {
    "duration": 4,
    "start_time": "2024-10-12T22:54:46.163Z"
   },
   {
    "duration": 250,
    "start_time": "2024-10-12T22:54:46.169Z"
   },
   {
    "duration": 0,
    "start_time": "2024-10-12T22:54:46.421Z"
   },
   {
    "duration": 0,
    "start_time": "2024-10-12T22:54:46.422Z"
   },
   {
    "duration": 0,
    "start_time": "2024-10-12T22:54:46.423Z"
   },
   {
    "duration": 0,
    "start_time": "2024-10-12T22:54:46.424Z"
   },
   {
    "duration": 0,
    "start_time": "2024-10-12T22:54:46.426Z"
   },
   {
    "duration": 0,
    "start_time": "2024-10-12T22:54:46.427Z"
   },
   {
    "duration": 0,
    "start_time": "2024-10-12T22:54:46.428Z"
   },
   {
    "duration": 0,
    "start_time": "2024-10-12T22:54:46.429Z"
   },
   {
    "duration": 0,
    "start_time": "2024-10-12T22:54:46.430Z"
   },
   {
    "duration": 0,
    "start_time": "2024-10-12T22:54:46.431Z"
   },
   {
    "duration": 9,
    "start_time": "2024-10-12T22:55:03.193Z"
   },
   {
    "duration": 7,
    "start_time": "2024-10-12T22:55:04.651Z"
   },
   {
    "duration": 31,
    "start_time": "2024-10-12T22:55:28.005Z"
   },
   {
    "duration": 11,
    "start_time": "2024-10-12T22:55:29.053Z"
   },
   {
    "duration": 18,
    "start_time": "2024-10-12T22:55:30.458Z"
   },
   {
    "duration": 696,
    "start_time": "2024-10-12T22:55:30.924Z"
   },
   {
    "duration": 852,
    "start_time": "2024-10-12T22:55:37.542Z"
   },
   {
    "duration": 59,
    "start_time": "2024-10-12T22:55:38.396Z"
   },
   {
    "duration": 40,
    "start_time": "2024-10-12T22:55:38.456Z"
   },
   {
    "duration": 41,
    "start_time": "2024-10-12T22:55:38.511Z"
   },
   {
    "duration": 28,
    "start_time": "2024-10-12T22:55:38.555Z"
   },
   {
    "duration": 39,
    "start_time": "2024-10-12T22:55:38.585Z"
   },
   {
    "duration": 11,
    "start_time": "2024-10-12T22:55:38.627Z"
   },
   {
    "duration": 23,
    "start_time": "2024-10-12T22:55:38.639Z"
   },
   {
    "duration": 6,
    "start_time": "2024-10-12T22:55:38.664Z"
   },
   {
    "duration": 46,
    "start_time": "2024-10-12T22:55:38.672Z"
   },
   {
    "duration": 21,
    "start_time": "2024-10-12T22:55:38.720Z"
   },
   {
    "duration": 17,
    "start_time": "2024-10-12T22:55:38.742Z"
   },
   {
    "duration": 3,
    "start_time": "2024-10-12T22:55:38.761Z"
   },
   {
    "duration": 8,
    "start_time": "2024-10-12T22:55:38.769Z"
   },
   {
    "duration": 35,
    "start_time": "2024-10-12T22:55:38.779Z"
   },
   {
    "duration": 23,
    "start_time": "2024-10-12T22:55:38.816Z"
   },
   {
    "duration": 9,
    "start_time": "2024-10-12T22:55:38.841Z"
   },
   {
    "duration": 17,
    "start_time": "2024-10-12T22:55:38.852Z"
   },
   {
    "duration": 658,
    "start_time": "2024-10-12T22:55:38.871Z"
   },
   {
    "duration": 34282,
    "start_time": "2024-10-12T22:55:39.532Z"
   },
   {
    "duration": 786,
    "start_time": "2024-10-12T22:56:21.687Z"
   },
   {
    "duration": 56,
    "start_time": "2024-10-12T22:56:22.475Z"
   },
   {
    "duration": 36,
    "start_time": "2024-10-12T22:56:22.533Z"
   },
   {
    "duration": 61,
    "start_time": "2024-10-12T22:56:22.570Z"
   },
   {
    "duration": 27,
    "start_time": "2024-10-12T22:56:22.633Z"
   },
   {
    "duration": 17,
    "start_time": "2024-10-12T22:56:22.662Z"
   },
   {
    "duration": 30,
    "start_time": "2024-10-12T22:56:22.681Z"
   },
   {
    "duration": 23,
    "start_time": "2024-10-12T22:56:22.713Z"
   },
   {
    "duration": 7,
    "start_time": "2024-10-12T22:56:22.737Z"
   },
   {
    "duration": 19,
    "start_time": "2024-10-12T22:56:22.745Z"
   },
   {
    "duration": 18,
    "start_time": "2024-10-12T22:56:22.766Z"
   },
   {
    "duration": 37,
    "start_time": "2024-10-12T22:56:22.786Z"
   },
   {
    "duration": 4,
    "start_time": "2024-10-12T22:56:22.825Z"
   },
   {
    "duration": 9,
    "start_time": "2024-10-12T22:56:22.832Z"
   },
   {
    "duration": 5,
    "start_time": "2024-10-12T22:56:22.842Z"
   },
   {
    "duration": 21,
    "start_time": "2024-10-12T22:56:22.849Z"
   },
   {
    "duration": 43,
    "start_time": "2024-10-12T22:56:22.872Z"
   },
   {
    "duration": 18,
    "start_time": "2024-10-12T22:56:22.917Z"
   },
   {
    "duration": 600,
    "start_time": "2024-10-12T22:56:22.937Z"
   },
   {
    "duration": 33815,
    "start_time": "2024-10-12T22:56:23.611Z"
   },
   {
    "duration": 832,
    "start_time": "2024-10-12T22:57:09.008Z"
   },
   {
    "duration": 60,
    "start_time": "2024-10-12T22:57:09.842Z"
   },
   {
    "duration": 46,
    "start_time": "2024-10-12T22:57:09.904Z"
   },
   {
    "duration": 61,
    "start_time": "2024-10-12T22:57:09.952Z"
   },
   {
    "duration": 30,
    "start_time": "2024-10-12T22:57:10.016Z"
   },
   {
    "duration": 18,
    "start_time": "2024-10-12T22:57:10.048Z"
   },
   {
    "duration": 11,
    "start_time": "2024-10-12T22:57:10.067Z"
   },
   {
    "duration": 52,
    "start_time": "2024-10-12T22:57:10.080Z"
   },
   {
    "duration": 7,
    "start_time": "2024-10-12T22:57:10.134Z"
   },
   {
    "duration": 19,
    "start_time": "2024-10-12T22:57:10.142Z"
   },
   {
    "duration": 21,
    "start_time": "2024-10-12T22:57:10.162Z"
   },
   {
    "duration": 41,
    "start_time": "2024-10-12T22:57:10.184Z"
   },
   {
    "duration": 3,
    "start_time": "2024-10-12T22:57:10.228Z"
   },
   {
    "duration": 7,
    "start_time": "2024-10-12T22:57:10.235Z"
   },
   {
    "duration": 6,
    "start_time": "2024-10-12T22:57:10.244Z"
   },
   {
    "duration": 21,
    "start_time": "2024-10-12T22:57:10.252Z"
   },
   {
    "duration": 42,
    "start_time": "2024-10-12T22:57:10.275Z"
   },
   {
    "duration": 18,
    "start_time": "2024-10-12T22:57:10.319Z"
   },
   {
    "duration": 594,
    "start_time": "2024-10-12T22:57:10.339Z"
   },
   {
    "duration": 33949,
    "start_time": "2024-10-12T22:57:10.937Z"
   },
   {
    "duration": 165244,
    "start_time": "2024-10-12T22:57:44.889Z"
   },
   {
    "duration": 2402,
    "start_time": "2024-10-12T23:00:30.135Z"
   },
   {
    "duration": 10183,
    "start_time": "2024-10-12T23:00:32.539Z"
   },
   {
    "duration": 2901,
    "start_time": "2024-10-12T23:00:42.723Z"
   },
   {
    "duration": 3,
    "start_time": "2024-10-12T23:00:45.627Z"
   },
   {
    "duration": 1950,
    "start_time": "2024-10-12T23:01:40.592Z"
   },
   {
    "duration": 59,
    "start_time": "2024-10-12T23:01:59.276Z"
   },
   {
    "duration": 37304,
    "start_time": "2024-10-12T23:04:43.632Z"
   },
   {
    "duration": 0,
    "start_time": "2024-10-12T23:05:21.019Z"
   },
   {
    "duration": 270,
    "start_time": "2024-10-12T23:05:50.269Z"
   },
   {
    "duration": 21620,
    "start_time": "2024-10-12T23:07:33.763Z"
   },
   {
    "duration": 5,
    "start_time": "2024-10-12T23:10:17.138Z"
   },
   {
    "duration": 907,
    "start_time": "2024-10-12T23:16:21.611Z"
   },
   {
    "duration": 59,
    "start_time": "2024-10-12T23:16:22.521Z"
   },
   {
    "duration": 43,
    "start_time": "2024-10-12T23:16:22.582Z"
   },
   {
    "duration": 39,
    "start_time": "2024-10-12T23:16:22.626Z"
   },
   {
    "duration": 45,
    "start_time": "2024-10-12T23:16:22.668Z"
   },
   {
    "duration": 20,
    "start_time": "2024-10-12T23:16:22.715Z"
   },
   {
    "duration": 10,
    "start_time": "2024-10-12T23:16:22.737Z"
   },
   {
    "duration": 22,
    "start_time": "2024-10-12T23:16:22.749Z"
   },
   {
    "duration": 7,
    "start_time": "2024-10-12T23:16:22.772Z"
   },
   {
    "duration": 46,
    "start_time": "2024-10-12T23:16:22.781Z"
   },
   {
    "duration": 19,
    "start_time": "2024-10-12T23:16:22.828Z"
   },
   {
    "duration": 15,
    "start_time": "2024-10-12T23:16:22.849Z"
   },
   {
    "duration": 3,
    "start_time": "2024-10-12T23:16:22.866Z"
   },
   {
    "duration": 8,
    "start_time": "2024-10-12T23:16:22.872Z"
   },
   {
    "duration": 30,
    "start_time": "2024-10-12T23:16:22.882Z"
   },
   {
    "duration": 21,
    "start_time": "2024-10-12T23:16:22.914Z"
   },
   {
    "duration": 9,
    "start_time": "2024-10-12T23:16:22.937Z"
   },
   {
    "duration": 18,
    "start_time": "2024-10-12T23:16:22.948Z"
   },
   {
    "duration": 250,
    "start_time": "2024-10-12T23:16:22.967Z"
   },
   {
    "duration": 33839,
    "start_time": "2024-10-12T23:16:23.218Z"
   },
   {
    "duration": 876,
    "start_time": "2024-10-12T23:18:34.572Z"
   },
   {
    "duration": 56,
    "start_time": "2024-10-12T23:18:35.450Z"
   },
   {
    "duration": 38,
    "start_time": "2024-10-12T23:18:35.511Z"
   },
   {
    "duration": 39,
    "start_time": "2024-10-12T23:18:35.552Z"
   },
   {
    "duration": 46,
    "start_time": "2024-10-12T23:18:35.593Z"
   },
   {
    "duration": 19,
    "start_time": "2024-10-12T23:18:35.641Z"
   },
   {
    "duration": 12,
    "start_time": "2024-10-12T23:18:35.662Z"
   },
   {
    "duration": 52,
    "start_time": "2024-10-12T23:18:35.676Z"
   },
   {
    "duration": 6,
    "start_time": "2024-10-12T23:18:35.730Z"
   },
   {
    "duration": 19,
    "start_time": "2024-10-12T23:18:35.740Z"
   },
   {
    "duration": 20,
    "start_time": "2024-10-12T23:18:35.761Z"
   },
   {
    "duration": 42,
    "start_time": "2024-10-12T23:18:35.782Z"
   },
   {
    "duration": 4,
    "start_time": "2024-10-12T23:18:35.826Z"
   },
   {
    "duration": 8,
    "start_time": "2024-10-12T23:18:35.832Z"
   },
   {
    "duration": 5,
    "start_time": "2024-10-12T23:18:35.842Z"
   },
   {
    "duration": 22,
    "start_time": "2024-10-12T23:18:35.849Z"
   },
   {
    "duration": 40,
    "start_time": "2024-10-12T23:18:35.872Z"
   },
   {
    "duration": 19,
    "start_time": "2024-10-12T23:18:35.914Z"
   },
   {
    "duration": 283,
    "start_time": "2024-10-12T23:18:35.935Z"
   },
   {
    "duration": 33883,
    "start_time": "2024-10-12T23:18:36.220Z"
   },
   {
    "duration": 890,
    "start_time": "2024-10-12T23:23:27.033Z"
   },
   {
    "duration": 54,
    "start_time": "2024-10-12T23:23:27.925Z"
   },
   {
    "duration": 45,
    "start_time": "2024-10-12T23:23:27.982Z"
   },
   {
    "duration": 40,
    "start_time": "2024-10-12T23:23:28.029Z"
   },
   {
    "duration": 44,
    "start_time": "2024-10-12T23:23:28.071Z"
   },
   {
    "duration": 18,
    "start_time": "2024-10-12T23:23:28.116Z"
   },
   {
    "duration": 10,
    "start_time": "2024-10-12T23:23:28.136Z"
   },
   {
    "duration": 22,
    "start_time": "2024-10-12T23:23:28.148Z"
   },
   {
    "duration": 6,
    "start_time": "2024-10-12T23:23:28.172Z"
   },
   {
    "duration": 47,
    "start_time": "2024-10-12T23:23:28.180Z"
   },
   {
    "duration": 19,
    "start_time": "2024-10-12T23:23:28.229Z"
   },
   {
    "duration": 16,
    "start_time": "2024-10-12T23:23:28.249Z"
   },
   {
    "duration": 4,
    "start_time": "2024-10-12T23:23:28.266Z"
   },
   {
    "duration": 8,
    "start_time": "2024-10-12T23:23:28.273Z"
   },
   {
    "duration": 37,
    "start_time": "2024-10-12T23:23:28.282Z"
   },
   {
    "duration": 23,
    "start_time": "2024-10-12T23:23:28.321Z"
   },
   {
    "duration": 9,
    "start_time": "2024-10-12T23:23:28.346Z"
   },
   {
    "duration": 17,
    "start_time": "2024-10-12T23:23:28.357Z"
   },
   {
    "duration": 259,
    "start_time": "2024-10-12T23:23:28.375Z"
   },
   {
    "duration": 295,
    "start_time": "2024-10-12T23:23:28.711Z"
   },
   {
    "duration": 0,
    "start_time": "2024-10-12T23:23:29.012Z"
   },
   {
    "duration": 0,
    "start_time": "2024-10-12T23:23:29.013Z"
   },
   {
    "duration": 0,
    "start_time": "2024-10-12T23:23:29.014Z"
   },
   {
    "duration": 0,
    "start_time": "2024-10-12T23:23:29.016Z"
   },
   {
    "duration": 0,
    "start_time": "2024-10-12T23:23:29.018Z"
   },
   {
    "duration": 0,
    "start_time": "2024-10-12T23:23:29.019Z"
   },
   {
    "duration": 0,
    "start_time": "2024-10-12T23:23:29.021Z"
   },
   {
    "duration": 0,
    "start_time": "2024-10-12T23:23:29.022Z"
   },
   {
    "duration": 833,
    "start_time": "2024-10-12T23:25:05.692Z"
   },
   {
    "duration": 56,
    "start_time": "2024-10-12T23:25:06.527Z"
   },
   {
    "duration": 49,
    "start_time": "2024-10-12T23:25:06.585Z"
   },
   {
    "duration": 39,
    "start_time": "2024-10-12T23:25:06.636Z"
   },
   {
    "duration": 40,
    "start_time": "2024-10-12T23:25:06.677Z"
   },
   {
    "duration": 17,
    "start_time": "2024-10-12T23:25:06.719Z"
   },
   {
    "duration": 10,
    "start_time": "2024-10-12T23:25:06.738Z"
   },
   {
    "duration": 22,
    "start_time": "2024-10-12T23:25:06.749Z"
   },
   {
    "duration": 6,
    "start_time": "2024-10-12T23:25:06.772Z"
   },
   {
    "duration": 19,
    "start_time": "2024-10-12T23:25:06.811Z"
   },
   {
    "duration": 22,
    "start_time": "2024-10-12T23:25:06.834Z"
   },
   {
    "duration": 17,
    "start_time": "2024-10-12T23:25:06.858Z"
   },
   {
    "duration": 4,
    "start_time": "2024-10-12T23:25:06.877Z"
   },
   {
    "duration": 33,
    "start_time": "2024-10-12T23:25:06.882Z"
   },
   {
    "duration": 6,
    "start_time": "2024-10-12T23:25:06.917Z"
   },
   {
    "duration": 22,
    "start_time": "2024-10-12T23:25:06.925Z"
   },
   {
    "duration": 9,
    "start_time": "2024-10-12T23:25:06.949Z"
   },
   {
    "duration": 18,
    "start_time": "2024-10-12T23:25:06.960Z"
   },
   {
    "duration": 255,
    "start_time": "2024-10-12T23:25:06.980Z"
   },
   {
    "duration": 34701,
    "start_time": "2024-10-12T23:25:07.237Z"
   },
   {
    "duration": 845,
    "start_time": "2024-10-12T23:26:35.292Z"
   },
   {
    "duration": 52,
    "start_time": "2024-10-12T23:26:36.139Z"
   },
   {
    "duration": 42,
    "start_time": "2024-10-12T23:26:36.193Z"
   },
   {
    "duration": 40,
    "start_time": "2024-10-12T23:26:36.237Z"
   },
   {
    "duration": 43,
    "start_time": "2024-10-12T23:26:36.279Z"
   },
   {
    "duration": 17,
    "start_time": "2024-10-12T23:26:36.324Z"
   },
   {
    "duration": 11,
    "start_time": "2024-10-12T23:26:36.343Z"
   },
   {
    "duration": 21,
    "start_time": "2024-10-12T23:26:36.355Z"
   },
   {
    "duration": 5,
    "start_time": "2024-10-12T23:26:36.378Z"
   },
   {
    "duration": 18,
    "start_time": "2024-10-12T23:26:36.412Z"
   },
   {
    "duration": 20,
    "start_time": "2024-10-12T23:26:36.431Z"
   },
   {
    "duration": 15,
    "start_time": "2024-10-12T23:26:36.452Z"
   },
   {
    "duration": 3,
    "start_time": "2024-10-12T23:26:36.469Z"
   },
   {
    "duration": 8,
    "start_time": "2024-10-12T23:26:36.475Z"
   },
   {
    "duration": 32,
    "start_time": "2024-10-12T23:26:36.484Z"
   },
   {
    "duration": 20,
    "start_time": "2024-10-12T23:26:36.518Z"
   },
   {
    "duration": 9,
    "start_time": "2024-10-12T23:26:36.540Z"
   },
   {
    "duration": 17,
    "start_time": "2024-10-12T23:26:36.550Z"
   },
   {
    "duration": 259,
    "start_time": "2024-10-12T23:26:36.568Z"
   },
   {
    "duration": 34167,
    "start_time": "2024-10-12T23:26:36.829Z"
   },
   {
    "duration": 841,
    "start_time": "2024-10-14T11:59:02.989Z"
   },
   {
    "duration": 101,
    "start_time": "2024-10-14T11:59:03.833Z"
   },
   {
    "duration": 38,
    "start_time": "2024-10-14T11:59:03.936Z"
   },
   {
    "duration": 57,
    "start_time": "2024-10-14T11:59:03.976Z"
   },
   {
    "duration": 27,
    "start_time": "2024-10-14T11:59:04.035Z"
   },
   {
    "duration": 17,
    "start_time": "2024-10-14T11:59:04.063Z"
   },
   {
    "duration": 10,
    "start_time": "2024-10-14T11:59:04.082Z"
   },
   {
    "duration": 49,
    "start_time": "2024-10-14T11:59:04.093Z"
   },
   {
    "duration": 6,
    "start_time": "2024-10-14T11:59:04.143Z"
   },
   {
    "duration": 17,
    "start_time": "2024-10-14T11:59:04.152Z"
   },
   {
    "duration": 19,
    "start_time": "2024-10-14T11:59:04.170Z"
   },
   {
    "duration": 35,
    "start_time": "2024-10-14T11:59:04.191Z"
   },
   {
    "duration": 3,
    "start_time": "2024-10-14T11:59:04.228Z"
   },
   {
    "duration": 8,
    "start_time": "2024-10-14T11:59:04.233Z"
   },
   {
    "duration": 6,
    "start_time": "2024-10-14T11:59:04.242Z"
   },
   {
    "duration": 20,
    "start_time": "2024-10-14T11:59:04.249Z"
   },
   {
    "duration": 10,
    "start_time": "2024-10-14T11:59:04.271Z"
   },
   {
    "duration": 52,
    "start_time": "2024-10-14T11:59:04.282Z"
   },
   {
    "duration": 203,
    "start_time": "2024-10-14T11:59:04.336Z"
   },
   {
    "duration": 33616,
    "start_time": "2024-10-14T11:59:04.541Z"
   },
   {
    "duration": 3650685,
    "start_time": "2024-10-14T11:59:38.159Z"
   },
   {
    "duration": 1788,
    "start_time": "2024-10-14T13:00:28.846Z"
   },
   {
    "duration": 246,
    "start_time": "2024-10-14T13:00:30.636Z"
   },
   {
    "duration": 0,
    "start_time": "2024-10-14T13:00:30.884Z"
   },
   {
    "duration": 0,
    "start_time": "2024-10-14T13:00:30.886Z"
   },
   {
    "duration": 0,
    "start_time": "2024-10-14T13:00:30.887Z"
   },
   {
    "duration": 0,
    "start_time": "2024-10-14T13:00:30.888Z"
   },
   {
    "duration": 1950,
    "start_time": "2024-10-14T13:18:48.288Z"
   },
   {
    "duration": 3,
    "start_time": "2024-10-14T13:18:50.243Z"
   },
   {
    "duration": 35628,
    "start_time": "2024-10-14T13:18:53.913Z"
   },
   {
    "duration": 22499,
    "start_time": "2024-10-14T13:19:29.543Z"
   },
   {
    "duration": 11529,
    "start_time": "2024-10-14T13:23:07.509Z"
   },
   {
    "duration": 11170,
    "start_time": "2024-10-14T13:24:03.376Z"
   },
   {
    "duration": 33602,
    "start_time": "2024-10-14T13:24:23.155Z"
   },
   {
    "duration": 869,
    "start_time": "2024-10-14T13:34:48.846Z"
   },
   {
    "duration": 60,
    "start_time": "2024-10-14T13:34:49.717Z"
   },
   {
    "duration": 37,
    "start_time": "2024-10-14T13:34:49.778Z"
   },
   {
    "duration": 42,
    "start_time": "2024-10-14T13:34:49.817Z"
   },
   {
    "duration": 26,
    "start_time": "2024-10-14T13:34:49.862Z"
   },
   {
    "duration": 37,
    "start_time": "2024-10-14T13:34:49.890Z"
   },
   {
    "duration": 11,
    "start_time": "2024-10-14T13:34:49.928Z"
   },
   {
    "duration": 21,
    "start_time": "2024-10-14T13:34:49.940Z"
   },
   {
    "duration": 5,
    "start_time": "2024-10-14T13:34:49.963Z"
   },
   {
    "duration": 17,
    "start_time": "2024-10-14T13:34:49.971Z"
   },
   {
    "duration": 39,
    "start_time": "2024-10-14T13:34:49.989Z"
   },
   {
    "duration": 15,
    "start_time": "2024-10-14T13:34:50.030Z"
   },
   {
    "duration": 3,
    "start_time": "2024-10-14T13:34:50.047Z"
   },
   {
    "duration": 7,
    "start_time": "2024-10-14T13:34:50.054Z"
   },
   {
    "duration": 7,
    "start_time": "2024-10-14T13:34:50.062Z"
   },
   {
    "duration": 54,
    "start_time": "2024-10-14T13:34:50.070Z"
   },
   {
    "duration": 10,
    "start_time": "2024-10-14T13:34:50.125Z"
   },
   {
    "duration": 16,
    "start_time": "2024-10-14T13:34:50.136Z"
   },
   {
    "duration": 11102,
    "start_time": "2024-10-14T13:34:50.154Z"
   },
   {
    "duration": 33466,
    "start_time": "2024-10-14T13:35:01.258Z"
   },
   {
    "duration": 833,
    "start_time": "2024-10-14T13:40:30.577Z"
   },
   {
    "duration": 61,
    "start_time": "2024-10-14T13:40:31.413Z"
   },
   {
    "duration": 37,
    "start_time": "2024-10-14T13:40:31.476Z"
   },
   {
    "duration": 37,
    "start_time": "2024-10-14T13:40:31.524Z"
   },
   {
    "duration": 26,
    "start_time": "2024-10-14T13:40:31.563Z"
   },
   {
    "duration": 37,
    "start_time": "2024-10-14T13:40:31.591Z"
   },
   {
    "duration": 10,
    "start_time": "2024-10-14T13:40:31.631Z"
   },
   {
    "duration": 21,
    "start_time": "2024-10-14T13:40:31.643Z"
   },
   {
    "duration": 6,
    "start_time": "2024-10-14T13:40:31.665Z"
   },
   {
    "duration": 19,
    "start_time": "2024-10-14T13:40:31.672Z"
   },
   {
    "duration": 40,
    "start_time": "2024-10-14T13:40:31.692Z"
   },
   {
    "duration": 15,
    "start_time": "2024-10-14T13:40:31.733Z"
   },
   {
    "duration": 3,
    "start_time": "2024-10-14T13:40:31.750Z"
   },
   {
    "duration": 7,
    "start_time": "2024-10-14T13:40:31.757Z"
   },
   {
    "duration": 6,
    "start_time": "2024-10-14T13:40:31.765Z"
   },
   {
    "duration": 51,
    "start_time": "2024-10-14T13:40:31.773Z"
   },
   {
    "duration": 9,
    "start_time": "2024-10-14T13:40:31.826Z"
   },
   {
    "duration": 16,
    "start_time": "2024-10-14T13:40:31.837Z"
   },
   {
    "duration": 10875,
    "start_time": "2024-10-14T13:40:31.854Z"
   },
   {
    "duration": 33508,
    "start_time": "2024-10-14T13:40:42.731Z"
   },
   {
    "duration": 865,
    "start_time": "2024-10-14T13:42:54.236Z"
   },
   {
    "duration": 59,
    "start_time": "2024-10-14T13:42:55.103Z"
   },
   {
    "duration": 35,
    "start_time": "2024-10-14T13:42:55.164Z"
   },
   {
    "duration": 50,
    "start_time": "2024-10-14T13:42:55.201Z"
   },
   {
    "duration": 29,
    "start_time": "2024-10-14T13:42:55.254Z"
   },
   {
    "duration": 38,
    "start_time": "2024-10-14T13:42:55.286Z"
   },
   {
    "duration": 10,
    "start_time": "2024-10-14T13:42:55.325Z"
   },
   {
    "duration": 22,
    "start_time": "2024-10-14T13:42:55.336Z"
   },
   {
    "duration": 6,
    "start_time": "2024-10-14T13:42:55.359Z"
   },
   {
    "duration": 17,
    "start_time": "2024-10-14T13:42:55.367Z"
   },
   {
    "duration": 39,
    "start_time": "2024-10-14T13:42:55.386Z"
   },
   {
    "duration": 15,
    "start_time": "2024-10-14T13:42:55.427Z"
   },
   {
    "duration": 4,
    "start_time": "2024-10-14T13:42:55.443Z"
   },
   {
    "duration": 7,
    "start_time": "2024-10-14T13:42:55.451Z"
   },
   {
    "duration": 6,
    "start_time": "2024-10-14T13:42:55.460Z"
   },
   {
    "duration": 57,
    "start_time": "2024-10-14T13:42:55.467Z"
   },
   {
    "duration": 9,
    "start_time": "2024-10-14T13:42:55.526Z"
   },
   {
    "duration": 16,
    "start_time": "2024-10-14T13:42:55.538Z"
   },
   {
    "duration": 11587,
    "start_time": "2024-10-14T13:42:55.556Z"
   },
   {
    "duration": 33356,
    "start_time": "2024-10-14T13:43:07.146Z"
   },
   {
    "duration": 843,
    "start_time": "2024-10-14T13:44:19.560Z"
   },
   {
    "duration": 58,
    "start_time": "2024-10-14T13:44:20.405Z"
   },
   {
    "duration": 37,
    "start_time": "2024-10-14T13:44:20.464Z"
   },
   {
    "duration": 51,
    "start_time": "2024-10-14T13:44:20.502Z"
   },
   {
    "duration": 26,
    "start_time": "2024-10-14T13:44:20.555Z"
   },
   {
    "duration": 17,
    "start_time": "2024-10-14T13:44:20.583Z"
   },
   {
    "duration": 32,
    "start_time": "2024-10-14T13:44:20.602Z"
   },
   {
    "duration": 22,
    "start_time": "2024-10-14T13:44:20.636Z"
   },
   {
    "duration": 5,
    "start_time": "2024-10-14T13:44:20.660Z"
   },
   {
    "duration": 18,
    "start_time": "2024-10-14T13:44:20.667Z"
   },
   {
    "duration": 39,
    "start_time": "2024-10-14T13:44:20.686Z"
   },
   {
    "duration": 15,
    "start_time": "2024-10-14T13:44:20.727Z"
   },
   {
    "duration": 3,
    "start_time": "2024-10-14T13:44:20.744Z"
   },
   {
    "duration": 7,
    "start_time": "2024-10-14T13:44:20.751Z"
   },
   {
    "duration": 5,
    "start_time": "2024-10-14T13:44:20.760Z"
   },
   {
    "duration": 21,
    "start_time": "2024-10-14T13:44:20.767Z"
   },
   {
    "duration": 8,
    "start_time": "2024-10-14T13:44:20.825Z"
   },
   {
    "duration": 18,
    "start_time": "2024-10-14T13:44:20.834Z"
   },
   {
    "duration": 10885,
    "start_time": "2024-10-14T13:44:20.854Z"
   },
   {
    "duration": 33560,
    "start_time": "2024-10-14T13:44:31.740Z"
   },
   {
    "duration": 117026,
    "start_time": "2024-10-14T13:45:05.302Z"
   },
   {
    "duration": 1598,
    "start_time": "2024-10-14T13:47:02.330Z"
   },
   {
    "duration": 392,
    "start_time": "2024-10-14T13:47:03.930Z"
   },
   {
    "duration": 0,
    "start_time": "2024-10-14T13:47:04.324Z"
   },
   {
    "duration": 0,
    "start_time": "2024-10-14T13:47:04.325Z"
   },
   {
    "duration": 0,
    "start_time": "2024-10-14T13:47:04.326Z"
   },
   {
    "duration": 3,
    "start_time": "2024-10-14T13:49:23.542Z"
   },
   {
    "duration": 6391,
    "start_time": "2024-10-14T13:50:01.266Z"
   },
   {
    "duration": 54047,
    "start_time": "2024-10-14T13:50:34.996Z"
   },
   {
    "duration": 9158,
    "start_time": "2024-10-14T13:51:52.678Z"
   },
   {
    "duration": 21,
    "start_time": "2024-10-14T13:56:49.377Z"
   },
   {
    "duration": 23,
    "start_time": "2024-10-14T13:57:12.398Z"
   },
   {
    "duration": 4,
    "start_time": "2024-10-14T13:57:38.197Z"
   },
   {
    "duration": 2353,
    "start_time": "2024-10-14T13:57:48.667Z"
   },
   {
    "duration": 2139,
    "start_time": "2024-10-14T13:57:59.672Z"
   },
   {
    "duration": 957,
    "start_time": "2024-10-14T13:58:01.813Z"
   },
   {
    "duration": 0,
    "start_time": "2024-10-14T13:58:02.773Z"
   },
   {
    "duration": 0,
    "start_time": "2024-10-14T13:58:02.775Z"
   },
   {
    "duration": 0,
    "start_time": "2024-10-14T13:58:02.775Z"
   },
   {
    "duration": 0,
    "start_time": "2024-10-14T13:58:02.777Z"
   },
   {
    "duration": 0,
    "start_time": "2024-10-14T13:58:02.777Z"
   },
   {
    "duration": 0,
    "start_time": "2024-10-14T13:58:02.778Z"
   },
   {
    "duration": 0,
    "start_time": "2024-10-14T13:58:02.780Z"
   },
   {
    "duration": 0,
    "start_time": "2024-10-14T13:58:02.782Z"
   },
   {
    "duration": 0,
    "start_time": "2024-10-14T13:58:02.783Z"
   },
   {
    "duration": 0,
    "start_time": "2024-10-14T13:58:02.785Z"
   },
   {
    "duration": 0,
    "start_time": "2024-10-14T13:58:02.786Z"
   },
   {
    "duration": 0,
    "start_time": "2024-10-14T13:58:02.788Z"
   },
   {
    "duration": 0,
    "start_time": "2024-10-14T13:58:02.790Z"
   },
   {
    "duration": 0,
    "start_time": "2024-10-14T13:58:02.791Z"
   },
   {
    "duration": 0,
    "start_time": "2024-10-14T13:58:02.793Z"
   },
   {
    "duration": 0,
    "start_time": "2024-10-14T13:58:02.793Z"
   },
   {
    "duration": 0,
    "start_time": "2024-10-14T13:58:02.794Z"
   },
   {
    "duration": 0,
    "start_time": "2024-10-14T13:58:02.825Z"
   },
   {
    "duration": 0,
    "start_time": "2024-10-14T13:58:02.827Z"
   },
   {
    "duration": 0,
    "start_time": "2024-10-14T13:58:02.829Z"
   },
   {
    "duration": 0,
    "start_time": "2024-10-14T13:58:02.830Z"
   },
   {
    "duration": 0,
    "start_time": "2024-10-14T13:58:02.832Z"
   },
   {
    "duration": 0,
    "start_time": "2024-10-14T13:58:02.833Z"
   },
   {
    "duration": 0,
    "start_time": "2024-10-14T13:58:02.834Z"
   },
   {
    "duration": 0,
    "start_time": "2024-10-14T13:58:02.836Z"
   },
   {
    "duration": 0,
    "start_time": "2024-10-14T13:58:02.837Z"
   },
   {
    "duration": 0,
    "start_time": "2024-10-14T13:58:02.838Z"
   },
   {
    "duration": 0,
    "start_time": "2024-10-14T13:58:02.840Z"
   },
   {
    "duration": 14,
    "start_time": "2024-10-14T13:58:15.648Z"
   },
   {
    "duration": 20,
    "start_time": "2024-10-14T14:54:28.769Z"
   },
   {
    "duration": 2138,
    "start_time": "2024-10-14T14:54:43.230Z"
   },
   {
    "duration": 3634,
    "start_time": "2024-10-14T14:55:23.515Z"
   },
   {
    "duration": 19,
    "start_time": "2024-10-14T14:55:29.403Z"
   },
   {
    "duration": 15,
    "start_time": "2024-10-14T14:55:33.923Z"
   },
   {
    "duration": 17,
    "start_time": "2024-10-14T14:56:07.381Z"
   },
   {
    "duration": 1850,
    "start_time": "2024-10-14T14:56:15.937Z"
   },
   {
    "duration": 911,
    "start_time": "2024-10-14T14:56:17.789Z"
   },
   {
    "duration": 66,
    "start_time": "2024-10-14T14:56:18.702Z"
   },
   {
    "duration": 36,
    "start_time": "2024-10-14T14:56:18.770Z"
   },
   {
    "duration": 48,
    "start_time": "2024-10-14T14:56:18.809Z"
   },
   {
    "duration": 29,
    "start_time": "2024-10-14T14:56:18.859Z"
   },
   {
    "duration": 39,
    "start_time": "2024-10-14T14:56:18.889Z"
   },
   {
    "duration": 12,
    "start_time": "2024-10-14T14:56:18.930Z"
   },
   {
    "duration": 22,
    "start_time": "2024-10-14T14:56:18.943Z"
   },
   {
    "duration": 6,
    "start_time": "2024-10-14T14:56:18.968Z"
   },
   {
    "duration": 18,
    "start_time": "2024-10-14T14:56:18.975Z"
   },
   {
    "duration": 45,
    "start_time": "2024-10-14T14:56:18.995Z"
   },
   {
    "duration": 16,
    "start_time": "2024-10-14T14:56:19.042Z"
   },
   {
    "duration": 5,
    "start_time": "2024-10-14T14:56:19.062Z"
   },
   {
    "duration": 494,
    "start_time": "2024-10-14T14:56:19.069Z"
   },
   {
    "duration": 0,
    "start_time": "2024-10-14T14:56:19.565Z"
   },
   {
    "duration": 0,
    "start_time": "2024-10-14T14:56:19.566Z"
   },
   {
    "duration": 0,
    "start_time": "2024-10-14T14:56:19.566Z"
   },
   {
    "duration": 0,
    "start_time": "2024-10-14T14:56:19.571Z"
   },
   {
    "duration": 0,
    "start_time": "2024-10-14T14:56:19.572Z"
   },
   {
    "duration": 0,
    "start_time": "2024-10-14T14:56:19.573Z"
   },
   {
    "duration": 0,
    "start_time": "2024-10-14T14:56:19.574Z"
   },
   {
    "duration": 0,
    "start_time": "2024-10-14T14:56:19.575Z"
   },
   {
    "duration": 0,
    "start_time": "2024-10-14T14:56:19.577Z"
   },
   {
    "duration": 0,
    "start_time": "2024-10-14T14:56:19.579Z"
   },
   {
    "duration": 0,
    "start_time": "2024-10-14T14:56:19.580Z"
   },
   {
    "duration": 0,
    "start_time": "2024-10-14T14:56:19.581Z"
   },
   {
    "duration": 0,
    "start_time": "2024-10-14T14:56:19.583Z"
   },
   {
    "duration": 0,
    "start_time": "2024-10-14T14:56:19.584Z"
   },
   {
    "duration": 0,
    "start_time": "2024-10-14T14:56:19.586Z"
   },
   {
    "duration": 3907,
    "start_time": "2024-10-14T17:54:15.816Z"
   },
   {
    "duration": 988,
    "start_time": "2024-10-14T17:54:19.726Z"
   },
   {
    "duration": 0,
    "start_time": "2024-10-14T17:54:20.717Z"
   },
   {
    "duration": 0,
    "start_time": "2024-10-14T17:54:20.718Z"
   },
   {
    "duration": 0,
    "start_time": "2024-10-14T17:54:20.719Z"
   },
   {
    "duration": 0,
    "start_time": "2024-10-14T17:54:20.720Z"
   },
   {
    "duration": 0,
    "start_time": "2024-10-14T17:54:20.722Z"
   },
   {
    "duration": 0,
    "start_time": "2024-10-14T17:54:20.724Z"
   },
   {
    "duration": 0,
    "start_time": "2024-10-14T17:54:20.726Z"
   },
   {
    "duration": 0,
    "start_time": "2024-10-14T17:54:20.727Z"
   },
   {
    "duration": 0,
    "start_time": "2024-10-14T17:54:20.728Z"
   },
   {
    "duration": 0,
    "start_time": "2024-10-14T17:54:20.729Z"
   },
   {
    "duration": 0,
    "start_time": "2024-10-14T17:54:20.731Z"
   },
   {
    "duration": 0,
    "start_time": "2024-10-14T17:54:20.733Z"
   },
   {
    "duration": 0,
    "start_time": "2024-10-14T17:54:20.734Z"
   },
   {
    "duration": 0,
    "start_time": "2024-10-14T17:54:20.736Z"
   },
   {
    "duration": 0,
    "start_time": "2024-10-14T17:54:20.737Z"
   },
   {
    "duration": 0,
    "start_time": "2024-10-14T17:54:20.770Z"
   },
   {
    "duration": 0,
    "start_time": "2024-10-14T17:54:20.772Z"
   },
   {
    "duration": 0,
    "start_time": "2024-10-14T17:54:20.773Z"
   },
   {
    "duration": 0,
    "start_time": "2024-10-14T17:54:20.774Z"
   },
   {
    "duration": 0,
    "start_time": "2024-10-14T17:54:20.776Z"
   },
   {
    "duration": 0,
    "start_time": "2024-10-14T17:54:20.777Z"
   },
   {
    "duration": 0,
    "start_time": "2024-10-14T17:54:20.779Z"
   },
   {
    "duration": 0,
    "start_time": "2024-10-14T17:54:20.781Z"
   },
   {
    "duration": 0,
    "start_time": "2024-10-14T17:54:20.782Z"
   },
   {
    "duration": 0,
    "start_time": "2024-10-14T17:54:20.783Z"
   },
   {
    "duration": 0,
    "start_time": "2024-10-14T17:54:20.784Z"
   },
   {
    "duration": 0,
    "start_time": "2024-10-14T17:54:20.785Z"
   },
   {
    "duration": 1835,
    "start_time": "2024-10-14T17:55:52.537Z"
   },
   {
    "duration": 934,
    "start_time": "2024-10-14T17:55:54.375Z"
   },
   {
    "duration": 87,
    "start_time": "2024-10-14T17:55:55.310Z"
   },
   {
    "duration": 36,
    "start_time": "2024-10-14T17:55:55.399Z"
   },
   {
    "duration": 51,
    "start_time": "2024-10-14T17:55:55.437Z"
   },
   {
    "duration": 29,
    "start_time": "2024-10-14T17:55:55.489Z"
   },
   {
    "duration": 17,
    "start_time": "2024-10-14T17:55:55.519Z"
   },
   {
    "duration": 35,
    "start_time": "2024-10-14T17:55:55.538Z"
   },
   {
    "duration": 21,
    "start_time": "2024-10-14T17:55:55.574Z"
   },
   {
    "duration": 5,
    "start_time": "2024-10-14T17:55:55.599Z"
   },
   {
    "duration": 18,
    "start_time": "2024-10-14T17:55:55.606Z"
   },
   {
    "duration": 20,
    "start_time": "2024-10-14T17:55:55.625Z"
   },
   {
    "duration": 16,
    "start_time": "2024-10-14T17:55:55.671Z"
   },
   {
    "duration": 4,
    "start_time": "2024-10-14T17:55:55.688Z"
   },
   {
    "duration": 296,
    "start_time": "2024-10-14T17:55:55.693Z"
   },
   {
    "duration": 0,
    "start_time": "2024-10-14T17:55:55.991Z"
   },
   {
    "duration": 0,
    "start_time": "2024-10-14T17:55:55.992Z"
   },
   {
    "duration": 0,
    "start_time": "2024-10-14T17:55:55.993Z"
   },
   {
    "duration": 0,
    "start_time": "2024-10-14T17:55:55.995Z"
   },
   {
    "duration": 0,
    "start_time": "2024-10-14T17:55:55.996Z"
   },
   {
    "duration": 0,
    "start_time": "2024-10-14T17:55:55.998Z"
   },
   {
    "duration": 0,
    "start_time": "2024-10-14T17:55:55.999Z"
   },
   {
    "duration": 0,
    "start_time": "2024-10-14T17:55:56.001Z"
   },
   {
    "duration": 0,
    "start_time": "2024-10-14T17:55:56.002Z"
   },
   {
    "duration": 0,
    "start_time": "2024-10-14T17:55:56.004Z"
   },
   {
    "duration": 0,
    "start_time": "2024-10-14T17:55:56.006Z"
   },
   {
    "duration": 0,
    "start_time": "2024-10-14T17:55:56.007Z"
   },
   {
    "duration": 0,
    "start_time": "2024-10-14T17:55:56.008Z"
   },
   {
    "duration": 0,
    "start_time": "2024-10-14T17:55:56.009Z"
   },
   {
    "duration": 195,
    "start_time": "2024-10-14T17:56:30.383Z"
   },
   {
    "duration": 7,
    "start_time": "2024-10-14T17:56:30.937Z"
   },
   {
    "duration": 1824,
    "start_time": "2024-10-14T17:56:37.951Z"
   },
   {
    "duration": 934,
    "start_time": "2024-10-14T17:56:39.778Z"
   },
   {
    "duration": 56,
    "start_time": "2024-10-14T17:56:40.716Z"
   },
   {
    "duration": 36,
    "start_time": "2024-10-14T17:56:40.773Z"
   },
   {
    "duration": 59,
    "start_time": "2024-10-14T17:56:40.812Z"
   },
   {
    "duration": 29,
    "start_time": "2024-10-14T17:56:40.873Z"
   },
   {
    "duration": 18,
    "start_time": "2024-10-14T17:56:40.904Z"
   },
   {
    "duration": 10,
    "start_time": "2024-10-14T17:56:40.924Z"
   },
   {
    "duration": 51,
    "start_time": "2024-10-14T17:56:40.935Z"
   },
   {
    "duration": 6,
    "start_time": "2024-10-14T17:56:40.987Z"
   },
   {
    "duration": 18,
    "start_time": "2024-10-14T17:56:40.995Z"
   },
   {
    "duration": 19,
    "start_time": "2024-10-14T17:56:41.015Z"
   },
   {
    "duration": 40,
    "start_time": "2024-10-14T17:56:41.035Z"
   },
   {
    "duration": 4,
    "start_time": "2024-10-14T17:56:41.078Z"
   },
   {
    "duration": 469,
    "start_time": "2024-10-14T17:56:41.084Z"
   },
   {
    "duration": 0,
    "start_time": "2024-10-14T17:56:41.556Z"
   },
   {
    "duration": 0,
    "start_time": "2024-10-14T17:56:41.557Z"
   },
   {
    "duration": 0,
    "start_time": "2024-10-14T17:56:41.558Z"
   },
   {
    "duration": 0,
    "start_time": "2024-10-14T17:56:41.570Z"
   },
   {
    "duration": 0,
    "start_time": "2024-10-14T17:56:41.571Z"
   },
   {
    "duration": 0,
    "start_time": "2024-10-14T17:56:41.573Z"
   },
   {
    "duration": 0,
    "start_time": "2024-10-14T17:56:41.573Z"
   },
   {
    "duration": 0,
    "start_time": "2024-10-14T17:56:41.574Z"
   },
   {
    "duration": 0,
    "start_time": "2024-10-14T17:56:41.575Z"
   },
   {
    "duration": 0,
    "start_time": "2024-10-14T17:56:41.576Z"
   },
   {
    "duration": 0,
    "start_time": "2024-10-14T17:56:41.577Z"
   },
   {
    "duration": 0,
    "start_time": "2024-10-14T17:56:41.578Z"
   },
   {
    "duration": 0,
    "start_time": "2024-10-14T17:56:41.579Z"
   },
   {
    "duration": 0,
    "start_time": "2024-10-14T17:56:41.580Z"
   },
   {
    "duration": 0,
    "start_time": "2024-10-14T17:56:41.581Z"
   },
   {
    "duration": 18,
    "start_time": "2024-10-14T17:58:41.934Z"
   },
   {
    "duration": 4,
    "start_time": "2024-10-14T17:59:46.314Z"
   },
   {
    "duration": 220,
    "start_time": "2024-10-14T17:59:49.051Z"
   },
   {
    "duration": 1831,
    "start_time": "2024-10-14T18:00:04.941Z"
   },
   {
    "duration": 944,
    "start_time": "2024-10-14T18:00:06.775Z"
   },
   {
    "duration": 55,
    "start_time": "2024-10-14T18:00:07.721Z"
   },
   {
    "duration": 37,
    "start_time": "2024-10-14T18:00:07.778Z"
   },
   {
    "duration": 60,
    "start_time": "2024-10-14T18:00:07.817Z"
   },
   {
    "duration": 27,
    "start_time": "2024-10-14T18:00:07.879Z"
   },
   {
    "duration": 18,
    "start_time": "2024-10-14T18:00:07.907Z"
   },
   {
    "duration": 10,
    "start_time": "2024-10-14T18:00:07.927Z"
   },
   {
    "duration": 50,
    "start_time": "2024-10-14T18:00:07.939Z"
   },
   {
    "duration": 5,
    "start_time": "2024-10-14T18:00:07.991Z"
   },
   {
    "duration": 18,
    "start_time": "2024-10-14T18:00:07.998Z"
   },
   {
    "duration": 21,
    "start_time": "2024-10-14T18:00:08.017Z"
   },
   {
    "duration": 36,
    "start_time": "2024-10-14T18:00:08.040Z"
   },
   {
    "duration": 3,
    "start_time": "2024-10-14T18:00:08.080Z"
   },
   {
    "duration": 312,
    "start_time": "2024-10-14T18:00:08.085Z"
   },
   {
    "duration": 0,
    "start_time": "2024-10-14T18:00:08.399Z"
   },
   {
    "duration": 0,
    "start_time": "2024-10-14T18:00:08.400Z"
   },
   {
    "duration": 0,
    "start_time": "2024-10-14T18:00:08.401Z"
   },
   {
    "duration": 0,
    "start_time": "2024-10-14T18:00:08.402Z"
   },
   {
    "duration": 0,
    "start_time": "2024-10-14T18:00:08.403Z"
   },
   {
    "duration": 0,
    "start_time": "2024-10-14T18:00:08.403Z"
   },
   {
    "duration": 0,
    "start_time": "2024-10-14T18:00:08.404Z"
   },
   {
    "duration": 0,
    "start_time": "2024-10-14T18:00:08.405Z"
   },
   {
    "duration": 0,
    "start_time": "2024-10-14T18:00:08.406Z"
   },
   {
    "duration": 0,
    "start_time": "2024-10-14T18:00:08.407Z"
   },
   {
    "duration": 0,
    "start_time": "2024-10-14T18:00:08.408Z"
   },
   {
    "duration": 0,
    "start_time": "2024-10-14T18:00:08.409Z"
   },
   {
    "duration": 0,
    "start_time": "2024-10-14T18:00:08.410Z"
   },
   {
    "duration": 0,
    "start_time": "2024-10-14T18:00:08.411Z"
   },
   {
    "duration": 0,
    "start_time": "2024-10-14T18:00:08.412Z"
   },
   {
    "duration": 0,
    "start_time": "2024-10-14T18:00:08.413Z"
   },
   {
    "duration": 0,
    "start_time": "2024-10-14T18:00:08.414Z"
   },
   {
    "duration": 1861,
    "start_time": "2024-10-14T18:00:35.842Z"
   },
   {
    "duration": 895,
    "start_time": "2024-10-14T18:00:37.706Z"
   },
   {
    "duration": 52,
    "start_time": "2024-10-14T18:00:38.603Z"
   },
   {
    "duration": 45,
    "start_time": "2024-10-14T18:00:38.657Z"
   },
   {
    "duration": 38,
    "start_time": "2024-10-14T18:00:38.704Z"
   },
   {
    "duration": 40,
    "start_time": "2024-10-14T18:00:38.744Z"
   },
   {
    "duration": 17,
    "start_time": "2024-10-14T18:00:38.785Z"
   },
   {
    "duration": 9,
    "start_time": "2024-10-14T18:00:38.804Z"
   },
   {
    "duration": 22,
    "start_time": "2024-10-14T18:00:38.815Z"
   },
   {
    "duration": 33,
    "start_time": "2024-10-14T18:00:38.838Z"
   },
   {
    "duration": 18,
    "start_time": "2024-10-14T18:00:38.873Z"
   },
   {
    "duration": 19,
    "start_time": "2024-10-14T18:00:38.892Z"
   },
   {
    "duration": 15,
    "start_time": "2024-10-14T18:00:38.912Z"
   },
   {
    "duration": 3,
    "start_time": "2024-10-14T18:00:38.930Z"
   },
   {
    "duration": 4,
    "start_time": "2024-10-14T18:00:38.935Z"
   },
   {
    "duration": 200,
    "start_time": "2024-10-14T18:00:38.971Z"
   },
   {
    "duration": 7,
    "start_time": "2024-10-14T18:00:39.173Z"
   },
   {
    "duration": 19,
    "start_time": "2024-10-14T18:00:39.182Z"
   },
   {
    "duration": 11,
    "start_time": "2024-10-14T18:00:39.203Z"
   },
   {
    "duration": 16,
    "start_time": "2024-10-14T18:00:39.215Z"
   },
   {
    "duration": 22340,
    "start_time": "2024-10-14T18:00:39.232Z"
   },
   {
    "duration": 35967,
    "start_time": "2024-10-14T18:01:01.577Z"
   },
   {
    "duration": 124525,
    "start_time": "2024-10-14T18:01:37.546Z"
   },
   {
    "duration": 3104,
    "start_time": "2024-10-14T18:03:42.073Z"
   },
   {
    "duration": 16298,
    "start_time": "2024-10-14T18:03:45.179Z"
   },
   {
    "duration": 130413,
    "start_time": "2024-10-14T18:04:01.479Z"
   },
   {
    "duration": 427,
    "start_time": "2024-10-14T18:06:29.989Z"
   },
   {
    "duration": 0,
    "start_time": "2024-10-14T18:06:30.418Z"
   },
   {
    "duration": 0,
    "start_time": "2024-10-14T18:06:30.419Z"
   },
   {
    "duration": 0,
    "start_time": "2024-10-14T18:06:30.420Z"
   },
   {
    "duration": 0,
    "start_time": "2024-10-14T18:06:30.421Z"
   },
   {
    "duration": 0,
    "start_time": "2024-10-14T18:06:30.422Z"
   },
   {
    "duration": 1828,
    "start_time": "2024-10-14T18:08:58.134Z"
   },
   {
    "duration": 888,
    "start_time": "2024-10-14T18:08:59.964Z"
   },
   {
    "duration": 55,
    "start_time": "2024-10-14T18:09:00.854Z"
   },
   {
    "duration": 35,
    "start_time": "2024-10-14T18:09:00.912Z"
   },
   {
    "duration": 55,
    "start_time": "2024-10-14T18:09:00.948Z"
   },
   {
    "duration": 27,
    "start_time": "2024-10-14T18:09:01.004Z"
   },
   {
    "duration": 37,
    "start_time": "2024-10-14T18:09:01.033Z"
   },
   {
    "duration": 10,
    "start_time": "2024-10-14T18:09:01.072Z"
   },
   {
    "duration": 22,
    "start_time": "2024-10-14T18:09:01.084Z"
   },
   {
    "duration": 6,
    "start_time": "2024-10-14T18:09:01.109Z"
   },
   {
    "duration": 18,
    "start_time": "2024-10-14T18:09:01.117Z"
   },
   {
    "duration": 44,
    "start_time": "2024-10-14T18:09:01.136Z"
   },
   {
    "duration": 15,
    "start_time": "2024-10-14T18:09:01.182Z"
   },
   {
    "duration": 3,
    "start_time": "2024-10-14T18:09:01.199Z"
   },
   {
    "duration": 3,
    "start_time": "2024-10-14T18:09:01.204Z"
   },
   {
    "duration": 177,
    "start_time": "2024-10-14T18:09:01.209Z"
   },
   {
    "duration": 7,
    "start_time": "2024-10-14T18:09:01.388Z"
   },
   {
    "duration": 28,
    "start_time": "2024-10-14T18:09:01.397Z"
   },
   {
    "duration": 52,
    "start_time": "2024-10-14T18:09:01.426Z"
   },
   {
    "duration": 16,
    "start_time": "2024-10-14T18:09:01.480Z"
   },
   {
    "duration": 315,
    "start_time": "2024-10-14T18:09:01.498Z"
   },
   {
    "duration": 0,
    "start_time": "2024-10-14T18:09:01.815Z"
   },
   {
    "duration": 0,
    "start_time": "2024-10-14T18:09:01.816Z"
   },
   {
    "duration": 0,
    "start_time": "2024-10-14T18:09:01.817Z"
   },
   {
    "duration": 0,
    "start_time": "2024-10-14T18:09:01.819Z"
   },
   {
    "duration": 0,
    "start_time": "2024-10-14T18:09:01.821Z"
   },
   {
    "duration": 0,
    "start_time": "2024-10-14T18:09:01.822Z"
   },
   {
    "duration": 0,
    "start_time": "2024-10-14T18:09:01.823Z"
   },
   {
    "duration": 0,
    "start_time": "2024-10-14T18:09:01.825Z"
   },
   {
    "duration": 0,
    "start_time": "2024-10-14T18:09:01.826Z"
   },
   {
    "duration": 1841,
    "start_time": "2024-10-14T18:10:11.555Z"
   },
   {
    "duration": 917,
    "start_time": "2024-10-14T18:10:13.399Z"
   },
   {
    "duration": 56,
    "start_time": "2024-10-14T18:10:14.318Z"
   },
   {
    "duration": 34,
    "start_time": "2024-10-14T18:10:14.376Z"
   },
   {
    "duration": 38,
    "start_time": "2024-10-14T18:10:14.413Z"
   },
   {
    "duration": 27,
    "start_time": "2024-10-14T18:10:14.470Z"
   },
   {
    "duration": 18,
    "start_time": "2024-10-14T18:10:14.498Z"
   },
   {
    "duration": 10,
    "start_time": "2024-10-14T18:10:14.517Z"
   },
   {
    "duration": 47,
    "start_time": "2024-10-14T18:10:14.530Z"
   },
   {
    "duration": 8,
    "start_time": "2024-10-14T18:10:14.578Z"
   },
   {
    "duration": 17,
    "start_time": "2024-10-14T18:10:14.587Z"
   },
   {
    "duration": 18,
    "start_time": "2024-10-14T18:10:14.606Z"
   },
   {
    "duration": 15,
    "start_time": "2024-10-14T18:10:14.626Z"
   },
   {
    "duration": 27,
    "start_time": "2024-10-14T18:10:14.645Z"
   },
   {
    "duration": 4,
    "start_time": "2024-10-14T18:10:14.674Z"
   },
   {
    "duration": 198,
    "start_time": "2024-10-14T18:10:14.679Z"
   },
   {
    "duration": 8,
    "start_time": "2024-10-14T18:10:14.879Z"
   },
   {
    "duration": 26,
    "start_time": "2024-10-14T18:10:14.889Z"
   },
   {
    "duration": 10,
    "start_time": "2024-10-14T18:10:14.918Z"
   },
   {
    "duration": 40,
    "start_time": "2024-10-14T18:10:14.930Z"
   },
   {
    "duration": 24217,
    "start_time": "2024-10-14T18:10:14.972Z"
   },
   {
    "duration": 425,
    "start_time": "2024-10-14T18:10:39.193Z"
   },
   {
    "duration": 0,
    "start_time": "2024-10-14T18:10:39.620Z"
   },
   {
    "duration": 0,
    "start_time": "2024-10-14T18:10:39.622Z"
   },
   {
    "duration": 0,
    "start_time": "2024-10-14T18:10:39.623Z"
   },
   {
    "duration": 0,
    "start_time": "2024-10-14T18:10:39.624Z"
   },
   {
    "duration": 0,
    "start_time": "2024-10-14T18:10:39.625Z"
   },
   {
    "duration": 0,
    "start_time": "2024-10-14T18:10:39.626Z"
   },
   {
    "duration": 0,
    "start_time": "2024-10-14T18:10:39.628Z"
   },
   {
    "duration": 0,
    "start_time": "2024-10-14T18:10:39.629Z"
   },
   {
    "duration": 37285,
    "start_time": "2024-10-14T18:11:46.041Z"
   },
   {
    "duration": 37567,
    "start_time": "2024-10-14T18:12:51.955Z"
   },
   {
    "duration": 17,
    "start_time": "2024-10-14T18:13:58.757Z"
   },
   {
    "duration": 128626,
    "start_time": "2024-10-14T18:14:17.552Z"
   },
   {
    "duration": 1655,
    "start_time": "2024-10-14T18:16:45.320Z"
   },
   {
    "duration": 20235,
    "start_time": "2024-10-14T18:16:50.137Z"
   },
   {
    "duration": 18291,
    "start_time": "2024-10-14T18:17:16.779Z"
   },
   {
    "duration": 39058,
    "start_time": "2024-10-14T18:17:39.930Z"
   },
   {
    "duration": 467520,
    "start_time": "2024-10-14T18:19:33.368Z"
   },
   {
    "duration": 18949,
    "start_time": "2024-10-14T18:27:20.891Z"
   },
   {
    "duration": 4,
    "start_time": "2024-10-14T18:28:59.167Z"
   },
   {
    "duration": 3,
    "start_time": "2024-10-14T18:30:03.472Z"
   },
   {
    "duration": 1893,
    "start_time": "2024-10-14T18:30:14.838Z"
   },
   {
    "duration": 907,
    "start_time": "2024-10-14T18:30:16.735Z"
   },
   {
    "duration": 60,
    "start_time": "2024-10-14T18:30:17.644Z"
   },
   {
    "duration": 38,
    "start_time": "2024-10-14T18:30:17.706Z"
   },
   {
    "duration": 50,
    "start_time": "2024-10-14T18:30:17.747Z"
   },
   {
    "duration": 28,
    "start_time": "2024-10-14T18:30:17.799Z"
   },
   {
    "duration": 18,
    "start_time": "2024-10-14T18:30:17.829Z"
   },
   {
    "duration": 29,
    "start_time": "2024-10-14T18:30:17.849Z"
   },
   {
    "duration": 22,
    "start_time": "2024-10-14T18:30:17.880Z"
   },
   {
    "duration": 5,
    "start_time": "2024-10-14T18:30:17.904Z"
   },
   {
    "duration": 18,
    "start_time": "2024-10-14T18:30:17.911Z"
   },
   {
    "duration": 48,
    "start_time": "2024-10-14T18:30:17.931Z"
   },
   {
    "duration": 16,
    "start_time": "2024-10-14T18:30:17.980Z"
   },
   {
    "duration": 3,
    "start_time": "2024-10-14T18:30:17.999Z"
   },
   {
    "duration": 3,
    "start_time": "2024-10-14T18:30:18.004Z"
   },
   {
    "duration": 172,
    "start_time": "2024-10-14T18:30:18.008Z"
   },
   {
    "duration": 6,
    "start_time": "2024-10-14T18:30:18.182Z"
   },
   {
    "duration": 20,
    "start_time": "2024-10-14T18:30:18.189Z"
   },
   {
    "duration": 10,
    "start_time": "2024-10-14T18:30:18.211Z"
   },
   {
    "duration": 56,
    "start_time": "2024-10-14T18:30:18.223Z"
   },
   {
    "duration": 27189,
    "start_time": "2024-10-14T18:30:18.281Z"
   },
   {
    "duration": 37396,
    "start_time": "2024-10-14T18:30:45.472Z"
   },
   {
    "duration": 125727,
    "start_time": "2024-10-14T18:31:22.871Z"
   },
   {
    "duration": 1620,
    "start_time": "2024-10-14T18:33:28.671Z"
   },
   {
    "duration": 20682,
    "start_time": "2024-10-14T18:33:30.293Z"
   },
   {
    "duration": 18194,
    "start_time": "2024-10-14T18:33:50.977Z"
   },
   {
    "duration": 1891,
    "start_time": "2024-10-14T18:36:03.590Z"
   },
   {
    "duration": 953,
    "start_time": "2024-10-14T18:36:05.483Z"
   },
   {
    "duration": 67,
    "start_time": "2024-10-14T18:36:06.438Z"
   },
   {
    "duration": 42,
    "start_time": "2024-10-14T18:36:06.508Z"
   },
   {
    "duration": 55,
    "start_time": "2024-10-14T18:36:06.553Z"
   },
   {
    "duration": 27,
    "start_time": "2024-10-14T18:36:06.610Z"
   },
   {
    "duration": 38,
    "start_time": "2024-10-14T18:36:06.639Z"
   },
   {
    "duration": 10,
    "start_time": "2024-10-14T18:36:06.680Z"
   },
   {
    "duration": 22,
    "start_time": "2024-10-14T18:36:06.692Z"
   },
   {
    "duration": 7,
    "start_time": "2024-10-14T18:36:06.718Z"
   },
   {
    "duration": 18,
    "start_time": "2024-10-14T18:36:06.727Z"
   },
   {
    "duration": 23,
    "start_time": "2024-10-14T18:36:06.770Z"
   },
   {
    "duration": 16,
    "start_time": "2024-10-14T18:36:06.795Z"
   },
   {
    "duration": 4,
    "start_time": "2024-10-14T18:36:06.813Z"
   },
   {
    "duration": 3,
    "start_time": "2024-10-14T18:36:06.819Z"
   },
   {
    "duration": 167,
    "start_time": "2024-10-14T18:36:06.824Z"
   },
   {
    "duration": 84,
    "start_time": "2024-10-14T18:36:06.994Z"
   },
   {
    "duration": 10,
    "start_time": "2024-10-14T18:36:07.080Z"
   },
   {
    "duration": 16,
    "start_time": "2024-10-14T18:36:07.092Z"
   },
   {
    "duration": 25380,
    "start_time": "2024-10-14T18:36:07.110Z"
   },
   {
    "duration": 37528,
    "start_time": "2024-10-14T18:36:32.491Z"
   },
   {
    "duration": 1846,
    "start_time": "2024-10-14T18:37:18.304Z"
   },
   {
    "duration": 877,
    "start_time": "2024-10-14T18:37:20.154Z"
   },
   {
    "duration": 58,
    "start_time": "2024-10-14T18:37:21.033Z"
   },
   {
    "duration": 37,
    "start_time": "2024-10-14T18:37:21.093Z"
   },
   {
    "duration": 62,
    "start_time": "2024-10-14T18:37:21.133Z"
   },
   {
    "duration": 34,
    "start_time": "2024-10-14T18:37:21.197Z"
   },
   {
    "duration": 36,
    "start_time": "2024-10-14T18:37:21.234Z"
   },
   {
    "duration": 11,
    "start_time": "2024-10-14T18:37:21.274Z"
   },
   {
    "duration": 24,
    "start_time": "2024-10-14T18:37:21.287Z"
   },
   {
    "duration": 6,
    "start_time": "2024-10-14T18:37:21.313Z"
   },
   {
    "duration": 19,
    "start_time": "2024-10-14T18:37:21.321Z"
   },
   {
    "duration": 45,
    "start_time": "2024-10-14T18:37:21.342Z"
   },
   {
    "duration": 17,
    "start_time": "2024-10-14T18:37:21.389Z"
   },
   {
    "duration": 6,
    "start_time": "2024-10-14T18:37:21.410Z"
   },
   {
    "duration": 3,
    "start_time": "2024-10-14T18:37:21.418Z"
   },
   {
    "duration": 176,
    "start_time": "2024-10-14T18:37:21.423Z"
   },
   {
    "duration": 13,
    "start_time": "2024-10-14T18:37:21.601Z"
   },
   {
    "duration": 12,
    "start_time": "2024-10-14T18:37:21.616Z"
   },
   {
    "duration": 49,
    "start_time": "2024-10-14T18:37:21.630Z"
   },
   {
    "duration": 91,
    "start_time": "2024-10-14T18:37:21.681Z"
   },
   {
    "duration": 37738,
    "start_time": "2024-10-14T18:37:21.774Z"
   },
   {
    "duration": 1831,
    "start_time": "2024-10-14T18:39:12.144Z"
   },
   {
    "duration": 956,
    "start_time": "2024-10-14T18:39:13.977Z"
   },
   {
    "duration": 57,
    "start_time": "2024-10-14T18:39:14.934Z"
   },
   {
    "duration": 35,
    "start_time": "2024-10-14T18:39:14.994Z"
   },
   {
    "duration": 60,
    "start_time": "2024-10-14T18:39:15.031Z"
   },
   {
    "duration": 27,
    "start_time": "2024-10-14T18:39:15.092Z"
   },
   {
    "duration": 18,
    "start_time": "2024-10-14T18:39:15.121Z"
   },
   {
    "duration": 32,
    "start_time": "2024-10-14T18:39:15.140Z"
   },
   {
    "duration": 22,
    "start_time": "2024-10-14T18:39:15.173Z"
   },
   {
    "duration": 6,
    "start_time": "2024-10-14T18:39:15.198Z"
   },
   {
    "duration": 18,
    "start_time": "2024-10-14T18:39:15.223Z"
   },
   {
    "duration": 22,
    "start_time": "2024-10-14T18:39:15.409Z"
   },
   {
    "duration": 16,
    "start_time": "2024-10-14T18:39:15.745Z"
   },
   {
    "duration": 4,
    "start_time": "2024-10-14T18:39:16.089Z"
   },
   {
    "duration": 4,
    "start_time": "2024-10-14T18:39:16.656Z"
   },
   {
    "duration": 128,
    "start_time": "2024-10-14T18:39:16.965Z"
   },
   {
    "duration": 9,
    "start_time": "2024-10-14T18:39:17.270Z"
   },
   {
    "duration": 12,
    "start_time": "2024-10-14T18:39:17.533Z"
   },
   {
    "duration": 17,
    "start_time": "2024-10-14T18:39:17.822Z"
   },
   {
    "duration": 24,
    "start_time": "2024-10-14T18:39:18.364Z"
   },
   {
    "duration": 68419,
    "start_time": "2024-10-14T18:40:26.971Z"
   },
   {
    "duration": 29104,
    "start_time": "2024-10-14T18:49:36.378Z"
   },
   {
    "duration": 7070,
    "start_time": "2024-10-14T18:50:09.318Z"
   },
   {
    "duration": 992,
    "start_time": "2024-10-14T18:50:19.287Z"
   },
   {
    "duration": 2854,
    "start_time": "2024-10-14T18:50:24.723Z"
   },
   {
    "duration": 2570,
    "start_time": "2024-10-14T18:51:24.114Z"
   },
   {
    "duration": 2791,
    "start_time": "2024-10-14T18:52:03.699Z"
   },
   {
    "duration": 2765,
    "start_time": "2024-10-14T18:52:43.117Z"
   },
   {
    "duration": 233,
    "start_time": "2024-10-14T18:53:44.238Z"
   },
   {
    "duration": 2783,
    "start_time": "2024-10-14T18:54:03.993Z"
   },
   {
    "duration": 3,
    "start_time": "2024-10-14T18:54:35.642Z"
   },
   {
    "duration": 4550,
    "start_time": "2024-10-14T18:58:42.242Z"
   },
   {
    "duration": 1261,
    "start_time": "2024-10-14T18:59:30.909Z"
   },
   {
    "duration": 4985,
    "start_time": "2024-10-14T18:59:36.301Z"
   },
   {
    "duration": 3243,
    "start_time": "2024-10-14T19:00:45.188Z"
   },
   {
    "duration": 16,
    "start_time": "2024-10-14T19:01:47.189Z"
   },
   {
    "duration": 2839,
    "start_time": "2024-10-14T19:02:20.135Z"
   },
   {
    "duration": 898,
    "start_time": "2024-10-14T19:21:07.932Z"
   },
   {
    "duration": 56,
    "start_time": "2024-10-14T19:21:08.833Z"
   },
   {
    "duration": 36,
    "start_time": "2024-10-14T19:21:08.893Z"
   },
   {
    "duration": 63,
    "start_time": "2024-10-14T19:21:08.936Z"
   },
   {
    "duration": 28,
    "start_time": "2024-10-14T19:21:09.001Z"
   },
   {
    "duration": 18,
    "start_time": "2024-10-14T19:21:09.030Z"
   },
   {
    "duration": 28,
    "start_time": "2024-10-14T19:21:09.049Z"
   },
   {
    "duration": 22,
    "start_time": "2024-10-14T19:21:09.079Z"
   },
   {
    "duration": 6,
    "start_time": "2024-10-14T19:21:09.103Z"
   },
   {
    "duration": 18,
    "start_time": "2024-10-14T19:21:09.111Z"
   },
   {
    "duration": 44,
    "start_time": "2024-10-14T19:21:09.131Z"
   },
   {
    "duration": 15,
    "start_time": "2024-10-14T19:21:09.178Z"
   },
   {
    "duration": 3,
    "start_time": "2024-10-14T19:21:09.196Z"
   },
   {
    "duration": 3,
    "start_time": "2024-10-14T19:21:09.201Z"
   },
   {
    "duration": 175,
    "start_time": "2024-10-14T19:21:09.206Z"
   },
   {
    "duration": 8,
    "start_time": "2024-10-14T19:21:09.383Z"
   },
   {
    "duration": 11,
    "start_time": "2024-10-14T19:21:09.393Z"
   },
   {
    "duration": 15,
    "start_time": "2024-10-14T19:21:09.406Z"
   },
   {
    "duration": 66,
    "start_time": "2024-10-14T19:21:09.423Z"
   },
   {
    "duration": 69404,
    "start_time": "2024-10-14T19:21:09.491Z"
   },
   {
    "duration": 29390,
    "start_time": "2024-10-14T19:22:18.897Z"
   },
   {
    "duration": 7097,
    "start_time": "2024-10-14T19:22:48.289Z"
   },
   {
    "duration": 1291,
    "start_time": "2024-10-14T19:22:55.388Z"
   },
   {
    "duration": 2992,
    "start_time": "2024-10-14T19:22:56.682Z"
   },
   {
    "duration": 4,
    "start_time": "2024-10-14T19:22:59.676Z"
   },
   {
    "duration": 1089,
    "start_time": "2024-10-14T20:42:00.568Z"
   },
   {
    "duration": 0,
    "start_time": "2024-10-14T20:42:01.659Z"
   },
   {
    "duration": 0,
    "start_time": "2024-10-14T20:42:01.660Z"
   },
   {
    "duration": 32,
    "start_time": "2024-10-14T20:42:02.088Z"
   },
   {
    "duration": 29,
    "start_time": "2024-10-14T20:42:02.517Z"
   },
   {
    "duration": 15,
    "start_time": "2024-10-14T20:42:13.653Z"
   },
   {
    "duration": 102,
    "start_time": "2024-10-14T20:42:14.379Z"
   },
   {
    "duration": 44,
    "start_time": "2024-10-14T20:42:15.421Z"
   },
   {
    "duration": 41,
    "start_time": "2024-10-14T20:42:15.937Z"
   },
   {
    "duration": 27,
    "start_time": "2024-10-14T20:42:16.570Z"
   },
   {
    "duration": 18,
    "start_time": "2024-10-14T20:42:17.050Z"
   },
   {
    "duration": 11,
    "start_time": "2024-10-14T20:42:17.540Z"
   },
   {
    "duration": 23,
    "start_time": "2024-10-14T20:42:17.762Z"
   },
   {
    "duration": 7,
    "start_time": "2024-10-14T20:42:18.029Z"
   },
   {
    "duration": 36,
    "start_time": "2024-10-14T20:42:18.288Z"
   },
   {
    "duration": 20,
    "start_time": "2024-10-14T20:42:18.548Z"
   },
   {
    "duration": 16,
    "start_time": "2024-10-14T20:42:18.927Z"
   },
   {
    "duration": 6,
    "start_time": "2024-10-14T20:42:19.167Z"
   },
   {
    "duration": 4,
    "start_time": "2024-10-14T20:42:19.577Z"
   },
   {
    "duration": 21,
    "start_time": "2024-10-14T20:42:19.769Z"
   },
   {
    "duration": 9,
    "start_time": "2024-10-14T20:42:19.951Z"
   },
   {
    "duration": 10,
    "start_time": "2024-10-14T20:42:20.133Z"
   },
   {
    "duration": 19,
    "start_time": "2024-10-14T20:42:20.313Z"
   },
   {
    "duration": 1005,
    "start_time": "2024-10-14T20:42:44.397Z"
   },
   {
    "duration": 0,
    "start_time": "2024-10-14T20:42:45.417Z"
   },
   {
    "duration": 0,
    "start_time": "2024-10-14T20:42:45.417Z"
   },
   {
    "duration": 0,
    "start_time": "2024-10-14T20:42:45.418Z"
   },
   {
    "duration": 0,
    "start_time": "2024-10-14T20:42:45.419Z"
   },
   {
    "duration": 0,
    "start_time": "2024-10-14T20:42:45.419Z"
   },
   {
    "duration": 0,
    "start_time": "2024-10-14T20:42:45.420Z"
   },
   {
    "duration": 0,
    "start_time": "2024-10-14T20:42:45.421Z"
   },
   {
    "duration": 0,
    "start_time": "2024-10-14T20:42:45.421Z"
   },
   {
    "duration": 0,
    "start_time": "2024-10-14T20:42:45.422Z"
   },
   {
    "duration": 0,
    "start_time": "2024-10-14T20:42:45.423Z"
   },
   {
    "duration": 0,
    "start_time": "2024-10-14T20:42:45.423Z"
   },
   {
    "duration": 0,
    "start_time": "2024-10-14T20:42:45.424Z"
   },
   {
    "duration": 0,
    "start_time": "2024-10-14T20:42:45.425Z"
   },
   {
    "duration": 0,
    "start_time": "2024-10-14T20:42:45.425Z"
   },
   {
    "duration": 0,
    "start_time": "2024-10-14T20:42:45.426Z"
   },
   {
    "duration": 0,
    "start_time": "2024-10-14T20:42:45.426Z"
   },
   {
    "duration": 0,
    "start_time": "2024-10-14T20:42:45.429Z"
   },
   {
    "duration": 0,
    "start_time": "2024-10-14T20:42:45.433Z"
   },
   {
    "duration": 0,
    "start_time": "2024-10-14T20:42:45.433Z"
   },
   {
    "duration": 0,
    "start_time": "2024-10-14T20:42:45.434Z"
   },
   {
    "duration": 0,
    "start_time": "2024-10-14T20:42:45.435Z"
   },
   {
    "duration": 0,
    "start_time": "2024-10-14T20:42:45.435Z"
   },
   {
    "duration": 0,
    "start_time": "2024-10-14T20:42:45.436Z"
   },
   {
    "duration": 0,
    "start_time": "2024-10-14T20:42:45.437Z"
   },
   {
    "duration": 4177,
    "start_time": "2024-10-14T20:43:06.335Z"
   },
   {
    "duration": 1957,
    "start_time": "2024-10-14T20:43:17.438Z"
   },
   {
    "duration": 962,
    "start_time": "2024-10-14T20:43:19.398Z"
   },
   {
    "duration": 70,
    "start_time": "2024-10-14T20:43:20.364Z"
   },
   {
    "duration": 36,
    "start_time": "2024-10-14T20:43:20.436Z"
   },
   {
    "duration": 60,
    "start_time": "2024-10-14T20:43:20.474Z"
   },
   {
    "duration": 28,
    "start_time": "2024-10-14T20:43:20.539Z"
   },
   {
    "duration": 18,
    "start_time": "2024-10-14T20:43:20.568Z"
   },
   {
    "duration": 10,
    "start_time": "2024-10-14T20:43:20.588Z"
   },
   {
    "duration": 35,
    "start_time": "2024-10-14T20:43:20.600Z"
   },
   {
    "duration": 6,
    "start_time": "2024-10-14T20:43:20.637Z"
   },
   {
    "duration": 18,
    "start_time": "2024-10-14T20:43:20.645Z"
   },
   {
    "duration": 30,
    "start_time": "2024-10-14T20:43:20.664Z"
   },
   {
    "duration": 24,
    "start_time": "2024-10-14T20:43:20.710Z"
   },
   {
    "duration": 4,
    "start_time": "2024-10-14T20:43:20.735Z"
   },
   {
    "duration": 11,
    "start_time": "2024-10-14T20:43:20.741Z"
   },
   {
    "duration": 101,
    "start_time": "2024-10-14T20:43:20.753Z"
   },
   {
    "duration": 25,
    "start_time": "2024-10-14T20:43:20.910Z"
   },
   {
    "duration": 10,
    "start_time": "2024-10-14T20:43:20.937Z"
   },
   {
    "duration": 16,
    "start_time": "2024-10-14T20:43:20.949Z"
   },
   {
    "duration": 184,
    "start_time": "2024-10-14T20:43:20.967Z"
   },
   {
    "duration": 70384,
    "start_time": "2024-10-14T20:43:21.153Z"
   },
   {
    "duration": 138201,
    "start_time": "2024-10-14T20:44:31.539Z"
   },
   {
    "duration": 36381,
    "start_time": "2024-10-14T20:46:49.743Z"
   },
   {
    "duration": 2117,
    "start_time": "2024-10-14T20:47:26.126Z"
   },
   {
    "duration": 7390,
    "start_time": "2024-10-14T20:47:28.245Z"
   },
   {
    "duration": 6,
    "start_time": "2024-10-14T20:47:35.645Z"
   }
  ],
  "kernelspec": {
   "display_name": "Python 3 (ipykernel)",
   "language": "python",
   "name": "python3"
  },
  "language_info": {
   "codemirror_mode": {
    "name": "ipython",
    "version": 3
   },
   "file_extension": ".py",
   "mimetype": "text/x-python",
   "name": "python",
   "nbconvert_exporter": "python",
   "pygments_lexer": "ipython3",
   "version": "3.9.19"
  },
  "toc": {
   "base_numbering": 1,
   "nav_menu": {},
   "number_sections": true,
   "sideBar": true,
   "skip_h1_title": true,
   "title_cell": "Table of Contents",
   "title_sidebar": "Contents",
   "toc_cell": false,
   "toc_position": {},
   "toc_section_display": true,
   "toc_window_display": false
  }
 },
 "nbformat": 4,
 "nbformat_minor": 5
}
